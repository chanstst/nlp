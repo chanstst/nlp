{
 "cells": [
  {
   "cell_type": "markdown",
   "metadata": {},
   "source": [
    "# Project 3: Web APIs & Classification"
   ]
  },
  {
   "cell_type": "markdown",
   "metadata": {},
   "source": [
    "## Step 5: No stemming"
   ]
  },
  {
   "cell_type": "markdown",
   "metadata": {},
   "source": [
    "It is not straight forward to understand what important features mean after stemming. Exploring what would be the outcome if stemming is not part of the process\n"
   ]
  },
  {
   "cell_type": "markdown",
   "metadata": {},
   "source": [
    "### Importing libaries\n",
    "---"
   ]
  },
  {
   "cell_type": "code",
   "execution_count": 1,
   "metadata": {},
   "outputs": [],
   "source": [
    "import pandas as pd\n",
    "import numpy as np\n",
    "import re\n",
    "import matplotlib.pyplot as plt\n",
    "from nltk.corpus import stopwords\n",
    "from nltk.tokenize import RegexpTokenizer\n",
    "from nltk.stem import WordNetLemmatizer\n",
    "from nltk.stem.porter import PorterStemmer\n",
    "from sklearn.pipeline import Pipeline\n",
    "from sklearn.model_selection import train_test_split, GridSearchCV\n",
    "from sklearn.linear_model import LogisticRegression\n",
    "from sklearn.feature_extraction.text import CountVectorizer, TfidfVectorizer"
   ]
  },
  {
   "cell_type": "markdown",
   "metadata": {},
   "source": [
    "## Load the Data\n",
    "\n",
    "---\n",
    "\n"
   ]
  },
  {
   "cell_type": "code",
   "execution_count": 2,
   "metadata": {},
   "outputs": [],
   "source": [
    "# load from csv files\n",
    "pd_dem = pd.read_csv(\"../data/democrats_comments.csv\")\n",
    "pd_con = pd.read_csv(\"../data/conservatives_comments.csv\")"
   ]
  },
  {
   "cell_type": "code",
   "execution_count": 3,
   "metadata": {},
   "outputs": [],
   "source": [
    "# add label: democrats as 1, con as -1 (vs 0 in the last step)\n",
    "pd_dem[\"label\"] = 1\n",
    "pd_con[\"label\"] = -1"
   ]
  },
  {
   "cell_type": "code",
   "execution_count": 4,
   "metadata": {},
   "outputs": [],
   "source": [
    "data = pd.concat([pd_dem, pd_con])\n",
    "data.reset_index(inplace=True)"
   ]
  },
  {
   "cell_type": "code",
   "execution_count": 5,
   "metadata": {},
   "outputs": [
    {
     "data": {
      "text/plain": [
       "(1990, 7)"
      ]
     },
     "execution_count": 5,
     "metadata": {},
     "output_type": "execute_result"
    }
   ],
   "source": [
    "data.shape"
   ]
  },
  {
   "cell_type": "code",
   "execution_count": 6,
   "metadata": {},
   "outputs": [
    {
     "data": {
      "text/html": [
       "<div>\n",
       "<style scoped>\n",
       "    .dataframe tbody tr th:only-of-type {\n",
       "        vertical-align: middle;\n",
       "    }\n",
       "\n",
       "    .dataframe tbody tr th {\n",
       "        vertical-align: top;\n",
       "    }\n",
       "\n",
       "    .dataframe thead th {\n",
       "        text-align: right;\n",
       "    }\n",
       "</style>\n",
       "<table border=\"1\" class=\"dataframe\">\n",
       "  <thead>\n",
       "    <tr style=\"text-align: right;\">\n",
       "      <th></th>\n",
       "      <th>index</th>\n",
       "      <th>name</th>\n",
       "      <th>title</th>\n",
       "      <th>url_comments</th>\n",
       "      <th>comments</th>\n",
       "      <th>selftext</th>\n",
       "      <th>label</th>\n",
       "    </tr>\n",
       "  </thead>\n",
       "  <tbody>\n",
       "    <tr>\n",
       "      <th>0</th>\n",
       "      <td>0</td>\n",
       "      <td>t3_kv4lr7</td>\n",
       "      <td>House Democrats launch second impeachment of T...</td>\n",
       "      <td>https://www.reddit.com/r/democrats/comments/kv...</td>\n",
       "      <td>Are they waiting for a response from Pence re ...</td>\n",
       "      <td>The House Article of Impeachment will be intro...</td>\n",
       "      <td>1</td>\n",
       "    </tr>\n",
       "    <tr>\n",
       "      <th>1</th>\n",
       "      <td>1</td>\n",
       "      <td>t3_kvg3xu</td>\n",
       "      <td>Do I have to</td>\n",
       "      <td>https://www.reddit.com/r/democrats/comments/kv...</td>\n",
       "      <td>Every time I look at Pence  he reminds me of S...</td>\n",
       "      <td>NaN</td>\n",
       "      <td>1</td>\n",
       "    </tr>\n",
       "    <tr>\n",
       "      <th>2</th>\n",
       "      <td>2</td>\n",
       "      <td>t3_kv4oca</td>\n",
       "      <td>Camp Auschwitz  guy identified</td>\n",
       "      <td>https://www.reddit.com/r/democrats/comments/kv...</td>\n",
       "      <td>Trump thought the riot looked  low class  I wo...</td>\n",
       "      <td>NaN</td>\n",
       "      <td>1</td>\n",
       "    </tr>\n",
       "    <tr>\n",
       "      <th>3</th>\n",
       "      <td>3</td>\n",
       "      <td>t3_kvekkt</td>\n",
       "      <td>No Crawling Back</td>\n",
       "      <td>https://www.reddit.com/r/democrats/comments/kv...</td>\n",
       "      <td>I just love how AOC takes no prisoners. She la...</td>\n",
       "      <td>NaN</td>\n",
       "      <td>1</td>\n",
       "    </tr>\n",
       "    <tr>\n",
       "      <th>4</th>\n",
       "      <td>4</td>\n",
       "      <td>t3_kvfqwa</td>\n",
       "      <td>Use the 14th Amendment to ban Trump</td>\n",
       "      <td>https://www.reddit.com/r/democrats/comments/kv...</td>\n",
       "      <td>Yep  what s more  Democrats got ahold of the S...</td>\n",
       "      <td>NaN</td>\n",
       "      <td>1</td>\n",
       "    </tr>\n",
       "  </tbody>\n",
       "</table>\n",
       "</div>"
      ],
      "text/plain": [
       "   index       name                                              title  \\\n",
       "0      0  t3_kv4lr7  House Democrats launch second impeachment of T...   \n",
       "1      1  t3_kvg3xu                                      Do I have to    \n",
       "2      2  t3_kv4oca                    Camp Auschwitz  guy identified    \n",
       "3      3  t3_kvekkt                                No Crawling Back      \n",
       "4      4  t3_kvfqwa                Use the 14th Amendment to ban Trump   \n",
       "\n",
       "                                        url_comments  \\\n",
       "0  https://www.reddit.com/r/democrats/comments/kv...   \n",
       "1  https://www.reddit.com/r/democrats/comments/kv...   \n",
       "2  https://www.reddit.com/r/democrats/comments/kv...   \n",
       "3  https://www.reddit.com/r/democrats/comments/kv...   \n",
       "4  https://www.reddit.com/r/democrats/comments/kv...   \n",
       "\n",
       "                                            comments  \\\n",
       "0  Are they waiting for a response from Pence re ...   \n",
       "1  Every time I look at Pence  he reminds me of S...   \n",
       "2  Trump thought the riot looked  low class  I wo...   \n",
       "3  I just love how AOC takes no prisoners. She la...   \n",
       "4  Yep  what s more  Democrats got ahold of the S...   \n",
       "\n",
       "                                            selftext  label  \n",
       "0  The House Article of Impeachment will be intro...      1  \n",
       "1                                                NaN      1  \n",
       "2                                                NaN      1  \n",
       "3                                                NaN      1  \n",
       "4                                                NaN      1  "
      ]
     },
     "execution_count": 6,
     "metadata": {},
     "output_type": "execute_result"
    }
   ],
   "source": [
    "data.head()"
   ]
  },
  {
   "cell_type": "code",
   "execution_count": 7,
   "metadata": {},
   "outputs": [
    {
     "data": {
      "text/plain": [
       " 1    0.501005\n",
       "-1    0.498995\n",
       "Name: label, dtype: float64"
      ]
     },
     "execution_count": 7,
     "metadata": {},
     "output_type": "execute_result"
    }
   ],
   "source": [
    "data[\"label\"].value_counts(normalize=True)"
   ]
  },
  {
   "cell_type": "markdown",
   "metadata": {},
   "source": [
    "### Base Case accuracy"
   ]
  },
  {
   "cell_type": "markdown",
   "metadata": {},
   "source": [
    "Majority class accuracy is 50.1%"
   ]
  },
  {
   "cell_type": "markdown",
   "metadata": {},
   "source": [
    "### Function for cleaning up the text"
   ]
  },
  {
   "cell_type": "code",
   "execution_count": 8,
   "metadata": {},
   "outputs": [],
   "source": [
    "def process_text(text):\n",
    "    # Function to convert a raw text to a string of meaning words\n",
    "\n",
    "    words = str(text)\n",
    "    # Remove non-letters.\n",
    "    try:\n",
    "        words = re.sub(\"[^a-zA-Z]\", \" \", text)\n",
    "    except:\n",
    "        pass\n",
    "    \n",
    "\n",
    "    # Convert to lower case, split into individual words (list)\n",
    "    words = words.lower().split()\n",
    "    \n",
    "    # Stemming\n",
    "    #p_stemmer = PorterStemmer()   \n",
    "    #stemmed_words = [p_stemmer.stem(i) for i in words]\n",
    "    #words = stemmed_words\n",
    "    \n",
    "    # Lemmatizing\n",
    "    lemmatizer = WordNetLemmatizer()\n",
    "    lemmatized_words = [lemmatizer.lemmatize(i) for i in words]\n",
    "    words = lemmatized_words\n",
    "    \n",
    "    #Convert the stop words to a set.\n",
    "    stops = set(stopwords.words('english'))\n",
    "    \n",
    "    #Remove stop words.\n",
    "    meaningful_words = [w for w in words if not w in stops]\n",
    "    \n",
    "    # 6. Join the words back into one string separated by space, \n",
    "    # and return the result.\n",
    "    return(\" \".join(meaningful_words))"
   ]
  },
  {
   "cell_type": "code",
   "execution_count": 9,
   "metadata": {
    "scrolled": true
   },
   "outputs": [
    {
     "data": {
      "text/plain": [
       "'Are they waiting for a response from Pence re 25th before moving full speed ahead with impeachment  Yeah but when are they voting on it  I need to know when to turn on CSPAN  \\n\\n\\nEdit  looks like Wednesday.. for like  no reason. This is irresponsible. Do it today  Your only job is voting on stuff.. and it s still business hours. It s what we pay you for. Sorry  I m kinda pissed. I read there s gonna be more violence  amp  the National Guard are being issued weapons. Good. Even if they don t remove him  which they probably won t be able to  this is the right thing to do.'"
      ]
     },
     "execution_count": 9,
     "metadata": {},
     "output_type": "execute_result"
    }
   ],
   "source": [
    "text = data.loc[0, \"comments\"]\n",
    "text"
   ]
  },
  {
   "cell_type": "code",
   "execution_count": 10,
   "metadata": {
    "scrolled": false
   },
   "outputs": [
    {
     "data": {
      "text/plain": [
       "'waiting response penny th moving full speed ahead impeachment yeah voting need know turn cspan edit look like wednesday like reason irresponsible today job voting stuff still business hour pay sorry kinda pissed read gonna violence amp national guard issued weapon good even remove probably able right thing'"
      ]
     },
     "execution_count": 10,
     "metadata": {},
     "output_type": "execute_result"
    }
   ],
   "source": [
    "text = process_text(text)\n",
    "text"
   ]
  },
  {
   "cell_type": "code",
   "execution_count": 11,
   "metadata": {},
   "outputs": [
    {
     "data": {
      "text/plain": [
       "index            int64\n",
       "name            object\n",
       "title           object\n",
       "url_comments    object\n",
       "comments        object\n",
       "selftext        object\n",
       "label            int64\n",
       "dtype: object"
      ]
     },
     "execution_count": 11,
     "metadata": {},
     "output_type": "execute_result"
    }
   ],
   "source": [
    "data.dtypes"
   ]
  },
  {
   "cell_type": "code",
   "execution_count": 12,
   "metadata": {},
   "outputs": [],
   "source": [
    "# Processing text\n",
    "data[\"title\"] = data[\"title\"].map(process_text)\n",
    "data[\"comments\"] = data[\"comments\"].map(process_text)\n",
    "data[\"selftext\"] = data[\"selftext\"].map(process_text)"
   ]
  },
  {
   "cell_type": "code",
   "execution_count": 13,
   "metadata": {},
   "outputs": [
    {
     "data": {
      "text/html": [
       "<div>\n",
       "<style scoped>\n",
       "    .dataframe tbody tr th:only-of-type {\n",
       "        vertical-align: middle;\n",
       "    }\n",
       "\n",
       "    .dataframe tbody tr th {\n",
       "        vertical-align: top;\n",
       "    }\n",
       "\n",
       "    .dataframe thead th {\n",
       "        text-align: right;\n",
       "    }\n",
       "</style>\n",
       "<table border=\"1\" class=\"dataframe\">\n",
       "  <thead>\n",
       "    <tr style=\"text-align: right;\">\n",
       "      <th></th>\n",
       "      <th>title</th>\n",
       "      <th>comments</th>\n",
       "      <th>selftext</th>\n",
       "    </tr>\n",
       "  </thead>\n",
       "  <tbody>\n",
       "    <tr>\n",
       "      <th>0</th>\n",
       "      <td>house democrat launch second impeachment trump...</td>\n",
       "      <td>waiting response penny th moving full speed ah...</td>\n",
       "      <td>house article impeachment introduced et today ...</td>\n",
       "    </tr>\n",
       "    <tr>\n",
       "      <th>1</th>\n",
       "      <td></td>\n",
       "      <td>every time look penny reminds steve carell off...</td>\n",
       "      <td>nan</td>\n",
       "    </tr>\n",
       "    <tr>\n",
       "      <th>2</th>\n",
       "      <td>camp auschwitz guy identified</td>\n",
       "      <td>trump thought riot looked low class wonder shi...</td>\n",
       "      <td>nan</td>\n",
       "    </tr>\n",
       "    <tr>\n",
       "      <th>3</th>\n",
       "      <td>crawling back</td>\n",
       "      <td>love aoc take prisoner lay hold accountable wa...</td>\n",
       "      <td>nan</td>\n",
       "    </tr>\n",
       "    <tr>\n",
       "      <th>4</th>\n",
       "      <td>use th amendment ban trump</td>\n",
       "      <td>yep democrat got ahold senate house white hous...</td>\n",
       "      <td>nan</td>\n",
       "    </tr>\n",
       "  </tbody>\n",
       "</table>\n",
       "</div>"
      ],
      "text/plain": [
       "                                               title  \\\n",
       "0  house democrat launch second impeachment trump...   \n",
       "1                                                      \n",
       "2                      camp auschwitz guy identified   \n",
       "3                                      crawling back   \n",
       "4                         use th amendment ban trump   \n",
       "\n",
       "                                            comments  \\\n",
       "0  waiting response penny th moving full speed ah...   \n",
       "1  every time look penny reminds steve carell off...   \n",
       "2  trump thought riot looked low class wonder shi...   \n",
       "3  love aoc take prisoner lay hold accountable wa...   \n",
       "4  yep democrat got ahold senate house white hous...   \n",
       "\n",
       "                                            selftext  \n",
       "0  house article impeachment introduced et today ...  \n",
       "1                                                nan  \n",
       "2                                                nan  \n",
       "3                                                nan  \n",
       "4                                                nan  "
      ]
     },
     "execution_count": 13,
     "metadata": {},
     "output_type": "execute_result"
    }
   ],
   "source": [
    "data[[\"title\", \"comments\", \"selftext\"]].head()"
   ]
  },
  {
   "cell_type": "code",
   "execution_count": 14,
   "metadata": {},
   "outputs": [
    {
     "data": {
      "text/plain": [
       "index           0\n",
       "name            0\n",
       "title           0\n",
       "url_comments    0\n",
       "comments        0\n",
       "selftext        0\n",
       "label           0\n",
       "dtype: int64"
      ]
     },
     "execution_count": 14,
     "metadata": {},
     "output_type": "execute_result"
    }
   ],
   "source": [
    "# To investigate how to capture the number of \"nan\" fields\n",
    "data.isna().sum()"
   ]
  },
  {
   "cell_type": "markdown",
   "metadata": {},
   "source": [
    "## Processing Title + Comments + Selftext"
   ]
  },
  {
   "cell_type": "code",
   "execution_count": 15,
   "metadata": {},
   "outputs": [],
   "source": [
    "# Create data for model inputs - title and comments and selftext\n",
    "# both X and y are to be lists\n",
    "X = data[\"title\"] + \" \" + data[\"comments\"] + \" \" + data[\"selftext\"]\n",
    "y = data[\"label\"]"
   ]
  },
  {
   "cell_type": "code",
   "execution_count": 16,
   "metadata": {},
   "outputs": [],
   "source": [
    "X_train, X_test, y_train, y_test = train_test_split(X, y, stratify=y, random_state=42)"
   ]
  },
  {
   "cell_type": "code",
   "execution_count": 17,
   "metadata": {},
   "outputs": [
    {
     "data": {
      "text/plain": [
       "(1492,)"
      ]
     },
     "execution_count": 17,
     "metadata": {},
     "output_type": "execute_result"
    }
   ],
   "source": [
    "X_train.shape"
   ]
  },
  {
   "cell_type": "code",
   "execution_count": 18,
   "metadata": {},
   "outputs": [
    {
     "data": {
      "text/plain": [
       "1492"
      ]
     },
     "execution_count": 18,
     "metadata": {},
     "output_type": "execute_result"
    }
   ],
   "source": [
    "len(y_train)"
   ]
  },
  {
   "cell_type": "code",
   "execution_count": 19,
   "metadata": {},
   "outputs": [],
   "source": [
    "# Using CountVectorizer\n",
    "# set ngram to (1,2) instead of 1\n",
    "cvec_naive = CountVectorizer(ngram_range=(1,2))\n",
    "\n",
    "X_train_cvec_naive = cvec_naive.fit_transform(X_train).todense()\n",
    "X_train_cvec_naive_df = pd.DataFrame(X_train_cvec_naive, columns = cvec_naive.get_feature_names())"
   ]
  },
  {
   "cell_type": "code",
   "execution_count": 20,
   "metadata": {},
   "outputs": [
    {
     "data": {
      "text/plain": [
       "(1492, 80055)"
      ]
     },
     "execution_count": 20,
     "metadata": {},
     "output_type": "execute_result"
    }
   ],
   "source": [
    "X_train_cvec_naive_df.shape"
   ]
  },
  {
   "cell_type": "code",
   "execution_count": 21,
   "metadata": {},
   "outputs": [
    {
     "data": {
      "text/html": [
       "<div>\n",
       "<style scoped>\n",
       "    .dataframe tbody tr th:only-of-type {\n",
       "        vertical-align: middle;\n",
       "    }\n",
       "\n",
       "    .dataframe tbody tr th {\n",
       "        vertical-align: top;\n",
       "    }\n",
       "\n",
       "    .dataframe thead th {\n",
       "        text-align: right;\n",
       "    }\n",
       "</style>\n",
       "<table border=\"1\" class=\"dataframe\">\n",
       "  <thead>\n",
       "    <tr style=\"text-align: right;\">\n",
       "      <th></th>\n",
       "      <th>aaaanndddd</th>\n",
       "      <th>aaaanndddd someone</th>\n",
       "      <th>aad</th>\n",
       "      <th>aad amp</th>\n",
       "      <th>aae</th>\n",
       "      <th>aae ddf</th>\n",
       "      <th>aaouww</th>\n",
       "      <th>aaouww cnfwaxy</th>\n",
       "      <th>ab</th>\n",
       "      <th>ab ab</th>\n",
       "      <th>...</th>\n",
       "      <th>zuck</th>\n",
       "      <th>zuck need</th>\n",
       "      <th>zuckerberg</th>\n",
       "      <th>zuckerberg biden</th>\n",
       "      <th>zuckerberg bloomberg</th>\n",
       "      <th>zuckerberg cancer</th>\n",
       "      <th>zuckerberg censor</th>\n",
       "      <th>zuckerberg corruption</th>\n",
       "      <th>zuckerberg eye</th>\n",
       "      <th>zuckerberg shut</th>\n",
       "    </tr>\n",
       "  </thead>\n",
       "  <tbody>\n",
       "    <tr>\n",
       "      <th>0</th>\n",
       "      <td>0</td>\n",
       "      <td>0</td>\n",
       "      <td>0</td>\n",
       "      <td>0</td>\n",
       "      <td>0</td>\n",
       "      <td>0</td>\n",
       "      <td>0</td>\n",
       "      <td>0</td>\n",
       "      <td>0</td>\n",
       "      <td>0</td>\n",
       "      <td>...</td>\n",
       "      <td>0</td>\n",
       "      <td>0</td>\n",
       "      <td>0</td>\n",
       "      <td>0</td>\n",
       "      <td>0</td>\n",
       "      <td>0</td>\n",
       "      <td>0</td>\n",
       "      <td>0</td>\n",
       "      <td>0</td>\n",
       "      <td>0</td>\n",
       "    </tr>\n",
       "    <tr>\n",
       "      <th>1</th>\n",
       "      <td>0</td>\n",
       "      <td>0</td>\n",
       "      <td>0</td>\n",
       "      <td>0</td>\n",
       "      <td>0</td>\n",
       "      <td>0</td>\n",
       "      <td>0</td>\n",
       "      <td>0</td>\n",
       "      <td>0</td>\n",
       "      <td>0</td>\n",
       "      <td>...</td>\n",
       "      <td>0</td>\n",
       "      <td>0</td>\n",
       "      <td>0</td>\n",
       "      <td>0</td>\n",
       "      <td>0</td>\n",
       "      <td>0</td>\n",
       "      <td>0</td>\n",
       "      <td>0</td>\n",
       "      <td>0</td>\n",
       "      <td>0</td>\n",
       "    </tr>\n",
       "    <tr>\n",
       "      <th>2</th>\n",
       "      <td>0</td>\n",
       "      <td>0</td>\n",
       "      <td>0</td>\n",
       "      <td>0</td>\n",
       "      <td>0</td>\n",
       "      <td>0</td>\n",
       "      <td>0</td>\n",
       "      <td>0</td>\n",
       "      <td>0</td>\n",
       "      <td>0</td>\n",
       "      <td>...</td>\n",
       "      <td>0</td>\n",
       "      <td>0</td>\n",
       "      <td>0</td>\n",
       "      <td>0</td>\n",
       "      <td>0</td>\n",
       "      <td>0</td>\n",
       "      <td>0</td>\n",
       "      <td>0</td>\n",
       "      <td>0</td>\n",
       "      <td>0</td>\n",
       "    </tr>\n",
       "    <tr>\n",
       "      <th>3</th>\n",
       "      <td>0</td>\n",
       "      <td>0</td>\n",
       "      <td>0</td>\n",
       "      <td>0</td>\n",
       "      <td>0</td>\n",
       "      <td>0</td>\n",
       "      <td>0</td>\n",
       "      <td>0</td>\n",
       "      <td>0</td>\n",
       "      <td>0</td>\n",
       "      <td>...</td>\n",
       "      <td>0</td>\n",
       "      <td>0</td>\n",
       "      <td>0</td>\n",
       "      <td>0</td>\n",
       "      <td>0</td>\n",
       "      <td>0</td>\n",
       "      <td>0</td>\n",
       "      <td>0</td>\n",
       "      <td>0</td>\n",
       "      <td>0</td>\n",
       "    </tr>\n",
       "    <tr>\n",
       "      <th>4</th>\n",
       "      <td>0</td>\n",
       "      <td>0</td>\n",
       "      <td>0</td>\n",
       "      <td>0</td>\n",
       "      <td>0</td>\n",
       "      <td>0</td>\n",
       "      <td>0</td>\n",
       "      <td>0</td>\n",
       "      <td>0</td>\n",
       "      <td>0</td>\n",
       "      <td>...</td>\n",
       "      <td>0</td>\n",
       "      <td>0</td>\n",
       "      <td>0</td>\n",
       "      <td>0</td>\n",
       "      <td>0</td>\n",
       "      <td>0</td>\n",
       "      <td>0</td>\n",
       "      <td>0</td>\n",
       "      <td>0</td>\n",
       "      <td>0</td>\n",
       "    </tr>\n",
       "  </tbody>\n",
       "</table>\n",
       "<p>5 rows × 80055 columns</p>\n",
       "</div>"
      ],
      "text/plain": [
       "   aaaanndddd  aaaanndddd someone  aad  aad amp  aae  aae ddf  aaouww  \\\n",
       "0           0                   0    0        0    0        0       0   \n",
       "1           0                   0    0        0    0        0       0   \n",
       "2           0                   0    0        0    0        0       0   \n",
       "3           0                   0    0        0    0        0       0   \n",
       "4           0                   0    0        0    0        0       0   \n",
       "\n",
       "   aaouww cnfwaxy  ab  ab ab  ...  zuck  zuck need  zuckerberg  \\\n",
       "0               0   0      0  ...     0          0           0   \n",
       "1               0   0      0  ...     0          0           0   \n",
       "2               0   0      0  ...     0          0           0   \n",
       "3               0   0      0  ...     0          0           0   \n",
       "4               0   0      0  ...     0          0           0   \n",
       "\n",
       "   zuckerberg biden  zuckerberg bloomberg  zuckerberg cancer  \\\n",
       "0                 0                     0                  0   \n",
       "1                 0                     0                  0   \n",
       "2                 0                     0                  0   \n",
       "3                 0                     0                  0   \n",
       "4                 0                     0                  0   \n",
       "\n",
       "   zuckerberg censor  zuckerberg corruption  zuckerberg eye  zuckerberg shut  \n",
       "0                  0                      0               0                0  \n",
       "1                  0                      0               0                0  \n",
       "2                  0                      0               0                0  \n",
       "3                  0                      0               0                0  \n",
       "4                  0                      0               0                0  \n",
       "\n",
       "[5 rows x 80055 columns]"
      ]
     },
     "execution_count": 21,
     "metadata": {},
     "output_type": "execute_result"
    }
   ],
   "source": [
    "X_train_cvec_naive_df.head()"
   ]
  },
  {
   "cell_type": "markdown",
   "metadata": {},
   "source": [
    "### Closer look at the most popular words in the training corpus"
   ]
  },
  {
   "cell_type": "code",
   "execution_count": 22,
   "metadata": {},
   "outputs": [
    {
     "data": {
      "text/plain": [
       "nan                      1816\n",
       "trump                    1075\n",
       "wa                        880\n",
       "people                    712\n",
       "like                      492\n",
       "                         ... \n",
       "picture placeholder         1\n",
       "picture piece               1\n",
       "picture normal              1\n",
       "picture necessitating       1\n",
       "aaaanndddd                  1\n",
       "Name: Total, Length: 80055, dtype: int64"
      ]
     },
     "execution_count": 22,
     "metadata": {},
     "output_type": "execute_result"
    }
   ],
   "source": [
    "# find out how many times each word appear in the corpus by creating a 'Total' row at the end of the dataframe:\n",
    "X_train_cvec_naive_df.loc['Total']= X_train_cvec_naive_df.sum(axis=0)\n",
    "X_train_cvec_naive_df.loc['Total',:].sort_values(ascending=False)"
   ]
  },
  {
   "cell_type": "markdown",
   "metadata": {},
   "source": [
    "### Create a DataFrame for the above Total Word Count, and then check, for each specified frequency (2, 10, 50, etc), what is the associated number of features (words) that appear in the corpus.\n"
   ]
  },
  {
   "cell_type": "code",
   "execution_count": 23,
   "metadata": {},
   "outputs": [
    {
     "data": {
      "text/html": [
       "<div>\n",
       "<style scoped>\n",
       "    .dataframe tbody tr th:only-of-type {\n",
       "        vertical-align: middle;\n",
       "    }\n",
       "\n",
       "    .dataframe tbody tr th {\n",
       "        vertical-align: top;\n",
       "    }\n",
       "\n",
       "    .dataframe thead th {\n",
       "        text-align: right;\n",
       "    }\n",
       "</style>\n",
       "<table border=\"1\" class=\"dataframe\">\n",
       "  <thead>\n",
       "    <tr style=\"text-align: right;\">\n",
       "      <th></th>\n",
       "      <th>Total</th>\n",
       "    </tr>\n",
       "  </thead>\n",
       "  <tbody>\n",
       "    <tr>\n",
       "      <th>nan</th>\n",
       "      <td>1816</td>\n",
       "    </tr>\n",
       "    <tr>\n",
       "      <th>trump</th>\n",
       "      <td>1075</td>\n",
       "    </tr>\n",
       "    <tr>\n",
       "      <th>wa</th>\n",
       "      <td>880</td>\n",
       "    </tr>\n",
       "    <tr>\n",
       "      <th>people</th>\n",
       "      <td>712</td>\n",
       "    </tr>\n",
       "    <tr>\n",
       "      <th>like</th>\n",
       "      <td>492</td>\n",
       "    </tr>\n",
       "  </tbody>\n",
       "</table>\n",
       "</div>"
      ],
      "text/plain": [
       "        Total\n",
       "nan      1816\n",
       "trump    1075\n",
       "wa        880\n",
       "people    712\n",
       "like      492"
      ]
     },
     "execution_count": 23,
     "metadata": {},
     "output_type": "execute_result"
    }
   ],
   "source": [
    "Xtrain_total_cvec_naive = pd.DataFrame(X_train_cvec_naive_df.loc['Total',:].sort_values(ascending=False))\n",
    "Xtrain_total_cvec_naive.head()"
   ]
  },
  {
   "cell_type": "code",
   "execution_count": 24,
   "metadata": {},
   "outputs": [
    {
     "name": "stdout",
     "output_type": "stream",
     "text": [
      "73345\n",
      "78467\n",
      "79221\n",
      "79517\n",
      "79738\n",
      "79934\n",
      "80053\n"
     ]
    }
   ],
   "source": [
    "print(len(Xtrain_total_cvec_naive.loc[Xtrain_total_cvec_naive['Total'] <= 2]))\n",
    "print(len(Xtrain_total_cvec_naive.loc[Xtrain_total_cvec_naive['Total'] <= 10]))\n",
    "print(len(Xtrain_total_cvec_naive.loc[Xtrain_total_cvec_naive['Total'] <= 20]))\n",
    "print(len(Xtrain_total_cvec_naive.loc[Xtrain_total_cvec_naive['Total'] <= 30]))\n",
    "print(len(Xtrain_total_cvec_naive.loc[Xtrain_total_cvec_naive['Total'] <= 50]))\n",
    "print(len(Xtrain_total_cvec_naive.loc[Xtrain_total_cvec_naive['Total'] <= 100]))\n",
    "print(len(Xtrain_total_cvec_naive.loc[Xtrain_total_cvec_naive['Total'] <= 1000]))"
   ]
  },
  {
   "cell_type": "code",
   "execution_count": 25,
   "metadata": {},
   "outputs": [
    {
     "data": {
      "text/plain": [
       "<BarContainer object of 37 artists>"
      ]
     },
     "execution_count": 25,
     "metadata": {},
     "output_type": "execute_result"
    },
    {
     "data": {
      "image/png": "[encoded data removed]",
      "text/plain": [
       "<Figure size 720x720 with 1 Axes>"
      ]
     },
     "metadata": {
      "needs_background": "light"
     },
     "output_type": "display_data"
    }
   ],
   "source": [
    "# plot histogram to observe the distribution\n",
    "figure = plt.figure(figsize=[10,10])\n",
    "plt.title(\"Most popular ngrams by CountVectorizer\")\n",
    "plt.barh(Xtrain_total_cvec_naive[Xtrain_total_cvec_naive.Total > 200].index.to_list(), Xtrain_total_cvec_naive[Xtrain_total_cvec_naive.Total > 200][\"Total\"])"
   ]
  },
  {
   "cell_type": "code",
   "execution_count": 26,
   "metadata": {},
   "outputs": [
    {
     "data": {
      "text/plain": [
       "18"
      ]
     },
     "execution_count": 26,
     "metadata": {},
     "output_type": "execute_result"
    }
   ],
   "source": [
    "# Count of the tokens under the criteria\n",
    "len(Xtrain_total_cvec_naive[Xtrain_total_cvec_naive.Total > 300].index.to_list())"
   ]
  },
  {
   "cell_type": "markdown",
   "metadata": {},
   "source": [
    "### Additional stop words"
   ]
  },
  {
   "cell_type": "code",
   "execution_count": 27,
   "metadata": {},
   "outputs": [],
   "source": [
    "additional_stop_words = [\"nan\", \"thi\", \"wa\", \"hi\", \"would\", \"http\"]"
   ]
  },
  {
   "cell_type": "markdown",
   "metadata": {},
   "source": [
    "### Using these information, run a GridSearchCV and tune the hyperparameters accordingly to optimize the model."
   ]
  },
  {
   "cell_type": "code",
   "execution_count": 28,
   "metadata": {},
   "outputs": [],
   "source": [
    "pipe = Pipeline([\n",
    "    (\"cvec\", CountVectorizer(stop_words=additional_stop_words, ngram_range=(1,2))),\n",
    "    (\"lr\", LogisticRegression())\n",
    "    ])"
   ]
  },
  {
   "cell_type": "code",
   "execution_count": 29,
   "metadata": {},
   "outputs": [
    {
     "data": {
      "text/plain": [
       "GridSearchCV(cv=5,\n",
       "             estimator=Pipeline(steps=[('cvec',\n",
       "                                        CountVectorizer(ngram_range=(1, 2),\n",
       "                                                        stop_words=['nan',\n",
       "                                                                    'thi', 'wa',\n",
       "                                                                    'hi',\n",
       "                                                                    'would',\n",
       "                                                                    'http'])),\n",
       "                                       ('lr', LogisticRegression())]),\n",
       "             n_jobs=-1,\n",
       "             param_grid={'cvec__max_df': [0.1, 0.5, 1.0],\n",
       "                         'cvec__max_features': [100, 150, 200, 250, 300],\n",
       "                         'cvec__min_df': [0.1, 0.5, 1.0]})"
      ]
     },
     "execution_count": 29,
     "metadata": {},
     "output_type": "execute_result"
    }
   ],
   "source": [
    "pipe_params = {\n",
    "    'cvec__max_features': [100, 150, 200, 250, 300],\n",
    "    'cvec__min_df': [.1, .5, 1.],\n",
    "    'cvec__max_df': [.1, .5, 1.],\n",
    "}\n",
    "gs = GridSearchCV(pipe, param_grid=pipe_params, cv=5, n_jobs = -1)\n",
    "gs.fit(X_train, y_train)"
   ]
  },
  {
   "cell_type": "code",
   "execution_count": 30,
   "metadata": {},
   "outputs": [
    {
     "name": "stdout",
     "output_type": "stream",
     "text": [
      "0.5985230410091805\n"
     ]
    },
    {
     "data": {
      "text/plain": [
       "{'cvec__max_df': 0.5, 'cvec__max_features': 100, 'cvec__min_df': 0.1}"
      ]
     },
     "execution_count": 30,
     "metadata": {},
     "output_type": "execute_result"
    }
   ],
   "source": [
    "print(gs.best_score_)\n",
    "gs.best_params_"
   ]
  },
  {
   "cell_type": "code",
   "execution_count": 31,
   "metadata": {},
   "outputs": [
    {
     "name": "stdout",
     "output_type": "stream",
     "text": [
      "0.6079088471849866\n"
     ]
    },
    {
     "data": {
      "text/plain": [
       "0.6244979919678715"
      ]
     },
     "execution_count": 31,
     "metadata": {},
     "output_type": "execute_result"
    }
   ],
   "source": [
    "print(gs.score(X_train, y_train))\n",
    "gs.score(X_test, y_test)"
   ]
  },
  {
   "cell_type": "code",
   "execution_count": 32,
   "metadata": {},
   "outputs": [
    {
     "data": {
      "text/plain": [
       "GridSearchCV(cv=5,\n",
       "             estimator=Pipeline(steps=[('cvec',\n",
       "                                        CountVectorizer(ngram_range=(1, 2),\n",
       "                                                        stop_words=['nan',\n",
       "                                                                    'thi', 'wa',\n",
       "                                                                    'hi',\n",
       "                                                                    'would',\n",
       "                                                                    'http'])),\n",
       "                                       ('lr', LogisticRegression())]),\n",
       "             n_jobs=-1,\n",
       "             param_grid={'cvec__max_df': [0.05, 0.1, 0.15, 0.2],\n",
       "                         'cvec__max_features': [150, 200, 250, 300, 350, 400],\n",
       "                         'cvec__min_df': [0.01, 0.1, 0.2]})"
      ]
     },
     "execution_count": 32,
     "metadata": {},
     "output_type": "execute_result"
    }
   ],
   "source": [
    "pipe_params = {\n",
    "    'cvec__max_features': [150, 200, 250, 300, 350, 400],\n",
    "    'cvec__min_df': [0.01, 0.1, 0.2],\n",
    "    'cvec__max_df': [.05, .1, .15, .2],\n",
    "}\n",
    "gs = GridSearchCV(pipe, param_grid=pipe_params, cv=5, n_jobs = -1)\n",
    "gs.fit(X_train, y_train)"
   ]
  },
  {
   "cell_type": "code",
   "execution_count": 33,
   "metadata": {},
   "outputs": [
    {
     "name": "stdout",
     "output_type": "stream",
     "text": [
      "0.6937150681241723\n"
     ]
    },
    {
     "data": {
      "text/plain": [
       "{'cvec__max_df': 0.15, 'cvec__max_features': 400, 'cvec__min_df': 0.01}"
      ]
     },
     "execution_count": 33,
     "metadata": {},
     "output_type": "execute_result"
    }
   ],
   "source": [
    "print(gs.best_score_)\n",
    "gs.best_params_"
   ]
  },
  {
   "cell_type": "code",
   "execution_count": 34,
   "metadata": {},
   "outputs": [
    {
     "name": "stdout",
     "output_type": "stream",
     "text": [
      "0.8505361930294906\n"
     ]
    },
    {
     "data": {
      "text/plain": [
       "0.7028112449799196"
      ]
     },
     "execution_count": 34,
     "metadata": {},
     "output_type": "execute_result"
    }
   ],
   "source": [
    "print(gs.score(X_train, y_train))\n",
    "gs.score(X_test, y_test)"
   ]
  },
  {
   "cell_type": "markdown",
   "metadata": {},
   "source": [
    "CountVectorizer Test set accuracy improved to 70% (from 62%) after adjusting hyperparameters"
   ]
  },
  {
   "cell_type": "markdown",
   "metadata": {},
   "source": [
    "## Using TF-IDF"
   ]
  },
  {
   "cell_type": "markdown",
   "metadata": {},
   "source": [
    "Increase ngram to range (1,2) instead of 1"
   ]
  },
  {
   "cell_type": "code",
   "execution_count": 35,
   "metadata": {},
   "outputs": [],
   "source": [
    "tvec_naive = TfidfVectorizer(ngram_range=(1,2))"
   ]
  },
  {
   "cell_type": "code",
   "execution_count": 36,
   "metadata": {},
   "outputs": [
    {
     "data": {
      "text/plain": [
       "(1492, 80055)"
      ]
     },
     "execution_count": 36,
     "metadata": {},
     "output_type": "execute_result"
    }
   ],
   "source": [
    "X_train_tvec_naive = tvec_naive.fit_transform(X_train).todense()\n",
    "X_train_tvec_naive_df = pd.DataFrame(X_train_tvec_naive, columns = tvec_naive.get_feature_names())\n",
    "X_train_tvec_naive_df.shape"
   ]
  },
  {
   "cell_type": "code",
   "execution_count": 37,
   "metadata": {},
   "outputs": [
    {
     "data": {
      "text/html": [
       "<div>\n",
       "<style scoped>\n",
       "    .dataframe tbody tr th:only-of-type {\n",
       "        vertical-align: middle;\n",
       "    }\n",
       "\n",
       "    .dataframe tbody tr th {\n",
       "        vertical-align: top;\n",
       "    }\n",
       "\n",
       "    .dataframe thead th {\n",
       "        text-align: right;\n",
       "    }\n",
       "</style>\n",
       "<table border=\"1\" class=\"dataframe\">\n",
       "  <thead>\n",
       "    <tr style=\"text-align: right;\">\n",
       "      <th></th>\n",
       "      <th>aaaanndddd</th>\n",
       "      <th>aaaanndddd someone</th>\n",
       "      <th>aad</th>\n",
       "      <th>aad amp</th>\n",
       "      <th>aae</th>\n",
       "      <th>aae ddf</th>\n",
       "      <th>aaouww</th>\n",
       "      <th>aaouww cnfwaxy</th>\n",
       "      <th>ab</th>\n",
       "      <th>ab ab</th>\n",
       "      <th>...</th>\n",
       "      <th>zuck</th>\n",
       "      <th>zuck need</th>\n",
       "      <th>zuckerberg</th>\n",
       "      <th>zuckerberg biden</th>\n",
       "      <th>zuckerberg bloomberg</th>\n",
       "      <th>zuckerberg cancer</th>\n",
       "      <th>zuckerberg censor</th>\n",
       "      <th>zuckerberg corruption</th>\n",
       "      <th>zuckerberg eye</th>\n",
       "      <th>zuckerberg shut</th>\n",
       "    </tr>\n",
       "  </thead>\n",
       "  <tbody>\n",
       "    <tr>\n",
       "      <th>0</th>\n",
       "      <td>0.0</td>\n",
       "      <td>0.0</td>\n",
       "      <td>0.0</td>\n",
       "      <td>0.0</td>\n",
       "      <td>0.0</td>\n",
       "      <td>0.0</td>\n",
       "      <td>0.0</td>\n",
       "      <td>0.0</td>\n",
       "      <td>0.0</td>\n",
       "      <td>0.0</td>\n",
       "      <td>...</td>\n",
       "      <td>0.0</td>\n",
       "      <td>0.0</td>\n",
       "      <td>0.0</td>\n",
       "      <td>0.0</td>\n",
       "      <td>0.0</td>\n",
       "      <td>0.0</td>\n",
       "      <td>0.0</td>\n",
       "      <td>0.0</td>\n",
       "      <td>0.0</td>\n",
       "      <td>0.0</td>\n",
       "    </tr>\n",
       "    <tr>\n",
       "      <th>1</th>\n",
       "      <td>0.0</td>\n",
       "      <td>0.0</td>\n",
       "      <td>0.0</td>\n",
       "      <td>0.0</td>\n",
       "      <td>0.0</td>\n",
       "      <td>0.0</td>\n",
       "      <td>0.0</td>\n",
       "      <td>0.0</td>\n",
       "      <td>0.0</td>\n",
       "      <td>0.0</td>\n",
       "      <td>...</td>\n",
       "      <td>0.0</td>\n",
       "      <td>0.0</td>\n",
       "      <td>0.0</td>\n",
       "      <td>0.0</td>\n",
       "      <td>0.0</td>\n",
       "      <td>0.0</td>\n",
       "      <td>0.0</td>\n",
       "      <td>0.0</td>\n",
       "      <td>0.0</td>\n",
       "      <td>0.0</td>\n",
       "    </tr>\n",
       "    <tr>\n",
       "      <th>2</th>\n",
       "      <td>0.0</td>\n",
       "      <td>0.0</td>\n",
       "      <td>0.0</td>\n",
       "      <td>0.0</td>\n",
       "      <td>0.0</td>\n",
       "      <td>0.0</td>\n",
       "      <td>0.0</td>\n",
       "      <td>0.0</td>\n",
       "      <td>0.0</td>\n",
       "      <td>0.0</td>\n",
       "      <td>...</td>\n",
       "      <td>0.0</td>\n",
       "      <td>0.0</td>\n",
       "      <td>0.0</td>\n",
       "      <td>0.0</td>\n",
       "      <td>0.0</td>\n",
       "      <td>0.0</td>\n",
       "      <td>0.0</td>\n",
       "      <td>0.0</td>\n",
       "      <td>0.0</td>\n",
       "      <td>0.0</td>\n",
       "    </tr>\n",
       "    <tr>\n",
       "      <th>3</th>\n",
       "      <td>0.0</td>\n",
       "      <td>0.0</td>\n",
       "      <td>0.0</td>\n",
       "      <td>0.0</td>\n",
       "      <td>0.0</td>\n",
       "      <td>0.0</td>\n",
       "      <td>0.0</td>\n",
       "      <td>0.0</td>\n",
       "      <td>0.0</td>\n",
       "      <td>0.0</td>\n",
       "      <td>...</td>\n",
       "      <td>0.0</td>\n",
       "      <td>0.0</td>\n",
       "      <td>0.0</td>\n",
       "      <td>0.0</td>\n",
       "      <td>0.0</td>\n",
       "      <td>0.0</td>\n",
       "      <td>0.0</td>\n",
       "      <td>0.0</td>\n",
       "      <td>0.0</td>\n",
       "      <td>0.0</td>\n",
       "    </tr>\n",
       "    <tr>\n",
       "      <th>4</th>\n",
       "      <td>0.0</td>\n",
       "      <td>0.0</td>\n",
       "      <td>0.0</td>\n",
       "      <td>0.0</td>\n",
       "      <td>0.0</td>\n",
       "      <td>0.0</td>\n",
       "      <td>0.0</td>\n",
       "      <td>0.0</td>\n",
       "      <td>0.0</td>\n",
       "      <td>0.0</td>\n",
       "      <td>...</td>\n",
       "      <td>0.0</td>\n",
       "      <td>0.0</td>\n",
       "      <td>0.0</td>\n",
       "      <td>0.0</td>\n",
       "      <td>0.0</td>\n",
       "      <td>0.0</td>\n",
       "      <td>0.0</td>\n",
       "      <td>0.0</td>\n",
       "      <td>0.0</td>\n",
       "      <td>0.0</td>\n",
       "    </tr>\n",
       "  </tbody>\n",
       "</table>\n",
       "<p>5 rows × 80055 columns</p>\n",
       "</div>"
      ],
      "text/plain": [
       "   aaaanndddd  aaaanndddd someone  aad  aad amp  aae  aae ddf  aaouww  \\\n",
       "0         0.0                 0.0  0.0      0.0  0.0      0.0     0.0   \n",
       "1         0.0                 0.0  0.0      0.0  0.0      0.0     0.0   \n",
       "2         0.0                 0.0  0.0      0.0  0.0      0.0     0.0   \n",
       "3         0.0                 0.0  0.0      0.0  0.0      0.0     0.0   \n",
       "4         0.0                 0.0  0.0      0.0  0.0      0.0     0.0   \n",
       "\n",
       "   aaouww cnfwaxy   ab  ab ab  ...  zuck  zuck need  zuckerberg  \\\n",
       "0             0.0  0.0    0.0  ...   0.0        0.0         0.0   \n",
       "1             0.0  0.0    0.0  ...   0.0        0.0         0.0   \n",
       "2             0.0  0.0    0.0  ...   0.0        0.0         0.0   \n",
       "3             0.0  0.0    0.0  ...   0.0        0.0         0.0   \n",
       "4             0.0  0.0    0.0  ...   0.0        0.0         0.0   \n",
       "\n",
       "   zuckerberg biden  zuckerberg bloomberg  zuckerberg cancer  \\\n",
       "0               0.0                   0.0                0.0   \n",
       "1               0.0                   0.0                0.0   \n",
       "2               0.0                   0.0                0.0   \n",
       "3               0.0                   0.0                0.0   \n",
       "4               0.0                   0.0                0.0   \n",
       "\n",
       "   zuckerberg censor  zuckerberg corruption  zuckerberg eye  zuckerberg shut  \n",
       "0                0.0                    0.0             0.0              0.0  \n",
       "1                0.0                    0.0             0.0              0.0  \n",
       "2                0.0                    0.0             0.0              0.0  \n",
       "3                0.0                    0.0             0.0              0.0  \n",
       "4                0.0                    0.0             0.0              0.0  \n",
       "\n",
       "[5 rows x 80055 columns]"
      ]
     },
     "execution_count": 37,
     "metadata": {},
     "output_type": "execute_result"
    }
   ],
   "source": [
    "X_train_tvec_naive_df.head()"
   ]
  },
  {
   "cell_type": "code",
   "execution_count": 38,
   "metadata": {},
   "outputs": [],
   "source": [
    "X_train_tvec_naive_df.loc['Total',:]= X_train_tvec_naive_df.sum(axis=0)\n",
    "#X_train_tvec_naive_df.loc['Total',:].sort_values(ascending=False)"
   ]
  },
  {
   "cell_type": "code",
   "execution_count": 39,
   "metadata": {},
   "outputs": [
    {
     "data": {
      "text/html": [
       "<div>\n",
       "<style scoped>\n",
       "    .dataframe tbody tr th:only-of-type {\n",
       "        vertical-align: middle;\n",
       "    }\n",
       "\n",
       "    .dataframe tbody tr th {\n",
       "        vertical-align: top;\n",
       "    }\n",
       "\n",
       "    .dataframe thead th {\n",
       "        text-align: right;\n",
       "    }\n",
       "</style>\n",
       "<table border=\"1\" class=\"dataframe\">\n",
       "  <thead>\n",
       "    <tr style=\"text-align: right;\">\n",
       "      <th></th>\n",
       "      <th>Total</th>\n",
       "    </tr>\n",
       "  </thead>\n",
       "  <tbody>\n",
       "    <tr>\n",
       "      <th>nan</th>\n",
       "      <td>57.329407</td>\n",
       "    </tr>\n",
       "    <tr>\n",
       "      <th>nan nan</th>\n",
       "      <td>40.712352</td>\n",
       "    </tr>\n",
       "    <tr>\n",
       "      <th>trump</th>\n",
       "      <td>31.587999</td>\n",
       "    </tr>\n",
       "    <tr>\n",
       "      <th>wa</th>\n",
       "      <td>21.054879</td>\n",
       "    </tr>\n",
       "    <tr>\n",
       "      <th>people</th>\n",
       "      <td>16.861338</td>\n",
       "    </tr>\n",
       "  </tbody>\n",
       "</table>\n",
       "</div>"
      ],
      "text/plain": [
       "             Total\n",
       "nan      57.329407\n",
       "nan nan  40.712352\n",
       "trump    31.587999\n",
       "wa       21.054879\n",
       "people   16.861338"
      ]
     },
     "execution_count": 39,
     "metadata": {},
     "output_type": "execute_result"
    }
   ],
   "source": [
    "### Create a DataFrame for the above Total Word Count, and then check, for each specified frequency (2, 10, 50, etc), what is the associated number of features (words) that appear in the corpus.\n",
    "X_train_tvec_naive_df = pd.DataFrame(X_train_tvec_naive_df.loc['Total',:].sort_values(ascending=False))\n",
    "X_train_tvec_naive_df.head()"
   ]
  },
  {
   "cell_type": "markdown",
   "metadata": {},
   "source": [
    "Similar redundant words to be removed as additional stop words"
   ]
  },
  {
   "cell_type": "code",
   "execution_count": 40,
   "metadata": {},
   "outputs": [
    {
     "name": "stdout",
     "output_type": "stream",
     "text": [
      "78905\n",
      "79965\n",
      "80035\n",
      "80051\n"
     ]
    }
   ],
   "source": [
    "print(len(X_train_tvec_naive_df.loc[X_train_tvec_naive_df['Total'] <= 1]))\n",
    "print(len(X_train_tvec_naive_df.loc[X_train_tvec_naive_df['Total'] <= 5]))\n",
    "print(len(X_train_tvec_naive_df.loc[X_train_tvec_naive_df['Total'] <= 10]))\n",
    "print(len(X_train_tvec_naive_df.loc[X_train_tvec_naive_df['Total'] <= 20]))"
   ]
  },
  {
   "cell_type": "code",
   "execution_count": 46,
   "metadata": {},
   "outputs": [
    {
     "data": {
      "text/plain": [
       "20"
      ]
     },
     "execution_count": 46,
     "metadata": {},
     "output_type": "execute_result"
    }
   ],
   "source": [
    "# Features with the highest TFIDF scores\n",
    "threshold = 10\n",
    "len(X_train_tvec_naive_df[X_train_tvec_naive_df.Total > threshold].index.to_list())"
   ]
  },
  {
   "cell_type": "code",
   "execution_count": 47,
   "metadata": {},
   "outputs": [
    {
     "data": {
      "text/plain": [
       "<BarContainer object of 20 artists>"
      ]
     },
     "execution_count": 47,
     "metadata": {},
     "output_type": "execute_result"
    },
    {
     "data": {
      "image/png": "[encoded data removed]",
      "text/plain": [
       "<Figure size 720x720 with 1 Axes>"
      ]
     },
     "metadata": {
      "needs_background": "light"
     },
     "output_type": "display_data"
    }
   ],
   "source": [
    "# plot histogram to observe the distribution\n",
    "figure = plt.figure(figsize=[10,10])\n",
    "plt.title(\"TFIDF scores\")\n",
    "plt.barh(X_train_tvec_naive_df[X_train_tvec_naive_df.Total > threshold].index.to_list(), X_train_tvec_naive_df[X_train_tvec_naive_df.Total > threshold][\"Total\"])"
   ]
  },
  {
   "cell_type": "markdown",
   "metadata": {},
   "source": [
    "### Additional stop words"
   ]
  },
  {
   "cell_type": "code",
   "execution_count": 48,
   "metadata": {},
   "outputs": [],
   "source": [
    "additional_stop_words = [\"nan\", \"nan nan\", \"thi\", \"wa\", \"hi\", \"ha\", \"would\", \"http\"]"
   ]
  },
  {
   "cell_type": "markdown",
   "metadata": {},
   "source": [
    "Tuning TVEC hyperparameters upon EDA:"
   ]
  },
  {
   "cell_type": "code",
   "execution_count": 49,
   "metadata": {},
   "outputs": [
    {
     "data": {
      "text/plain": [
       "GridSearchCV(cv=5,\n",
       "             estimator=Pipeline(steps=[('tvec',\n",
       "                                        TfidfVectorizer(ngram_range=(1, 2),\n",
       "                                                        stop_words=['nan',\n",
       "                                                                    'nan nan',\n",
       "                                                                    'thi', 'wa',\n",
       "                                                                    'hi', 'ha',\n",
       "                                                                    'would',\n",
       "                                                                    'http'])),\n",
       "                                       ('lr', LogisticRegression())]),\n",
       "             n_jobs=-1,\n",
       "             param_grid={'tvec__max_df': [0.2, 0.25, 0.3],\n",
       "                         'tvec__max_features': [30, 60, 90],\n",
       "                         'tvec__min_df': [2, 3]})"
      ]
     },
     "execution_count": 49,
     "metadata": {},
     "output_type": "execute_result"
    }
   ],
   "source": [
    "pipe2 = Pipeline([\n",
    "    (\"tvec\", TfidfVectorizer(ngram_range=(1, 2), stop_words=additional_stop_words)),\n",
    "    (\"lr\", LogisticRegression())\n",
    "    ])\n",
    "\n",
    "pipe_params = {\n",
    "    'tvec__max_features': [30, 60, 90],\n",
    "    'tvec__min_df': [2, 3],\n",
    "    'tvec__max_df': [.2, .25, .3],\n",
    "}\n",
    "gs = GridSearchCV(pipe2, param_grid=pipe_params, cv=5, n_jobs = -1)\n",
    "gs.fit(X_train, y_train)"
   ]
  },
  {
   "cell_type": "code",
   "execution_count": 50,
   "metadata": {},
   "outputs": [
    {
     "name": "stdout",
     "output_type": "stream",
     "text": [
      "0.6334089021570783\n"
     ]
    },
    {
     "data": {
      "text/plain": [
       "{'tvec__max_df': 0.2, 'tvec__max_features': 90, 'tvec__min_df': 2}"
      ]
     },
     "execution_count": 50,
     "metadata": {},
     "output_type": "execute_result"
    }
   ],
   "source": [
    "print(gs.best_score_)\n",
    "gs.best_params_"
   ]
  },
  {
   "cell_type": "code",
   "execution_count": 51,
   "metadata": {
    "scrolled": true
   },
   "outputs": [
    {
     "name": "stdout",
     "output_type": "stream",
     "text": [
      "0.6896782841823056\n",
      "0.6325301204819277\n"
     ]
    }
   ],
   "source": [
    "print(gs.score(X_train, y_train))\n",
    "print(gs.score(X_test, y_test))"
   ]
  },
  {
   "cell_type": "markdown",
   "metadata": {},
   "source": [
    "TFIDF test set accuracy at 63% ,similar to Step 4 (66%). Lower improvement after skipping stemming"
   ]
  },
  {
   "cell_type": "markdown",
   "metadata": {},
   "source": [
    "### Increase significantly max_features"
   ]
  },
  {
   "cell_type": "code",
   "execution_count": 68,
   "metadata": {},
   "outputs": [],
   "source": [
    "pipe_params = {\n",
    "    'tvec__max_features': [3800, 4000, 4200],\n",
    "    'tvec__min_df': [2, 3, 4],\n",
    "    'tvec__max_df': [.15, .2, .25, .3],\n",
    "}"
   ]
  },
  {
   "cell_type": "code",
   "execution_count": null,
   "metadata": {},
   "outputs": [],
   "source": [
    "## gs = GridSearchCV(pipe2, param_grid=pipe_params, cv=5, n_jobs = -1)\n",
    "gs.fit(X_train, y_train)"
   ]
  },
  {
   "cell_type": "code",
   "execution_count": null,
   "metadata": {
    "scrolled": true
   },
   "outputs": [],
   "source": [
    "gs.cv_results_[\"mean_test_score\"]"
   ]
  },
  {
   "cell_type": "code",
   "execution_count": null,
   "metadata": {},
   "outputs": [],
   "source": [
    "print(gs.best_score_)\n",
    "gs.best_params_"
   ]
  },
  {
   "cell_type": "code",
   "execution_count": null,
   "metadata": {},
   "outputs": [],
   "source": [
    "print(gs.score(X_train, y_train))\n",
    "print(gs.score(X_test, y_test))"
   ]
  },
  {
   "cell_type": "markdown",
   "metadata": {},
   "source": [
    "TFIDF Test accuracy improved slightly to 76.9% (from 75.7)\n",
    "With many more features (3800), the TFIDF model seems to be overfitting the training data (given the 94% training score), however the accuracy on test data still increases marginally. Also thee list of mean test score shows that the validation score is quite stable."
   ]
  },
  {
   "cell_type": "markdown",
   "metadata": {},
   "source": [
    "### Closer look at the most effective coefficients from the last model"
   ]
  },
  {
   "cell_type": "code",
   "execution_count": null,
   "metadata": {},
   "outputs": [],
   "source": [
    "# Using the params from gs.best_params_\n",
    "tvec = TfidfVectorizer(ngram_range=(1, 2), stop_words=additional_stop_words, max_df=0.25, max_features=3800, min_df=3)\n",
    "X_train_TFID_df  = pd.DataFrame(tvec.fit_transform(X_train).toarray(),\n",
    "                   columns=tvec.get_feature_names())"
   ]
  },
  {
   "cell_type": "code",
   "execution_count": null,
   "metadata": {},
   "outputs": [],
   "source": [
    "lr = LogisticRegression()"
   ]
  },
  {
   "cell_type": "code",
   "execution_count": null,
   "metadata": {},
   "outputs": [],
   "source": [
    "lr.fit(X_train_TFID_df, y_train)"
   ]
  },
  {
   "cell_type": "code",
   "execution_count": null,
   "metadata": {},
   "outputs": [],
   "source": [
    "lr.coef_"
   ]
  },
  {
   "cell_type": "code",
   "execution_count": null,
   "metadata": {},
   "outputs": [],
   "source": [
    "len(list(tvec.get_feature_names()))"
   ]
  },
  {
   "cell_type": "code",
   "execution_count": null,
   "metadata": {},
   "outputs": [],
   "source": [
    "df = pd.DataFrame(list(lr.coef_[0]), columns=[\"coef\"])\n",
    "df[\"feature\"] = list(tvec.get_feature_names())"
   ]
  },
  {
   "cell_type": "code",
   "execution_count": null,
   "metadata": {},
   "outputs": [],
   "source": [
    "df.head()"
   ]
  },
  {
   "cell_type": "code",
   "execution_count": null,
   "metadata": {
    "scrolled": true
   },
   "outputs": [],
   "source": [
    "# Coefficients with the most +ve beta -> more \"Democrats\"\n",
    "df.sort_values(by=\"coef\", ascending=False).head(50)"
   ]
  },
  {
   "cell_type": "code",
   "execution_count": null,
   "metadata": {},
   "outputs": [],
   "source": [
    "# Coefficients with the most -ve beta -> more \"Conservatives\"\n",
    "df.sort_values(by=\"coef\", ascending=True).head(50)"
   ]
  },
  {
   "cell_type": "markdown",
   "metadata": {},
   "source": [
    "### Comparing with the popular ngram in the entire dataset"
   ]
  },
  {
   "cell_type": "code",
   "execution_count": null,
   "metadata": {},
   "outputs": [],
   "source": [
    "# Entire dataset\n",
    "data[\"text\"] = data[\"title\"] + \" \" + data[\"comments\"] + \" \" + data[\"selftext\"]\n",
    "data.head()"
   ]
  },
  {
   "cell_type": "code",
   "execution_count": null,
   "metadata": {},
   "outputs": [],
   "source": [
    "# Democrats only\n",
    "text_demo = data[\"text\"][data[\"label\"]==1]\n",
    "len(text_demo)"
   ]
  },
  {
   "cell_type": "code",
   "execution_count": null,
   "metadata": {},
   "outputs": [],
   "source": [
    "# Using CountVectorizer to get the most popular words in the entire data set of Democrats\n",
    "# set ngram to (1,2)\n",
    "cvec = CountVectorizer(ngram_range=(1,2))"
   ]
  },
  {
   "cell_type": "code",
   "execution_count": null,
   "metadata": {
    "scrolled": true
   },
   "outputs": [],
   "source": [
    "cvec_demo = cvec.fit_transform(text_demo).todense()\n",
    "cvec_demo_df = pd.DataFrame(cvec_demo, columns = cvec.get_feature_names())\n",
    "cvec_demo_df.loc['Total']= cvec_demo_df.sum(axis=0)\n",
    "cvec_demo_df.loc['Total',:].sort_values(ascending=False).head(40)\n"
   ]
  },
  {
   "cell_type": "code",
   "execution_count": null,
   "metadata": {},
   "outputs": [],
   "source": [
    "# Conservatives only\n",
    "text_con = data[\"text\"][data[\"label\"]==-1]\n",
    "len(text_con)"
   ]
  },
  {
   "cell_type": "code",
   "execution_count": null,
   "metadata": {},
   "outputs": [],
   "source": [
    "text_con.head()"
   ]
  },
  {
   "cell_type": "code",
   "execution_count": null,
   "metadata": {},
   "outputs": [],
   "source": [
    "# Using CountVectorizer to get the most popular words in the entire data set of Conservatives\n",
    "# set ngram to (1,2)\n",
    "cvec = CountVectorizer(ngram_range=(1,2))"
   ]
  },
  {
   "cell_type": "code",
   "execution_count": null,
   "metadata": {},
   "outputs": [],
   "source": [
    "cvec_con = cvec.fit_transform(text_con).todense()\n",
    "cvec_con_df = pd.DataFrame(cvec_con, columns = cvec.get_feature_names())\n",
    "cvec_con_df.loc['Total']= cvec_con_df.sum(axis=0)\n",
    "cvec_con_df.loc['Total',:].sort_values(ascending=False).head(40)"
   ]
  },
  {
   "cell_type": "code",
   "execution_count": null,
   "metadata": {},
   "outputs": [],
   "source": []
  }
 ],
 "metadata": {
  "anaconda-cloud": {},
  "kernelspec": {
   "display_name": "Python 3",
   "language": "python",
   "name": "python3"
  },
  "language_info": {
   "codemirror_mode": {
    "name": "ipython",
    "version": 3
   },
   "file_extension": ".py",
   "mimetype": "text/x-python",
   "name": "python",
   "nbconvert_exporter": "python",
   "pygments_lexer": "ipython3",
   "version": "3.7.7"
  }
 },
 "nbformat": 4,
 "nbformat_minor": 2
}
