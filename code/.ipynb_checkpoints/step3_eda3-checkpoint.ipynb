{
 "cells": [
  {
   "cell_type": "markdown",
   "metadata": {},
   "source": [
    "# Project 3: Web APIs & Classification"
   ]
  },
  {
   "cell_type": "markdown",
   "metadata": {},
   "source": [
    "## Step3: EDA third part"
   ]
  },
  {
   "cell_type": "markdown",
   "metadata": {},
   "source": [
    "After downloading the data for two subreddits, data preprocessing is to be done eg extracting characters only, removing stop words, stemming, lemmatizing.\n",
    "\n",
    "Only the \"title\" field is used in this step.\n",
    "\n",
    "The accuracy from two models (CountVectorizer, TF-IDF) is about 67%, vs base case of 50%"
   ]
  },
  {
   "cell_type": "markdown",
   "metadata": {},
   "source": [
    "### Importing libaries\n",
    "---"
   ]
  },
  {
   "cell_type": "code",
   "execution_count": 143,
   "metadata": {},
   "outputs": [],
   "source": [
    "import pandas as pd\n",
    "import numpy as np\n",
    "import re\n",
    "import matplotlib.pyplot as plt\n",
    "from nltk.corpus import stopwords\n",
    "from nltk.tokenize import RegexpTokenizer\n",
    "from nltk.stem import WordNetLemmatizer\n",
    "from nltk.stem.porter import PorterStemmer\n",
    "from sklearn.pipeline import Pipeline\n",
    "from sklearn.model_selection import train_test_split, GridSearchCV\n",
    "from sklearn.linear_model import LogisticRegression\n",
    "from sklearn.feature_extraction.text import CountVectorizer, TfidfVectorizer"
   ]
  },
  {
   "cell_type": "markdown",
   "metadata": {},
   "source": [
    "## Load the Data\n",
    "\n",
    "---\n",
    "\n"
   ]
  },
  {
   "cell_type": "code",
   "execution_count": 3,
   "metadata": {},
   "outputs": [],
   "source": [
    "# load from csv files\n",
    "pd_dem = pd.read_csv(\"../data/democrats_comments.csv\")\n",
    "pd_con = pd.read_csv(\"../data/conservatives_comments.csv\")"
   ]
  },
  {
   "cell_type": "code",
   "execution_count": 4,
   "metadata": {},
   "outputs": [],
   "source": [
    "# add label: democrats as 1, conservatives as 0\n",
    "pd_dem[\"label\"] = 1\n",
    "pd_con[\"label\"] = 0"
   ]
  },
  {
   "cell_type": "code",
   "execution_count": 20,
   "metadata": {},
   "outputs": [],
   "source": [
    "data = pd.concat([pd_dem, pd_con])\n",
    "data.reset_index(inplace=True)"
   ]
  },
  {
   "cell_type": "code",
   "execution_count": 15,
   "metadata": {},
   "outputs": [
    {
     "data": {
      "text/plain": [
       "(1990, 6)"
      ]
     },
     "execution_count": 15,
     "metadata": {},
     "output_type": "execute_result"
    }
   ],
   "source": [
    "data.shape"
   ]
  },
  {
   "cell_type": "code",
   "execution_count": 16,
   "metadata": {},
   "outputs": [
    {
     "data": {
      "text/html": [
       "<div>\n",
       "<style scoped>\n",
       "    .dataframe tbody tr th:only-of-type {\n",
       "        vertical-align: middle;\n",
       "    }\n",
       "\n",
       "    .dataframe tbody tr th {\n",
       "        vertical-align: top;\n",
       "    }\n",
       "\n",
       "    .dataframe thead th {\n",
       "        text-align: right;\n",
       "    }\n",
       "</style>\n",
       "<table border=\"1\" class=\"dataframe\">\n",
       "  <thead>\n",
       "    <tr style=\"text-align: right;\">\n",
       "      <th></th>\n",
       "      <th>name</th>\n",
       "      <th>title</th>\n",
       "      <th>url_comments</th>\n",
       "      <th>comments</th>\n",
       "      <th>selftext</th>\n",
       "      <th>label</th>\n",
       "    </tr>\n",
       "  </thead>\n",
       "  <tbody>\n",
       "    <tr>\n",
       "      <th>0</th>\n",
       "      <td>t3_kv4lr7</td>\n",
       "      <td>House Democrats launch second impeachment of T...</td>\n",
       "      <td>https://www.reddit.com/r/democrats/comments/kv...</td>\n",
       "      <td>Are they waiting for a response from Pence re ...</td>\n",
       "      <td>The House Article of Impeachment will be intro...</td>\n",
       "      <td>1</td>\n",
       "    </tr>\n",
       "    <tr>\n",
       "      <th>1</th>\n",
       "      <td>t3_kvg3xu</td>\n",
       "      <td>Do I have to</td>\n",
       "      <td>https://www.reddit.com/r/democrats/comments/kv...</td>\n",
       "      <td>Every time I look at Pence  he reminds me of S...</td>\n",
       "      <td>NaN</td>\n",
       "      <td>1</td>\n",
       "    </tr>\n",
       "    <tr>\n",
       "      <th>2</th>\n",
       "      <td>t3_kv4oca</td>\n",
       "      <td>Camp Auschwitz  guy identified</td>\n",
       "      <td>https://www.reddit.com/r/democrats/comments/kv...</td>\n",
       "      <td>Trump thought the riot looked  low class  I wo...</td>\n",
       "      <td>NaN</td>\n",
       "      <td>1</td>\n",
       "    </tr>\n",
       "    <tr>\n",
       "      <th>3</th>\n",
       "      <td>t3_kvekkt</td>\n",
       "      <td>No Crawling Back</td>\n",
       "      <td>https://www.reddit.com/r/democrats/comments/kv...</td>\n",
       "      <td>I just love how AOC takes no prisoners. She la...</td>\n",
       "      <td>NaN</td>\n",
       "      <td>1</td>\n",
       "    </tr>\n",
       "    <tr>\n",
       "      <th>4</th>\n",
       "      <td>t3_kvfqwa</td>\n",
       "      <td>Use the 14th Amendment to ban Trump</td>\n",
       "      <td>https://www.reddit.com/r/democrats/comments/kv...</td>\n",
       "      <td>Yep  what s more  Democrats got ahold of the S...</td>\n",
       "      <td>NaN</td>\n",
       "      <td>1</td>\n",
       "    </tr>\n",
       "  </tbody>\n",
       "</table>\n",
       "</div>"
      ],
      "text/plain": [
       "        name                                              title  \\\n",
       "0  t3_kv4lr7  House Democrats launch second impeachment of T...   \n",
       "1  t3_kvg3xu                                      Do I have to    \n",
       "2  t3_kv4oca                    Camp Auschwitz  guy identified    \n",
       "3  t3_kvekkt                                No Crawling Back      \n",
       "4  t3_kvfqwa                Use the 14th Amendment to ban Trump   \n",
       "\n",
       "                                        url_comments  \\\n",
       "0  https://www.reddit.com/r/democrats/comments/kv...   \n",
       "1  https://www.reddit.com/r/democrats/comments/kv...   \n",
       "2  https://www.reddit.com/r/democrats/comments/kv...   \n",
       "3  https://www.reddit.com/r/democrats/comments/kv...   \n",
       "4  https://www.reddit.com/r/democrats/comments/kv...   \n",
       "\n",
       "                                            comments  \\\n",
       "0  Are they waiting for a response from Pence re ...   \n",
       "1  Every time I look at Pence  he reminds me of S...   \n",
       "2  Trump thought the riot looked  low class  I wo...   \n",
       "3  I just love how AOC takes no prisoners. She la...   \n",
       "4  Yep  what s more  Democrats got ahold of the S...   \n",
       "\n",
       "                                            selftext  label  \n",
       "0  The House Article of Impeachment will be intro...      1  \n",
       "1                                                NaN      1  \n",
       "2                                                NaN      1  \n",
       "3                                                NaN      1  \n",
       "4                                                NaN      1  "
      ]
     },
     "execution_count": 16,
     "metadata": {},
     "output_type": "execute_result"
    }
   ],
   "source": [
    "data.head()"
   ]
  },
  {
   "cell_type": "code",
   "execution_count": 17,
   "metadata": {},
   "outputs": [
    {
     "data": {
      "text/plain": [
       "1    0.501005\n",
       "0    0.498995\n",
       "Name: label, dtype: float64"
      ]
     },
     "execution_count": 17,
     "metadata": {},
     "output_type": "execute_result"
    }
   ],
   "source": [
    "data[\"label\"].value_counts(normalize=True)"
   ]
  },
  {
   "cell_type": "markdown",
   "metadata": {},
   "source": [
    "### Base Case accuracy"
   ]
  },
  {
   "cell_type": "markdown",
   "metadata": {},
   "source": [
    "Majority class accuracy is 50.1%"
   ]
  },
  {
   "cell_type": "markdown",
   "metadata": {},
   "source": [
    "### Function for cleaning up the text"
   ]
  },
  {
   "cell_type": "code",
   "execution_count": 80,
   "metadata": {},
   "outputs": [],
   "source": [
    "def process_text(text):\n",
    "    # Function to convert a raw text to a string of meaning words\n",
    "\n",
    "    words = str(text)\n",
    "    # Remove non-letters.\n",
    "    try:\n",
    "        words = re.sub(\"[^a-zA-Z]\", \" \", text)\n",
    "    except:\n",
    "        pass\n",
    "    \n",
    "\n",
    "    # Convert to lower case, split into individual words (list)\n",
    "    words = words.lower().split()\n",
    "    \n",
    "    # Stemming\n",
    "    p_stemmer = PorterStemmer()   \n",
    "    stemmed_words = [p_stemmer.stem(i) for i in words]\n",
    "    words = stemmed_words\n",
    "    \n",
    "    # Lemmatizing\n",
    "    lemmatizer = WordNetLemmatizer()\n",
    "    lemmatized_words = [lemmatizer.lemmatize(i) for i in words]\n",
    "    words = lemmatized_words\n",
    "    \n",
    "    #Convert the stop words to a set.\n",
    "    stops = set(stopwords.words('english'))\n",
    "    \n",
    "    #Remove stop words.\n",
    "    meaningful_words = [w for w in words if not w in stops]\n",
    "    \n",
    "    # 6. Join the words back into one string separated by space, \n",
    "    # and return the result.\n",
    "    return(\" \".join(meaningful_words))"
   ]
  },
  {
   "cell_type": "code",
   "execution_count": 72,
   "metadata": {
    "scrolled": true
   },
   "outputs": [
    {
     "data": {
      "text/plain": [
       "'Are they waiting for a response from Pence re 25th before moving full speed ahead with impeachment  Yeah but when are they voting on it  I need to know when to turn on CSPAN  \\n\\n\\nEdit  looks like Wednesday.. for like  no reason. This is irresponsible. Do it today  Your only job is voting on stuff.. and it s still business hours. It s what we pay you for. Sorry  I m kinda pissed. I read there s gonna be more violence  amp  the National Guard are being issued weapons. Good. Even if they don t remove him  which they probably won t be able to  this is the right thing to do.'"
      ]
     },
     "execution_count": 72,
     "metadata": {},
     "output_type": "execute_result"
    }
   ],
   "source": [
    "text = data.loc[0, \"comments\"]\n",
    "text"
   ]
  },
  {
   "cell_type": "code",
   "execution_count": 73,
   "metadata": {
    "scrolled": false
   },
   "outputs": [
    {
     "data": {
      "text/plain": [
       "'wait respons penc th befor move full speed ahead impeach yeah vote need know turn cspan edit look like wednesday like reason thi irrespons today onli job vote stuff still busi hour pay sorri kinda piss read gonna violenc amp nation guard issu weapon good even remov probabl abl thi right thing'"
      ]
     },
     "execution_count": 73,
     "metadata": {},
     "output_type": "execute_result"
    }
   ],
   "source": [
    "text = process_text(text)\n",
    "text"
   ]
  },
  {
   "cell_type": "code",
   "execution_count": 64,
   "metadata": {},
   "outputs": [
    {
     "data": {
      "text/plain": [
       "index            int64\n",
       "name            object\n",
       "title           object\n",
       "url_comments    object\n",
       "comments        object\n",
       "selftext        object\n",
       "label            int64\n",
       "dtype: object"
      ]
     },
     "execution_count": 64,
     "metadata": {},
     "output_type": "execute_result"
    }
   ],
   "source": [
    "data.dtypes"
   ]
  },
  {
   "cell_type": "code",
   "execution_count": 81,
   "metadata": {},
   "outputs": [],
   "source": [
    "# Processing text\n",
    "data[\"title\"] = data[\"title\"].map(process_text)\n",
    "data[\"comments\"] = data[\"comments\"].map(process_text)\n",
    "data[\"selftext\"] = data[\"selftext\"].map(process_text)"
   ]
  },
  {
   "cell_type": "code",
   "execution_count": 83,
   "metadata": {},
   "outputs": [
    {
     "data": {
      "text/html": [
       "<div>\n",
       "<style scoped>\n",
       "    .dataframe tbody tr th:only-of-type {\n",
       "        vertical-align: middle;\n",
       "    }\n",
       "\n",
       "    .dataframe tbody tr th {\n",
       "        vertical-align: top;\n",
       "    }\n",
       "\n",
       "    .dataframe thead th {\n",
       "        text-align: right;\n",
       "    }\n",
       "</style>\n",
       "<table border=\"1\" class=\"dataframe\">\n",
       "  <thead>\n",
       "    <tr style=\"text-align: right;\">\n",
       "      <th></th>\n",
       "      <th>title</th>\n",
       "      <th>comments</th>\n",
       "      <th>selftext</th>\n",
       "    </tr>\n",
       "  </thead>\n",
       "  <tbody>\n",
       "    <tr>\n",
       "      <th>0</th>\n",
       "      <td>hou democrat launch second impeach trump hi ro...</td>\n",
       "      <td>wait respons penc th befor move full speed ahe...</td>\n",
       "      <td>hous articl impeach introduc et today u hous r...</td>\n",
       "    </tr>\n",
       "    <tr>\n",
       "      <th>1</th>\n",
       "      <td></td>\n",
       "      <td>everi time look penc remind steve carel offic ...</td>\n",
       "      <td>nan</td>\n",
       "    </tr>\n",
       "    <tr>\n",
       "      <th>2</th>\n",
       "      <td>camp auschwitz guy identifi</td>\n",
       "      <td>trump thought riot look low class wonder whi t...</td>\n",
       "      <td>nan</td>\n",
       "    </tr>\n",
       "    <tr>\n",
       "      <th>3</th>\n",
       "      <td>crawl back</td>\n",
       "      <td>love aoc take prison lay hold account wait see...</td>\n",
       "      <td>nan</td>\n",
       "    </tr>\n",
       "    <tr>\n",
       "      <th>4</th>\n",
       "      <td>use th amend ban trump</td>\n",
       "      <td>yep democrat got ahold senat hous white hous i...</td>\n",
       "      <td>nan</td>\n",
       "    </tr>\n",
       "  </tbody>\n",
       "</table>\n",
       "</div>"
      ],
      "text/plain": [
       "                                               title  \\\n",
       "0  hou democrat launch second impeach trump hi ro...   \n",
       "1                                                      \n",
       "2                        camp auschwitz guy identifi   \n",
       "3                                         crawl back   \n",
       "4                             use th amend ban trump   \n",
       "\n",
       "                                            comments  \\\n",
       "0  wait respons penc th befor move full speed ahe...   \n",
       "1  everi time look penc remind steve carel offic ...   \n",
       "2  trump thought riot look low class wonder whi t...   \n",
       "3  love aoc take prison lay hold account wait see...   \n",
       "4  yep democrat got ahold senat hous white hous i...   \n",
       "\n",
       "                                            selftext  \n",
       "0  hous articl impeach introduc et today u hous r...  \n",
       "1                                                nan  \n",
       "2                                                nan  \n",
       "3                                                nan  \n",
       "4                                                nan  "
      ]
     },
     "execution_count": 83,
     "metadata": {},
     "output_type": "execute_result"
    }
   ],
   "source": [
    "data[[\"title\", \"comments\", \"selftext\"]].head()"
   ]
  },
  {
   "cell_type": "code",
   "execution_count": 86,
   "metadata": {},
   "outputs": [
    {
     "data": {
      "text/plain": [
       "index           0\n",
       "name            0\n",
       "title           0\n",
       "url_comments    0\n",
       "comments        0\n",
       "selftext        0\n",
       "label           0\n",
       "dtype: int64"
      ]
     },
     "execution_count": 86,
     "metadata": {},
     "output_type": "execute_result"
    }
   ],
   "source": [
    "# To investigate how to capture the number of \"nan\" fields\n",
    "data.isna().sum()"
   ]
  },
  {
   "cell_type": "markdown",
   "metadata": {},
   "source": [
    "## First trial - Processing Titles only"
   ]
  },
  {
   "cell_type": "code",
   "execution_count": 87,
   "metadata": {},
   "outputs": [],
   "source": [
    "# Create data for model inputs - titles only\n",
    "# both X and y are to be lists\n",
    "X = data[\"title\"]\n",
    "y = data[\"label\"]"
   ]
  },
  {
   "cell_type": "code",
   "execution_count": 88,
   "metadata": {},
   "outputs": [],
   "source": [
    "X_train, X_test, y_train, y_test = train_test_split(X, y, stratify=y, random_state=42)"
   ]
  },
  {
   "cell_type": "code",
   "execution_count": 89,
   "metadata": {},
   "outputs": [
    {
     "data": {
      "text/plain": [
       "(1492,)"
      ]
     },
     "execution_count": 89,
     "metadata": {},
     "output_type": "execute_result"
    }
   ],
   "source": [
    "X_train.shape"
   ]
  },
  {
   "cell_type": "code",
   "execution_count": 90,
   "metadata": {},
   "outputs": [
    {
     "data": {
      "text/plain": [
       "1492"
      ]
     },
     "execution_count": 90,
     "metadata": {},
     "output_type": "execute_result"
    }
   ],
   "source": [
    "len(y_train)"
   ]
  },
  {
   "cell_type": "code",
   "execution_count": 107,
   "metadata": {},
   "outputs": [],
   "source": [
    "# Using CountVectorizer\n",
    "cvec_naive = CountVectorizer()\n",
    "\n",
    "X_train_cvec_naive = cvec_naive.fit_transform(X_train).todense()\n",
    "X_train_cvec_naive_df = pd.DataFrame(X_train_cvec_naive, columns = cvec_naive.get_feature_names())"
   ]
  },
  {
   "cell_type": "code",
   "execution_count": 108,
   "metadata": {},
   "outputs": [
    {
     "data": {
      "text/plain": [
       "(1492, 3446)"
      ]
     },
     "execution_count": 108,
     "metadata": {},
     "output_type": "execute_result"
    }
   ],
   "source": [
    "X_train_cvec_naive_df.shape"
   ]
  },
  {
   "cell_type": "code",
   "execution_count": 109,
   "metadata": {},
   "outputs": [
    {
     "data": {
      "text/html": [
       "<div>\n",
       "<style scoped>\n",
       "    .dataframe tbody tr th:only-of-type {\n",
       "        vertical-align: middle;\n",
       "    }\n",
       "\n",
       "    .dataframe tbody tr th {\n",
       "        vertical-align: top;\n",
       "    }\n",
       "\n",
       "    .dataframe thead th {\n",
       "        text-align: right;\n",
       "    }\n",
       "</style>\n",
       "<table border=\"1\" class=\"dataframe\">\n",
       "  <thead>\n",
       "    <tr style=\"text-align: right;\">\n",
       "      <th></th>\n",
       "      <th>aaouww</th>\n",
       "      <th>abandon</th>\n",
       "      <th>abc</th>\n",
       "      <th>abigail</th>\n",
       "      <th>abl</th>\n",
       "      <th>abolish</th>\n",
       "      <th>abort</th>\n",
       "      <th>abortionist</th>\n",
       "      <th>abov</th>\n",
       "      <th>abraham</th>\n",
       "      <th>...</th>\n",
       "      <th>youth</th>\n",
       "      <th>youtub</th>\n",
       "      <th>yukon</th>\n",
       "      <th>zero</th>\n",
       "      <th>zhan</th>\n",
       "      <th>zhang</th>\n",
       "      <th>zombi</th>\n",
       "      <th>zone</th>\n",
       "      <th>zoolog</th>\n",
       "      <th>zuckerberg</th>\n",
       "    </tr>\n",
       "  </thead>\n",
       "  <tbody>\n",
       "    <tr>\n",
       "      <th>0</th>\n",
       "      <td>0</td>\n",
       "      <td>0</td>\n",
       "      <td>0</td>\n",
       "      <td>0</td>\n",
       "      <td>0</td>\n",
       "      <td>0</td>\n",
       "      <td>0</td>\n",
       "      <td>0</td>\n",
       "      <td>0</td>\n",
       "      <td>0</td>\n",
       "      <td>...</td>\n",
       "      <td>0</td>\n",
       "      <td>0</td>\n",
       "      <td>0</td>\n",
       "      <td>0</td>\n",
       "      <td>0</td>\n",
       "      <td>0</td>\n",
       "      <td>0</td>\n",
       "      <td>0</td>\n",
       "      <td>0</td>\n",
       "      <td>0</td>\n",
       "    </tr>\n",
       "    <tr>\n",
       "      <th>1</th>\n",
       "      <td>0</td>\n",
       "      <td>0</td>\n",
       "      <td>0</td>\n",
       "      <td>0</td>\n",
       "      <td>0</td>\n",
       "      <td>0</td>\n",
       "      <td>0</td>\n",
       "      <td>0</td>\n",
       "      <td>0</td>\n",
       "      <td>0</td>\n",
       "      <td>...</td>\n",
       "      <td>0</td>\n",
       "      <td>0</td>\n",
       "      <td>0</td>\n",
       "      <td>0</td>\n",
       "      <td>0</td>\n",
       "      <td>0</td>\n",
       "      <td>0</td>\n",
       "      <td>0</td>\n",
       "      <td>0</td>\n",
       "      <td>0</td>\n",
       "    </tr>\n",
       "    <tr>\n",
       "      <th>2</th>\n",
       "      <td>0</td>\n",
       "      <td>0</td>\n",
       "      <td>0</td>\n",
       "      <td>0</td>\n",
       "      <td>0</td>\n",
       "      <td>0</td>\n",
       "      <td>0</td>\n",
       "      <td>0</td>\n",
       "      <td>0</td>\n",
       "      <td>0</td>\n",
       "      <td>...</td>\n",
       "      <td>0</td>\n",
       "      <td>0</td>\n",
       "      <td>0</td>\n",
       "      <td>0</td>\n",
       "      <td>0</td>\n",
       "      <td>0</td>\n",
       "      <td>0</td>\n",
       "      <td>0</td>\n",
       "      <td>0</td>\n",
       "      <td>0</td>\n",
       "    </tr>\n",
       "    <tr>\n",
       "      <th>3</th>\n",
       "      <td>0</td>\n",
       "      <td>0</td>\n",
       "      <td>0</td>\n",
       "      <td>0</td>\n",
       "      <td>0</td>\n",
       "      <td>0</td>\n",
       "      <td>0</td>\n",
       "      <td>0</td>\n",
       "      <td>0</td>\n",
       "      <td>0</td>\n",
       "      <td>...</td>\n",
       "      <td>0</td>\n",
       "      <td>0</td>\n",
       "      <td>0</td>\n",
       "      <td>0</td>\n",
       "      <td>0</td>\n",
       "      <td>0</td>\n",
       "      <td>0</td>\n",
       "      <td>0</td>\n",
       "      <td>0</td>\n",
       "      <td>0</td>\n",
       "    </tr>\n",
       "    <tr>\n",
       "      <th>4</th>\n",
       "      <td>0</td>\n",
       "      <td>0</td>\n",
       "      <td>0</td>\n",
       "      <td>0</td>\n",
       "      <td>0</td>\n",
       "      <td>0</td>\n",
       "      <td>0</td>\n",
       "      <td>0</td>\n",
       "      <td>0</td>\n",
       "      <td>0</td>\n",
       "      <td>...</td>\n",
       "      <td>0</td>\n",
       "      <td>0</td>\n",
       "      <td>0</td>\n",
       "      <td>0</td>\n",
       "      <td>0</td>\n",
       "      <td>0</td>\n",
       "      <td>0</td>\n",
       "      <td>0</td>\n",
       "      <td>0</td>\n",
       "      <td>0</td>\n",
       "    </tr>\n",
       "  </tbody>\n",
       "</table>\n",
       "<p>5 rows × 3446 columns</p>\n",
       "</div>"
      ],
      "text/plain": [
       "   aaouww  abandon  abc  abigail  abl  abolish  abort  abortionist  abov  \\\n",
       "0       0        0    0        0    0        0      0            0     0   \n",
       "1       0        0    0        0    0        0      0            0     0   \n",
       "2       0        0    0        0    0        0      0            0     0   \n",
       "3       0        0    0        0    0        0      0            0     0   \n",
       "4       0        0    0        0    0        0      0            0     0   \n",
       "\n",
       "   abraham  ...  youth  youtub  yukon  zero  zhan  zhang  zombi  zone  zoolog  \\\n",
       "0        0  ...      0       0      0     0     0      0      0     0       0   \n",
       "1        0  ...      0       0      0     0     0      0      0     0       0   \n",
       "2        0  ...      0       0      0     0     0      0      0     0       0   \n",
       "3        0  ...      0       0      0     0     0      0      0     0       0   \n",
       "4        0  ...      0       0      0     0     0      0      0     0       0   \n",
       "\n",
       "   zuckerberg  \n",
       "0           0  \n",
       "1           0  \n",
       "2           0  \n",
       "3           0  \n",
       "4           0  \n",
       "\n",
       "[5 rows x 3446 columns]"
      ]
     },
     "execution_count": 109,
     "metadata": {},
     "output_type": "execute_result"
    }
   ],
   "source": [
    "X_train_cvec_naive_df.head()"
   ]
  },
  {
   "cell_type": "markdown",
   "metadata": {},
   "source": [
    "### EDA of X_train_cvec_stop features:"
   ]
  },
  {
   "cell_type": "code",
   "execution_count": 115,
   "metadata": {},
   "outputs": [
    {
     "data": {
      "text/plain": [
       "trump         1725.0\n",
       "capitol        665.0\n",
       "thi            625.0\n",
       "elect          550.0\n",
       "wa             410.0\n",
       "               ...  \n",
       "millionair       5.0\n",
       "miller           5.0\n",
       "milk             5.0\n",
       "militia          5.0\n",
       "Total            0.0\n",
       "Name: Total, Length: 3447, dtype: float64"
      ]
     },
     "execution_count": 115,
     "metadata": {},
     "output_type": "execute_result"
    }
   ],
   "source": [
    "# find out how many times each word appear in the corpus by creating a 'Total' row at the end of the dataframe:\n",
    "X_train_cvec_naive_df.loc['Total']= X_train_cvec_naive_df.sum(axis=0)\n",
    "X_train_cvec_naive_df.loc['Total',:].sort_values(ascending=False)"
   ]
  },
  {
   "cell_type": "markdown",
   "metadata": {},
   "source": [
    "### Create a DataFrame for the above Total Word Count, and then check, for each specified frequency (2, 10, 50, etc), what is the associated number of features (words) that appear in the corpus.\n"
   ]
  },
  {
   "cell_type": "code",
   "execution_count": 159,
   "metadata": {},
   "outputs": [
    {
     "data": {
      "text/html": [
       "<div>\n",
       "<style scoped>\n",
       "    .dataframe tbody tr th:only-of-type {\n",
       "        vertical-align: middle;\n",
       "    }\n",
       "\n",
       "    .dataframe tbody tr th {\n",
       "        vertical-align: top;\n",
       "    }\n",
       "\n",
       "    .dataframe thead th {\n",
       "        text-align: right;\n",
       "    }\n",
       "</style>\n",
       "<table border=\"1\" class=\"dataframe\">\n",
       "  <thead>\n",
       "    <tr style=\"text-align: right;\">\n",
       "      <th></th>\n",
       "      <th>Total</th>\n",
       "    </tr>\n",
       "  </thead>\n",
       "  <tbody>\n",
       "    <tr>\n",
       "      <th>trump</th>\n",
       "      <td>1725.0</td>\n",
       "    </tr>\n",
       "    <tr>\n",
       "      <th>capitol</th>\n",
       "      <td>665.0</td>\n",
       "    </tr>\n",
       "    <tr>\n",
       "      <th>thi</th>\n",
       "      <td>625.0</td>\n",
       "    </tr>\n",
       "    <tr>\n",
       "      <th>elect</th>\n",
       "      <td>550.0</td>\n",
       "    </tr>\n",
       "    <tr>\n",
       "      <th>wa</th>\n",
       "      <td>410.0</td>\n",
       "    </tr>\n",
       "  </tbody>\n",
       "</table>\n",
       "</div>"
      ],
      "text/plain": [
       "          Total\n",
       "trump    1725.0\n",
       "capitol   665.0\n",
       "thi       625.0\n",
       "elect     550.0\n",
       "wa        410.0"
      ]
     },
     "execution_count": 159,
     "metadata": {},
     "output_type": "execute_result"
    }
   ],
   "source": [
    "Xtrain_total_cvec_naive = pd.DataFrame(X_train_cvec_naive_df.loc['Total',:].sort_values(ascending=False))\n",
    "Xtrain_total_cvec_naive.head()"
   ]
  },
  {
   "cell_type": "code",
   "execution_count": 158,
   "metadata": {},
   "outputs": [
    {
     "name": "stdout",
     "output_type": "stream",
     "text": [
      "1\n",
      "2340\n",
      "3190\n",
      "3353\n",
      "3421\n",
      "3443\n",
      "3446\n"
     ]
    }
   ],
   "source": [
    "print(len(Xtrain_total_cvec_naive.loc[Xtrain_total_cvec_naive['Total'] <= 2]))\n",
    "print(len(Xtrain_total_cvec_naive.loc[Xtrain_total_cvec_naive['Total'] <= 10]))\n",
    "print(len(Xtrain_total_cvec_naive.loc[Xtrain_total_cvec_naive['Total'] <= 50]))\n",
    "print(len(Xtrain_total_cvec_naive.loc[Xtrain_total_cvec_naive['Total'] <= 100]))\n",
    "print(len(Xtrain_total_cvec_naive.loc[Xtrain_total_cvec_naive['Total'] <= 200]))\n",
    "print(len(Xtrain_total_cvec_naive.loc[Xtrain_total_cvec_naive['Total'] <= 500]))\n",
    "print(len(Xtrain_total_cvec_naive.loc[Xtrain_total_cvec_naive['Total'] <= 1000]))"
   ]
  },
  {
   "cell_type": "code",
   "execution_count": 194,
   "metadata": {},
   "outputs": [
    {
     "data": {
      "text/plain": [
       "<BarContainer object of 26 artists>"
      ]
     },
     "execution_count": 194,
     "metadata": {},
     "output_type": "execute_result"
    },
    {
     "data": {
      "image/png": "[encoded data removed]",
      "text/plain": [
       "<Figure size 720x720 with 1 Axes>"
      ]
     },
     "metadata": {
      "needs_background": "light"
     },
     "output_type": "display_data"
    }
   ],
   "source": [
    "# plot histogram to observe the distribution\n",
    "figure = plt.figure(figsize=[10,10])\n",
    "plt.title(\"CountVectorizer Outputs\")\n",
    "plt.barh(Xtrain_total_cvec_naive[Xtrain_total_cvec_naive.Total > 200].index.to_list(), Xtrain_total_cvec_naive[Xtrain_total_cvec_naive.Total > 200][\"Total\"])"
   ]
  },
  {
   "cell_type": "code",
   "execution_count": 155,
   "metadata": {},
   "outputs": [
    {
     "data": {
      "text/plain": [
       "15"
      ]
     },
     "execution_count": 155,
     "metadata": {},
     "output_type": "execute_result"
    }
   ],
   "source": [
    "# Count of the tokens under the criteria\n",
    "len(Xtrain_total_cvec_naive[Xtrain_total_cvec_naive.Total > 300].index.to_list())"
   ]
  },
  {
   "cell_type": "markdown",
   "metadata": {},
   "source": [
    "### Using these information, run a GridSearchCV and tune the hyperparameters accordingly to optimize the model."
   ]
  },
  {
   "cell_type": "code",
   "execution_count": 199,
   "metadata": {},
   "outputs": [],
   "source": [
    "pipe = Pipeline([\n",
    "    (\"cvec\", CountVectorizer()),\n",
    "    (\"lr\", LogisticRegression())\n",
    "    ])"
   ]
  },
  {
   "cell_type": "code",
   "execution_count": 200,
   "metadata": {
    "scrolled": true
   },
   "outputs": [
    {
     "data": {
      "text/plain": [
       "GridSearchCV(cv=5,\n",
       "             estimator=Pipeline(steps=[('cvec', CountVectorizer()),\n",
       "                                       ('lr', LogisticRegression())]),\n",
       "             n_jobs=-1,\n",
       "             param_grid={'cvec__max_df': [0.1, 0.15, 0.2, 0.25],\n",
       "                         'cvec__max_features': [50, 100, 150],\n",
       "                         'cvec__min_df': [1, 2, 3]})"
      ]
     },
     "execution_count": 200,
     "metadata": {},
     "output_type": "execute_result"
    }
   ],
   "source": [
    "pipe_params = {\n",
    "    'cvec__max_features': [50, 100, 150],\n",
    "    'cvec__min_df': [1, 2, 3],\n",
    "    'cvec__max_df': [.1, .15, .2, .25],\n",
    "}\n",
    "gs = GridSearchCV(pipe, param_grid=pipe_params, cv=5, n_jobs = -1)\n",
    "gs.fit(X_train, y_train)"
   ]
  },
  {
   "cell_type": "code",
   "execution_count": 201,
   "metadata": {},
   "outputs": [
    {
     "name": "stdout",
     "output_type": "stream",
     "text": [
      "0.6327153150322102\n"
     ]
    },
    {
     "data": {
      "text/plain": [
       "{'cvec__max_df': 0.25, 'cvec__max_features': 150, 'cvec__min_df': 2}"
      ]
     },
     "execution_count": 201,
     "metadata": {},
     "output_type": "execute_result"
    }
   ],
   "source": [
    "print(gs.best_score_)\n",
    "gs.best_params_"
   ]
  },
  {
   "cell_type": "code",
   "execution_count": 202,
   "metadata": {},
   "outputs": [
    {
     "name": "stdout",
     "output_type": "stream",
     "text": [
      "0.7131367292225201\n"
     ]
    },
    {
     "data": {
      "text/plain": [
       "0.678714859437751"
      ]
     },
     "execution_count": 202,
     "metadata": {},
     "output_type": "execute_result"
    }
   ],
   "source": [
    "print(gs.score(X_train, y_train))\n",
    "gs.score(X_test, y_test)"
   ]
  },
  {
   "cell_type": "markdown",
   "metadata": {},
   "source": [
    "Fine-tuning the hyperparameters"
   ]
  },
  {
   "cell_type": "code",
   "execution_count": 212,
   "metadata": {},
   "outputs": [
    {
     "data": {
      "text/plain": [
       "GridSearchCV(cv=5,\n",
       "             estimator=Pipeline(steps=[('cvec', CountVectorizer()),\n",
       "                                       ('lr', LogisticRegression())]),\n",
       "             n_jobs=-1,\n",
       "             param_grid={'cvec__max_df': [0.05, 0.1, 0.15, 0.2],\n",
       "                         'cvec__max_features': [250, 300, 350, 400],\n",
       "                         'cvec__min_df': [1, 2, 3]})"
      ]
     },
     "execution_count": 212,
     "metadata": {},
     "output_type": "execute_result"
    }
   ],
   "source": [
    "pipe_params = {\n",
    "    'cvec__max_features': [250, 300, 350, 400],\n",
    "    'cvec__min_df': [1, 2, 3],\n",
    "    'cvec__max_df': [.05, .1, .15, .2],\n",
    "}\n",
    "gs = GridSearchCV(pipe, param_grid=pipe_params, cv=5, n_jobs = -1)\n",
    "gs.fit(X_train, y_train)"
   ]
  },
  {
   "cell_type": "code",
   "execution_count": 210,
   "metadata": {},
   "outputs": [
    {
     "name": "stdout",
     "output_type": "stream",
     "text": [
      "0.6581513321810959\n"
     ]
    },
    {
     "data": {
      "text/plain": [
       "{'cvec__max_df': 0.1, 'cvec__max_features': 350, 'cvec__min_df': 2}"
      ]
     },
     "execution_count": 210,
     "metadata": {},
     "output_type": "execute_result"
    }
   ],
   "source": [
    "print(gs.best_score_)\n",
    "gs.best_params_"
   ]
  },
  {
   "cell_type": "code",
   "execution_count": 211,
   "metadata": {},
   "outputs": [
    {
     "name": "stdout",
     "output_type": "stream",
     "text": [
      "0.796916890080429\n"
     ]
    },
    {
     "data": {
      "text/plain": [
       "0.7048192771084337"
      ]
     },
     "execution_count": 211,
     "metadata": {},
     "output_type": "execute_result"
    }
   ],
   "source": [
    "print(gs.score(X_train, y_train))\n",
    "gs.score(X_test, y_test)"
   ]
  },
  {
   "cell_type": "markdown",
   "metadata": {},
   "source": [
    "Test set accuracy improved to 70.5% after increasing max_features"
   ]
  },
  {
   "cell_type": "markdown",
   "metadata": {},
   "source": [
    "## Using TF-IDF"
   ]
  },
  {
   "cell_type": "code",
   "execution_count": 173,
   "metadata": {},
   "outputs": [],
   "source": [
    "tvec_naive = TfidfVectorizer()"
   ]
  },
  {
   "cell_type": "code",
   "execution_count": 174,
   "metadata": {},
   "outputs": [
    {
     "data": {
      "text/plain": [
       "(1492, 3446)"
      ]
     },
     "execution_count": 174,
     "metadata": {},
     "output_type": "execute_result"
    }
   ],
   "source": [
    "X_train_tvec_naive = tvec_naive.fit_transform(X_train).todense()\n",
    "X_train_tvec_naive_df = pd.DataFrame(X_train_tvec_naive, columns = tvec_naive.get_feature_names())\n",
    "X_train_tvec_naive_df.shape"
   ]
  },
  {
   "cell_type": "code",
   "execution_count": 175,
   "metadata": {},
   "outputs": [
    {
     "data": {
      "text/plain": [
       "trump         53.303686\n",
       "thi           29.127423\n",
       "capitol       26.446704\n",
       "elect         21.006803\n",
       "republican    18.627395\n",
       "                ...    \n",
       "tn             0.108512\n",
       "jame           0.108512\n",
       "marsha         0.108512\n",
       "kennedi        0.108512\n",
       "wi             0.108512\n",
       "Name: Total, Length: 3446, dtype: float64"
      ]
     },
     "execution_count": 175,
     "metadata": {},
     "output_type": "execute_result"
    }
   ],
   "source": [
    "X_train_tvec_naive_df.loc['Total',:]= X_train_tvec_naive_df.sum(axis=0)\n",
    "X_train_tvec_naive_df.loc['Total',:].sort_values(ascending=False)"
   ]
  },
  {
   "cell_type": "markdown",
   "metadata": {},
   "source": [
    "Seems to provide better results than CountVectorizer eg \"wa\" was not in the top of list"
   ]
  },
  {
   "cell_type": "code",
   "execution_count": 176,
   "metadata": {},
   "outputs": [
    {
     "data": {
      "text/html": [
       "<div>\n",
       "<style scoped>\n",
       "    .dataframe tbody tr th:only-of-type {\n",
       "        vertical-align: middle;\n",
       "    }\n",
       "\n",
       "    .dataframe tbody tr th {\n",
       "        vertical-align: top;\n",
       "    }\n",
       "\n",
       "    .dataframe thead th {\n",
       "        text-align: right;\n",
       "    }\n",
       "</style>\n",
       "<table border=\"1\" class=\"dataframe\">\n",
       "  <thead>\n",
       "    <tr style=\"text-align: right;\">\n",
       "      <th></th>\n",
       "      <th>Total</th>\n",
       "    </tr>\n",
       "  </thead>\n",
       "  <tbody>\n",
       "    <tr>\n",
       "      <th>trump</th>\n",
       "      <td>53.303686</td>\n",
       "    </tr>\n",
       "    <tr>\n",
       "      <th>thi</th>\n",
       "      <td>29.127423</td>\n",
       "    </tr>\n",
       "    <tr>\n",
       "      <th>capitol</th>\n",
       "      <td>26.446704</td>\n",
       "    </tr>\n",
       "    <tr>\n",
       "      <th>elect</th>\n",
       "      <td>21.006803</td>\n",
       "    </tr>\n",
       "    <tr>\n",
       "      <th>republican</th>\n",
       "      <td>18.627395</td>\n",
       "    </tr>\n",
       "  </tbody>\n",
       "</table>\n",
       "</div>"
      ],
      "text/plain": [
       "                Total\n",
       "trump       53.303686\n",
       "thi         29.127423\n",
       "capitol     26.446704\n",
       "elect       21.006803\n",
       "republican  18.627395"
      ]
     },
     "execution_count": 176,
     "metadata": {},
     "output_type": "execute_result"
    }
   ],
   "source": [
    "Xtrain_total_TVEC_naive = pd.DataFrame(X_train_tvec_naive_df.loc['Total',:].sort_values(ascending=False))\n",
    "Xtrain_total_TVEC_naive.head()"
   ]
  },
  {
   "cell_type": "code",
   "execution_count": 177,
   "metadata": {},
   "outputs": [
    {
     "name": "stdout",
     "output_type": "stream",
     "text": [
      "2436\n",
      "3328\n",
      "3417\n",
      "3442\n"
     ]
    }
   ],
   "source": [
    "print(len(Xtrain_total_TVEC_naive.loc[Xtrain_total_TVEC_naive['Total'] <= 1]))\n",
    "print(len(Xtrain_total_TVEC_naive.loc[Xtrain_total_TVEC_naive['Total'] <= 5]))\n",
    "print(len(Xtrain_total_TVEC_naive.loc[Xtrain_total_TVEC_naive['Total'] <= 10]))\n",
    "print(len(Xtrain_total_TVEC_naive.loc[Xtrain_total_TVEC_naive['Total'] <= 20]))"
   ]
  },
  {
   "cell_type": "code",
   "execution_count": 195,
   "metadata": {},
   "outputs": [
    {
     "data": {
      "text/plain": [
       "<BarContainer object of 29 artists>"
      ]
     },
     "execution_count": 195,
     "metadata": {},
     "output_type": "execute_result"
    },
    {
     "data": {
      "image/png": "[encoded data removed]",
      "text/plain": [
       "<Figure size 720x720 with 1 Axes>"
      ]
     },
     "metadata": {
      "needs_background": "light"
     },
     "output_type": "display_data"
    }
   ],
   "source": [
    "# plot histogram to observe the distribution\n",
    "figure = plt.figure(figsize=[10,10])\n",
    "plt.title(\"TFIDF Outputs\")\n",
    "plt.barh(Xtrain_total_TVEC_naive[Xtrain_total_TVEC_naive.Total > 10].index.to_list(), Xtrain_total_TVEC_naive[Xtrain_total_TVEC_naive.Total > 10][\"Total\"])"
   ]
  },
  {
   "cell_type": "markdown",
   "metadata": {},
   "source": [
    "Tune TVEC hyperparameters upon EDA:"
   ]
  },
  {
   "cell_type": "code",
   "execution_count": 185,
   "metadata": {},
   "outputs": [
    {
     "data": {
      "text/plain": [
       "GridSearchCV(cv=5,\n",
       "             estimator=Pipeline(steps=[('tvec', TfidfVectorizer()),\n",
       "                                       ('lr', LogisticRegression())]),\n",
       "             n_jobs=-1,\n",
       "             param_grid={'tvec__max_df': [0.2, 0.25, 0.3],\n",
       "                         'tvec__max_features': [30, 60, 90],\n",
       "                         'tvec__min_df': [2, 3]})"
      ]
     },
     "execution_count": 185,
     "metadata": {},
     "output_type": "execute_result"
    }
   ],
   "source": [
    "pipe2 = Pipeline([\n",
    "    (\"tvec\", TfidfVectorizer()),\n",
    "    (\"lr\", LogisticRegression())\n",
    "    ])\n",
    "\n",
    "pipe_params = {\n",
    "    'tvec__max_features': [30, 60, 90],\n",
    "    'tvec__min_df': [2, 3],\n",
    "    'tvec__max_df': [.2, .25, .3],\n",
    "}\n",
    "gs = GridSearchCV(pipe2, param_grid=pipe_params, cv=5, n_jobs = -1)\n",
    "gs.fit(X_train, y_train)"
   ]
  },
  {
   "cell_type": "code",
   "execution_count": 186,
   "metadata": {},
   "outputs": [
    {
     "name": "stdout",
     "output_type": "stream",
     "text": [
      "0.6199815941280779\n"
     ]
    },
    {
     "data": {
      "text/plain": [
       "{'tvec__max_df': 0.25, 'tvec__max_features': 90, 'tvec__min_df': 2}"
      ]
     },
     "execution_count": 186,
     "metadata": {},
     "output_type": "execute_result"
    }
   ],
   "source": [
    "print(gs.best_score_)\n",
    "gs.best_params_"
   ]
  },
  {
   "cell_type": "code",
   "execution_count": 187,
   "metadata": {},
   "outputs": [
    {
     "name": "stdout",
     "output_type": "stream",
     "text": [
      "0.6742627345844504\n",
      "0.6586345381526104\n"
     ]
    }
   ],
   "source": [
    "print(gs.score(X_train, y_train))\n",
    "print(gs.score(X_test, y_test))"
   ]
  },
  {
   "cell_type": "markdown",
   "metadata": {},
   "source": [
    "Fine-tuning the hyperparameters"
   ]
  },
  {
   "cell_type": "code",
   "execution_count": 188,
   "metadata": {},
   "outputs": [],
   "source": [
    "pipe_params = {\n",
    "    'tvec__max_features': [60, 90, 120],\n",
    "    'tvec__min_df': [1, 2, 3],\n",
    "    'tvec__max_df': [.2, .25, .3],\n",
    "}"
   ]
  },
  {
   "cell_type": "code",
   "execution_count": 189,
   "metadata": {},
   "outputs": [
    {
     "data": {
      "text/plain": [
       "GridSearchCV(cv=5,\n",
       "             estimator=Pipeline(steps=[('tvec', TfidfVectorizer()),\n",
       "                                       ('lr', LogisticRegression())]),\n",
       "             n_jobs=-1,\n",
       "             param_grid={'tvec__max_df': [0.2, 0.25, 0.3],\n",
       "                         'tvec__max_features': [60, 90, 120],\n",
       "                         'tvec__min_df': [1, 2, 3]})"
      ]
     },
     "execution_count": 189,
     "metadata": {},
     "output_type": "execute_result"
    }
   ],
   "source": [
    "gs = GridSearchCV(pipe2, param_grid=pipe_params, cv=5, n_jobs = -1)\n",
    "gs.fit(X_train, y_train)"
   ]
  },
  {
   "cell_type": "code",
   "execution_count": 190,
   "metadata": {},
   "outputs": [
    {
     "name": "stdout",
     "output_type": "stream",
     "text": [
      "0.6360597966375614\n"
     ]
    },
    {
     "data": {
      "text/plain": [
       "{'tvec__max_df': 0.25, 'tvec__max_features': 120, 'tvec__min_df': 2}"
      ]
     },
     "execution_count": 190,
     "metadata": {},
     "output_type": "execute_result"
    }
   ],
   "source": [
    "print(gs.best_score_)\n",
    "gs.best_params_"
   ]
  },
  {
   "cell_type": "code",
   "execution_count": 191,
   "metadata": {},
   "outputs": [
    {
     "name": "stdout",
     "output_type": "stream",
     "text": [
      "0.6970509383378016\n",
      "0.6626506024096386\n"
     ]
    }
   ],
   "source": [
    "print(gs.score(X_train, y_train))\n",
    "print(gs.score(X_test, y_test))"
   ]
  },
  {
   "cell_type": "markdown",
   "metadata": {},
   "source": [
    "Slightly better after fine tuning hyperparameters"
   ]
  }
 ],
 "metadata": {
  "anaconda-cloud": {},
  "kernelspec": {
   "display_name": "Python 3",
   "language": "python",
   "name": "python3"
  },
  "language_info": {
   "codemirror_mode": {
    "name": "ipython",
    "version": 3
   },
   "file_extension": ".py",
   "mimetype": "text/x-python",
   "name": "python",
   "nbconvert_exporter": "python",
   "pygments_lexer": "ipython3",
   "version": "3.7.7"
  }
 },
 "nbformat": 4,
 "nbformat_minor": 2
}
