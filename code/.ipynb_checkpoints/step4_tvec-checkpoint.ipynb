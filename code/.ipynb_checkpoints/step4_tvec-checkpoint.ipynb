{
 "cells": [
  {
   "cell_type": "markdown",
   "metadata": {},
   "source": [
    "# Project 3: Web APIs & Classification"
   ]
  },
  {
   "cell_type": "markdown",
   "metadata": {},
   "source": [
    "## Step 4: Repeating with TF-IDF"
   ]
  },
  {
   "cell_type": "markdown",
   "metadata": {},
   "source": [
    "### Further data processing\n",
    "Similar to Step 3\n",
    "\n",
    "### TF-IDF Vectorization\n",
    "- TF-IDF Vectorization in this current step\n",
    "\n",
    "### Modelling\n",
    "- Logistic Regression and Multinomial Baynesian"
   ]
  },
  {
   "cell_type": "markdown",
   "metadata": {},
   "source": [
    "### Importing libaries"
   ]
  },
  {
   "cell_type": "code",
   "execution_count": 1,
   "metadata": {},
   "outputs": [],
   "source": [
    "import pandas as pd\n",
    "import numpy as np\n",
    "import re\n",
    "import matplotlib.pyplot as plt\n",
    "from nltk.corpus import stopwords\n",
    "from nltk.tokenize import RegexpTokenizer\n",
    "from nltk.stem import WordNetLemmatizer\n",
    "from nltk.stem.porter import PorterStemmer\n",
    "from sklearn.pipeline import Pipeline\n",
    "from sklearn.model_selection import train_test_split, GridSearchCV, cross_val_score\n",
    "from sklearn.linear_model import LogisticRegression\n",
    "from sklearn.naive_bayes import MultinomialNB\n",
    "from sklearn.feature_extraction.text import CountVectorizer, TfidfVectorizer\n",
    "from sklearn.metrics import roc_curve, auc"
   ]
  },
  {
   "cell_type": "markdown",
   "metadata": {},
   "source": [
    "### Loading data from csv files"
   ]
  },
  {
   "cell_type": "code",
   "execution_count": 2,
   "metadata": {},
   "outputs": [],
   "source": [
    "# load data from csv files saved in Steps 1 and 2\n",
    "pd_dem = pd.read_csv(\"../data/democrats_comments.csv\")\n",
    "pd_con = pd.read_csv(\"../data/conservatives_comments.csv\")"
   ]
  },
  {
   "cell_type": "code",
   "execution_count": 3,
   "metadata": {},
   "outputs": [],
   "source": [
    "# add label: democrats as 1, con as -1\n",
    "pd_dem[\"label\"] = 1\n",
    "pd_con[\"label\"] = -1"
   ]
  },
  {
   "cell_type": "code",
   "execution_count": 4,
   "metadata": {},
   "outputs": [],
   "source": [
    "data = pd.concat([pd_dem, pd_con])\n",
    "data.reset_index(inplace=True)"
   ]
  },
  {
   "cell_type": "code",
   "execution_count": 5,
   "metadata": {},
   "outputs": [
    {
     "data": {
      "text/plain": [
       "(1990, 7)"
      ]
     },
     "execution_count": 5,
     "metadata": {},
     "output_type": "execute_result"
    }
   ],
   "source": [
    "data.shape"
   ]
  },
  {
   "cell_type": "code",
   "execution_count": 6,
   "metadata": {},
   "outputs": [
    {
     "data": {
      "text/html": [
       "<div>\n",
       "<style scoped>\n",
       "    .dataframe tbody tr th:only-of-type {\n",
       "        vertical-align: middle;\n",
       "    }\n",
       "\n",
       "    .dataframe tbody tr th {\n",
       "        vertical-align: top;\n",
       "    }\n",
       "\n",
       "    .dataframe thead th {\n",
       "        text-align: right;\n",
       "    }\n",
       "</style>\n",
       "<table border=\"1\" class=\"dataframe\">\n",
       "  <thead>\n",
       "    <tr style=\"text-align: right;\">\n",
       "      <th></th>\n",
       "      <th>index</th>\n",
       "      <th>name</th>\n",
       "      <th>title</th>\n",
       "      <th>url_comments</th>\n",
       "      <th>comments</th>\n",
       "      <th>selftext</th>\n",
       "      <th>label</th>\n",
       "    </tr>\n",
       "  </thead>\n",
       "  <tbody>\n",
       "    <tr>\n",
       "      <th>0</th>\n",
       "      <td>0</td>\n",
       "      <td>t3_kv4lr7</td>\n",
       "      <td>House Democrats launch second impeachment of T...</td>\n",
       "      <td>https://www.reddit.com/r/democrats/comments/kv...</td>\n",
       "      <td>Are they waiting for a response from Pence re ...</td>\n",
       "      <td>The House Article of Impeachment will be intro...</td>\n",
       "      <td>1</td>\n",
       "    </tr>\n",
       "    <tr>\n",
       "      <th>1</th>\n",
       "      <td>1</td>\n",
       "      <td>t3_kvg3xu</td>\n",
       "      <td>Do I have to</td>\n",
       "      <td>https://www.reddit.com/r/democrats/comments/kv...</td>\n",
       "      <td>Every time I look at Pence  he reminds me of S...</td>\n",
       "      <td>NaN</td>\n",
       "      <td>1</td>\n",
       "    </tr>\n",
       "    <tr>\n",
       "      <th>2</th>\n",
       "      <td>2</td>\n",
       "      <td>t3_kv4oca</td>\n",
       "      <td>Camp Auschwitz  guy identified</td>\n",
       "      <td>https://www.reddit.com/r/democrats/comments/kv...</td>\n",
       "      <td>Trump thought the riot looked  low class  I wo...</td>\n",
       "      <td>NaN</td>\n",
       "      <td>1</td>\n",
       "    </tr>\n",
       "    <tr>\n",
       "      <th>3</th>\n",
       "      <td>3</td>\n",
       "      <td>t3_kvekkt</td>\n",
       "      <td>No Crawling Back</td>\n",
       "      <td>https://www.reddit.com/r/democrats/comments/kv...</td>\n",
       "      <td>I just love how AOC takes no prisoners. She la...</td>\n",
       "      <td>NaN</td>\n",
       "      <td>1</td>\n",
       "    </tr>\n",
       "    <tr>\n",
       "      <th>4</th>\n",
       "      <td>4</td>\n",
       "      <td>t3_kvfqwa</td>\n",
       "      <td>Use the 14th Amendment to ban Trump</td>\n",
       "      <td>https://www.reddit.com/r/democrats/comments/kv...</td>\n",
       "      <td>Yep  what s more  Democrats got ahold of the S...</td>\n",
       "      <td>NaN</td>\n",
       "      <td>1</td>\n",
       "    </tr>\n",
       "  </tbody>\n",
       "</table>\n",
       "</div>"
      ],
      "text/plain": [
       "   index       name                                              title  \\\n",
       "0      0  t3_kv4lr7  House Democrats launch second impeachment of T...   \n",
       "1      1  t3_kvg3xu                                      Do I have to    \n",
       "2      2  t3_kv4oca                    Camp Auschwitz  guy identified    \n",
       "3      3  t3_kvekkt                                No Crawling Back      \n",
       "4      4  t3_kvfqwa                Use the 14th Amendment to ban Trump   \n",
       "\n",
       "                                        url_comments  \\\n",
       "0  https://www.reddit.com/r/democrats/comments/kv...   \n",
       "1  https://www.reddit.com/r/democrats/comments/kv...   \n",
       "2  https://www.reddit.com/r/democrats/comments/kv...   \n",
       "3  https://www.reddit.com/r/democrats/comments/kv...   \n",
       "4  https://www.reddit.com/r/democrats/comments/kv...   \n",
       "\n",
       "                                            comments  \\\n",
       "0  Are they waiting for a response from Pence re ...   \n",
       "1  Every time I look at Pence  he reminds me of S...   \n",
       "2  Trump thought the riot looked  low class  I wo...   \n",
       "3  I just love how AOC takes no prisoners. She la...   \n",
       "4  Yep  what s more  Democrats got ahold of the S...   \n",
       "\n",
       "                                            selftext  label  \n",
       "0  The House Article of Impeachment will be intro...      1  \n",
       "1                                                NaN      1  \n",
       "2                                                NaN      1  \n",
       "3                                                NaN      1  \n",
       "4                                                NaN      1  "
      ]
     },
     "execution_count": 6,
     "metadata": {},
     "output_type": "execute_result"
    }
   ],
   "source": [
    "data.head()"
   ]
  },
  {
   "cell_type": "code",
   "execution_count": 7,
   "metadata": {},
   "outputs": [
    {
     "data": {
      "text/plain": [
       " 1    0.501005\n",
       "-1    0.498995\n",
       "Name: label, dtype: float64"
      ]
     },
     "execution_count": 7,
     "metadata": {},
     "output_type": "execute_result"
    }
   ],
   "source": [
    "data[\"label\"].value_counts(normalize=True)"
   ]
  },
  {
   "cell_type": "markdown",
   "metadata": {},
   "source": [
    "### Base Case accuracy"
   ]
  },
  {
   "cell_type": "markdown",
   "metadata": {},
   "source": [
    "Base Case Accuracy\n",
    "The two classes are of roughly equal size, hence the base case accuracy is 50%. The goal of modelling is to build a model to classify at an accuracy substantially higher than 50%"
   ]
  },
  {
   "cell_type": "markdown",
   "metadata": {},
   "source": [
    "### Function for cleaning up the text"
   ]
  },
  {
   "cell_type": "code",
   "execution_count": 8,
   "metadata": {},
   "outputs": [],
   "source": [
    "def process_text(text):\n",
    "    # Function to convert a raw text to a string of meaning words\n",
    "\n",
    "    words = str(text)\n",
    "    # Remove non-letters.\n",
    "    try:\n",
    "        words = re.sub(\"[^a-zA-Z]\", \" \", text)\n",
    "    except:\n",
    "        pass\n",
    "    \n",
    "\n",
    "    # Convert to lower case, split into individual words (list)\n",
    "    words = words.lower().split()\n",
    "    \n",
    "    # Lemmatizing\n",
    "    lemmatizer = WordNetLemmatizer()\n",
    "    lemmatized_words = [lemmatizer.lemmatize(i) for i in words]\n",
    "    words = lemmatized_words\n",
    "    \n",
    "    #Convert the stop words to a set.\n",
    "    stops = set(stopwords.words('english'))\n",
    "    \n",
    "    #Remove stop words.\n",
    "    meaningful_words = [w for w in words if not w in stops]\n",
    "    \n",
    "    # 6. Join the words back into one string separated by space, \n",
    "    # and return the result.\n",
    "    return(\" \".join(meaningful_words))"
   ]
  },
  {
   "cell_type": "code",
   "execution_count": 9,
   "metadata": {
    "scrolled": true
   },
   "outputs": [
    {
     "data": {
      "text/plain": [
       "'Are they waiting for a response from Pence re 25th before moving full speed ahead with impeachment  Yeah but when are they voting on it  I need to know when to turn on CSPAN  \\n\\n\\nEdit  looks like Wednesday.. for like  no reason. This is irresponsible. Do it today  Your only job is voting on stuff.. and it s still business hours. It s what we pay you for. Sorry  I m kinda pissed. I read there s gonna be more violence  amp  the National Guard are being issued weapons. Good. Even if they don t remove him  which they probably won t be able to  this is the right thing to do.'"
      ]
     },
     "execution_count": 9,
     "metadata": {},
     "output_type": "execute_result"
    }
   ],
   "source": [
    "text = data.loc[0, \"comments\"]\n",
    "text"
   ]
  },
  {
   "cell_type": "code",
   "execution_count": 10,
   "metadata": {
    "scrolled": false
   },
   "outputs": [
    {
     "data": {
      "text/plain": [
       "'waiting response penny th moving full speed ahead impeachment yeah voting need know turn cspan edit look like wednesday like reason irresponsible today job voting stuff still business hour pay sorry kinda pissed read gonna violence amp national guard issued weapon good even remove probably able right thing'"
      ]
     },
     "execution_count": 10,
     "metadata": {},
     "output_type": "execute_result"
    }
   ],
   "source": [
    "text = process_text(text)\n",
    "text"
   ]
  },
  {
   "cell_type": "markdown",
   "metadata": {},
   "source": [
    "#### Check the data types of fields"
   ]
  },
  {
   "cell_type": "code",
   "execution_count": 11,
   "metadata": {
    "scrolled": true
   },
   "outputs": [
    {
     "data": {
      "text/plain": [
       "index            int64\n",
       "name            object\n",
       "title           object\n",
       "url_comments    object\n",
       "comments        object\n",
       "selftext        object\n",
       "label            int64\n",
       "dtype: object"
      ]
     },
     "execution_count": 11,
     "metadata": {},
     "output_type": "execute_result"
    }
   ],
   "source": [
    "data.dtypes"
   ]
  },
  {
   "cell_type": "markdown",
   "metadata": {},
   "source": [
    "#### Check null values"
   ]
  },
  {
   "cell_type": "code",
   "execution_count": 12,
   "metadata": {},
   "outputs": [
    {
     "data": {
      "text/plain": [
       "index              0\n",
       "name               0\n",
       "title              0\n",
       "url_comments       0\n",
       "comments         513\n",
       "selftext        1911\n",
       "label              0\n",
       "dtype: int64"
      ]
     },
     "execution_count": 12,
     "metadata": {},
     "output_type": "execute_result"
    }
   ],
   "source": [
    "data.isnull().sum()"
   ]
  },
  {
   "cell_type": "markdown",
   "metadata": {},
   "source": [
    "Some empty values in comments and selftext."
   ]
  },
  {
   "cell_type": "markdown",
   "metadata": {},
   "source": [
    "### Further processing text"
   ]
  },
  {
   "cell_type": "code",
   "execution_count": 13,
   "metadata": {},
   "outputs": [],
   "source": [
    "# Processing text\n",
    "data[\"title\"] = data[\"title\"].map(process_text)\n",
    "data[\"comments\"] = data[\"comments\"].map(process_text)\n",
    "data[\"selftext\"] = data[\"selftext\"].map(process_text)"
   ]
  },
  {
   "cell_type": "code",
   "execution_count": 14,
   "metadata": {},
   "outputs": [
    {
     "data": {
      "text/html": [
       "<div>\n",
       "<style scoped>\n",
       "    .dataframe tbody tr th:only-of-type {\n",
       "        vertical-align: middle;\n",
       "    }\n",
       "\n",
       "    .dataframe tbody tr th {\n",
       "        vertical-align: top;\n",
       "    }\n",
       "\n",
       "    .dataframe thead th {\n",
       "        text-align: right;\n",
       "    }\n",
       "</style>\n",
       "<table border=\"1\" class=\"dataframe\">\n",
       "  <thead>\n",
       "    <tr style=\"text-align: right;\">\n",
       "      <th></th>\n",
       "      <th>title</th>\n",
       "      <th>comments</th>\n",
       "      <th>selftext</th>\n",
       "    </tr>\n",
       "  </thead>\n",
       "  <tbody>\n",
       "    <tr>\n",
       "      <th>0</th>\n",
       "      <td>house democrat launch second impeachment trump...</td>\n",
       "      <td>waiting response penny th moving full speed ah...</td>\n",
       "      <td>house article impeachment introduced et today ...</td>\n",
       "    </tr>\n",
       "    <tr>\n",
       "      <th>1</th>\n",
       "      <td></td>\n",
       "      <td>every time look penny reminds steve carell off...</td>\n",
       "      <td>nan</td>\n",
       "    </tr>\n",
       "    <tr>\n",
       "      <th>2</th>\n",
       "      <td>camp auschwitz guy identified</td>\n",
       "      <td>trump thought riot looked low class wonder shi...</td>\n",
       "      <td>nan</td>\n",
       "    </tr>\n",
       "    <tr>\n",
       "      <th>3</th>\n",
       "      <td>crawling back</td>\n",
       "      <td>love aoc take prisoner lay hold accountable wa...</td>\n",
       "      <td>nan</td>\n",
       "    </tr>\n",
       "    <tr>\n",
       "      <th>4</th>\n",
       "      <td>use th amendment ban trump</td>\n",
       "      <td>yep democrat got ahold senate house white hous...</td>\n",
       "      <td>nan</td>\n",
       "    </tr>\n",
       "  </tbody>\n",
       "</table>\n",
       "</div>"
      ],
      "text/plain": [
       "                                               title  \\\n",
       "0  house democrat launch second impeachment trump...   \n",
       "1                                                      \n",
       "2                      camp auschwitz guy identified   \n",
       "3                                      crawling back   \n",
       "4                         use th amendment ban trump   \n",
       "\n",
       "                                            comments  \\\n",
       "0  waiting response penny th moving full speed ah...   \n",
       "1  every time look penny reminds steve carell off...   \n",
       "2  trump thought riot looked low class wonder shi...   \n",
       "3  love aoc take prisoner lay hold accountable wa...   \n",
       "4  yep democrat got ahold senate house white hous...   \n",
       "\n",
       "                                            selftext  \n",
       "0  house article impeachment introduced et today ...  \n",
       "1                                                nan  \n",
       "2                                                nan  \n",
       "3                                                nan  \n",
       "4                                                nan  "
      ]
     },
     "execution_count": 14,
     "metadata": {},
     "output_type": "execute_result"
    }
   ],
   "source": [
    "data[[\"title\", \"comments\", \"selftext\"]].head()"
   ]
  },
  {
   "cell_type": "markdown",
   "metadata": {},
   "source": [
    "#### Processing Title + Comments + Selftext"
   ]
  },
  {
   "cell_type": "code",
   "execution_count": 15,
   "metadata": {},
   "outputs": [],
   "source": [
    "### Combining three fields: Title + Comments + Selftext as Inputs (X)# Create data for model inputs - title and comments and selftext\n",
    "# both X and y are to be lists\n",
    "X = data[\"title\"] + \" \" + data[\"comments\"] + \" \" + data[\"selftext\"]\n",
    "y = data[\"label\"]"
   ]
  },
  {
   "cell_type": "markdown",
   "metadata": {},
   "source": [
    "#### Splitting training and test datasets"
   ]
  },
  {
   "cell_type": "code",
   "execution_count": 16,
   "metadata": {},
   "outputs": [],
   "source": [
    "X_train, X_test, y_train, y_test = train_test_split(X, y, stratify=y, random_state=42)"
   ]
  },
  {
   "cell_type": "code",
   "execution_count": 17,
   "metadata": {},
   "outputs": [
    {
     "data": {
      "text/plain": [
       "(1492,)"
      ]
     },
     "execution_count": 17,
     "metadata": {},
     "output_type": "execute_result"
    }
   ],
   "source": [
    "X_train.shape"
   ]
  },
  {
   "cell_type": "code",
   "execution_count": 18,
   "metadata": {},
   "outputs": [
    {
     "data": {
      "text/plain": [
       "1492"
      ]
     },
     "execution_count": 18,
     "metadata": {},
     "output_type": "execute_result"
    }
   ],
   "source": [
    "len(y_train)"
   ]
  },
  {
   "cell_type": "markdown",
   "metadata": {},
   "source": [
    "## TF-IDF Vectorizer"
   ]
  },
  {
   "cell_type": "code",
   "execution_count": 35,
   "metadata": {},
   "outputs": [],
   "source": [
    "tvec_naive = TfidfVectorizer(ngram_range=(1,2))"
   ]
  },
  {
   "cell_type": "code",
   "execution_count": 36,
   "metadata": {},
   "outputs": [
    {
     "data": {
      "text/plain": [
       "(1492, 76905)"
      ]
     },
     "execution_count": 36,
     "metadata": {},
     "output_type": "execute_result"
    }
   ],
   "source": [
    "X_train_tvec_naive = tvec_naive.fit_transform(X_train).todense()\n",
    "X_train_tvec_naive_df = pd.DataFrame(X_train_tvec_naive, columns = tvec_naive.get_feature_names())\n",
    "X_train_tvec_naive_df.shape"
   ]
  },
  {
   "cell_type": "code",
   "execution_count": 37,
   "metadata": {},
   "outputs": [
    {
     "data": {
      "text/html": [
       "<div>\n",
       "<style scoped>\n",
       "    .dataframe tbody tr th:only-of-type {\n",
       "        vertical-align: middle;\n",
       "    }\n",
       "\n",
       "    .dataframe tbody tr th {\n",
       "        vertical-align: top;\n",
       "    }\n",
       "\n",
       "    .dataframe thead th {\n",
       "        text-align: right;\n",
       "    }\n",
       "</style>\n",
       "<table border=\"1\" class=\"dataframe\">\n",
       "  <thead>\n",
       "    <tr style=\"text-align: right;\">\n",
       "      <th></th>\n",
       "      <th>aaaanndddd</th>\n",
       "      <th>aaaanndddd someon</th>\n",
       "      <th>aad</th>\n",
       "      <th>aad amp</th>\n",
       "      <th>aae</th>\n",
       "      <th>aae ddf</th>\n",
       "      <th>aaouww</th>\n",
       "      <th>aaouww cnfwaxi</th>\n",
       "      <th>ab</th>\n",
       "      <th>ab ab</th>\n",
       "      <th>...</th>\n",
       "      <th>zuck</th>\n",
       "      <th>zuck need</th>\n",
       "      <th>zuckerberg</th>\n",
       "      <th>zuckerberg biden</th>\n",
       "      <th>zuckerberg bloomberg</th>\n",
       "      <th>zuckerberg cancer</th>\n",
       "      <th>zuckerberg censor</th>\n",
       "      <th>zuckerberg corrupt</th>\n",
       "      <th>zuckerberg eye</th>\n",
       "      <th>zuckerberg shut</th>\n",
       "    </tr>\n",
       "  </thead>\n",
       "  <tbody>\n",
       "    <tr>\n",
       "      <th>0</th>\n",
       "      <td>0.0</td>\n",
       "      <td>0.0</td>\n",
       "      <td>0.0</td>\n",
       "      <td>0.0</td>\n",
       "      <td>0.0</td>\n",
       "      <td>0.0</td>\n",
       "      <td>0.0</td>\n",
       "      <td>0.0</td>\n",
       "      <td>0.0</td>\n",
       "      <td>0.0</td>\n",
       "      <td>...</td>\n",
       "      <td>0.0</td>\n",
       "      <td>0.0</td>\n",
       "      <td>0.0</td>\n",
       "      <td>0.0</td>\n",
       "      <td>0.0</td>\n",
       "      <td>0.0</td>\n",
       "      <td>0.0</td>\n",
       "      <td>0.0</td>\n",
       "      <td>0.0</td>\n",
       "      <td>0.0</td>\n",
       "    </tr>\n",
       "    <tr>\n",
       "      <th>1</th>\n",
       "      <td>0.0</td>\n",
       "      <td>0.0</td>\n",
       "      <td>0.0</td>\n",
       "      <td>0.0</td>\n",
       "      <td>0.0</td>\n",
       "      <td>0.0</td>\n",
       "      <td>0.0</td>\n",
       "      <td>0.0</td>\n",
       "      <td>0.0</td>\n",
       "      <td>0.0</td>\n",
       "      <td>...</td>\n",
       "      <td>0.0</td>\n",
       "      <td>0.0</td>\n",
       "      <td>0.0</td>\n",
       "      <td>0.0</td>\n",
       "      <td>0.0</td>\n",
       "      <td>0.0</td>\n",
       "      <td>0.0</td>\n",
       "      <td>0.0</td>\n",
       "      <td>0.0</td>\n",
       "      <td>0.0</td>\n",
       "    </tr>\n",
       "    <tr>\n",
       "      <th>2</th>\n",
       "      <td>0.0</td>\n",
       "      <td>0.0</td>\n",
       "      <td>0.0</td>\n",
       "      <td>0.0</td>\n",
       "      <td>0.0</td>\n",
       "      <td>0.0</td>\n",
       "      <td>0.0</td>\n",
       "      <td>0.0</td>\n",
       "      <td>0.0</td>\n",
       "      <td>0.0</td>\n",
       "      <td>...</td>\n",
       "      <td>0.0</td>\n",
       "      <td>0.0</td>\n",
       "      <td>0.0</td>\n",
       "      <td>0.0</td>\n",
       "      <td>0.0</td>\n",
       "      <td>0.0</td>\n",
       "      <td>0.0</td>\n",
       "      <td>0.0</td>\n",
       "      <td>0.0</td>\n",
       "      <td>0.0</td>\n",
       "    </tr>\n",
       "    <tr>\n",
       "      <th>3</th>\n",
       "      <td>0.0</td>\n",
       "      <td>0.0</td>\n",
       "      <td>0.0</td>\n",
       "      <td>0.0</td>\n",
       "      <td>0.0</td>\n",
       "      <td>0.0</td>\n",
       "      <td>0.0</td>\n",
       "      <td>0.0</td>\n",
       "      <td>0.0</td>\n",
       "      <td>0.0</td>\n",
       "      <td>...</td>\n",
       "      <td>0.0</td>\n",
       "      <td>0.0</td>\n",
       "      <td>0.0</td>\n",
       "      <td>0.0</td>\n",
       "      <td>0.0</td>\n",
       "      <td>0.0</td>\n",
       "      <td>0.0</td>\n",
       "      <td>0.0</td>\n",
       "      <td>0.0</td>\n",
       "      <td>0.0</td>\n",
       "    </tr>\n",
       "    <tr>\n",
       "      <th>4</th>\n",
       "      <td>0.0</td>\n",
       "      <td>0.0</td>\n",
       "      <td>0.0</td>\n",
       "      <td>0.0</td>\n",
       "      <td>0.0</td>\n",
       "      <td>0.0</td>\n",
       "      <td>0.0</td>\n",
       "      <td>0.0</td>\n",
       "      <td>0.0</td>\n",
       "      <td>0.0</td>\n",
       "      <td>...</td>\n",
       "      <td>0.0</td>\n",
       "      <td>0.0</td>\n",
       "      <td>0.0</td>\n",
       "      <td>0.0</td>\n",
       "      <td>0.0</td>\n",
       "      <td>0.0</td>\n",
       "      <td>0.0</td>\n",
       "      <td>0.0</td>\n",
       "      <td>0.0</td>\n",
       "      <td>0.0</td>\n",
       "    </tr>\n",
       "  </tbody>\n",
       "</table>\n",
       "<p>5 rows × 76905 columns</p>\n",
       "</div>"
      ],
      "text/plain": [
       "   aaaanndddd  aaaanndddd someon  aad  aad amp  aae  aae ddf  aaouww  \\\n",
       "0         0.0                0.0  0.0      0.0  0.0      0.0     0.0   \n",
       "1         0.0                0.0  0.0      0.0  0.0      0.0     0.0   \n",
       "2         0.0                0.0  0.0      0.0  0.0      0.0     0.0   \n",
       "3         0.0                0.0  0.0      0.0  0.0      0.0     0.0   \n",
       "4         0.0                0.0  0.0      0.0  0.0      0.0     0.0   \n",
       "\n",
       "   aaouww cnfwaxi   ab  ab ab  ...  zuck  zuck need  zuckerberg  \\\n",
       "0             0.0  0.0    0.0  ...   0.0        0.0         0.0   \n",
       "1             0.0  0.0    0.0  ...   0.0        0.0         0.0   \n",
       "2             0.0  0.0    0.0  ...   0.0        0.0         0.0   \n",
       "3             0.0  0.0    0.0  ...   0.0        0.0         0.0   \n",
       "4             0.0  0.0    0.0  ...   0.0        0.0         0.0   \n",
       "\n",
       "   zuckerberg biden  zuckerberg bloomberg  zuckerberg cancer  \\\n",
       "0               0.0                   0.0                0.0   \n",
       "1               0.0                   0.0                0.0   \n",
       "2               0.0                   0.0                0.0   \n",
       "3               0.0                   0.0                0.0   \n",
       "4               0.0                   0.0                0.0   \n",
       "\n",
       "   zuckerberg censor  zuckerberg corrupt  zuckerberg eye  zuckerberg shut  \n",
       "0                0.0                 0.0             0.0              0.0  \n",
       "1                0.0                 0.0             0.0              0.0  \n",
       "2                0.0                 0.0             0.0              0.0  \n",
       "3                0.0                 0.0             0.0              0.0  \n",
       "4                0.0                 0.0             0.0              0.0  \n",
       "\n",
       "[5 rows x 76905 columns]"
      ]
     },
     "execution_count": 37,
     "metadata": {},
     "output_type": "execute_result"
    }
   ],
   "source": [
    "X_train_tvec_naive_df.head()"
   ]
  },
  {
   "cell_type": "code",
   "execution_count": 38,
   "metadata": {},
   "outputs": [],
   "source": [
    "X_train_tvec_naive_df.loc['Total',:]= X_train_tvec_naive_df.sum(axis=0)\n"
   ]
  },
  {
   "cell_type": "code",
   "execution_count": 39,
   "metadata": {},
   "outputs": [
    {
     "data": {
      "text/html": [
       "<div>\n",
       "<style scoped>\n",
       "    .dataframe tbody tr th:only-of-type {\n",
       "        vertical-align: middle;\n",
       "    }\n",
       "\n",
       "    .dataframe tbody tr th {\n",
       "        vertical-align: top;\n",
       "    }\n",
       "\n",
       "    .dataframe thead th {\n",
       "        text-align: right;\n",
       "    }\n",
       "</style>\n",
       "<table border=\"1\" class=\"dataframe\">\n",
       "  <thead>\n",
       "    <tr style=\"text-align: right;\">\n",
       "      <th></th>\n",
       "      <th>Total</th>\n",
       "    </tr>\n",
       "  </thead>\n",
       "  <tbody>\n",
       "    <tr>\n",
       "      <th>nan</th>\n",
       "      <td>57.251250</td>\n",
       "    </tr>\n",
       "    <tr>\n",
       "      <th>nan nan</th>\n",
       "      <td>40.571706</td>\n",
       "    </tr>\n",
       "    <tr>\n",
       "      <th>thi</th>\n",
       "      <td>32.940205</td>\n",
       "    </tr>\n",
       "    <tr>\n",
       "      <th>trump</th>\n",
       "      <td>31.625638</td>\n",
       "    </tr>\n",
       "    <tr>\n",
       "      <th>wa</th>\n",
       "      <td>20.956948</td>\n",
       "    </tr>\n",
       "  </tbody>\n",
       "</table>\n",
       "</div>"
      ],
      "text/plain": [
       "             Total\n",
       "nan      57.251250\n",
       "nan nan  40.571706\n",
       "thi      32.940205\n",
       "trump    31.625638\n",
       "wa       20.956948"
      ]
     },
     "execution_count": 39,
     "metadata": {},
     "output_type": "execute_result"
    }
   ],
   "source": [
    "### Create a DataFrame for the above Total Word Count, and then check, for each specified frequency (2, 10, 50, etc), what is the associated number of features (words) that appear in the corpus.\n",
    "X_train_tvec_naive_df = pd.DataFrame(X_train_tvec_naive_df.loc['Total',:].sort_values(ascending=False))\n",
    "X_train_tvec_naive_df.head()"
   ]
  },
  {
   "cell_type": "markdown",
   "metadata": {},
   "source": [
    "Similar redundant words to be removed as additional stop words"
   ]
  },
  {
   "cell_type": "code",
   "execution_count": 40,
   "metadata": {},
   "outputs": [
    {
     "name": "stdout",
     "output_type": "stream",
     "text": [
      "75677\n",
      "76788\n",
      "76878\n",
      "76900\n"
     ]
    }
   ],
   "source": [
    "print(len(X_train_tvec_naive_df.loc[X_train_tvec_naive_df['Total'] <= 1]))\n",
    "print(len(X_train_tvec_naive_df.loc[X_train_tvec_naive_df['Total'] <= 5]))\n",
    "print(len(X_train_tvec_naive_df.loc[X_train_tvec_naive_df['Total'] <= 10]))\n",
    "print(len(X_train_tvec_naive_df.loc[X_train_tvec_naive_df['Total'] <= 20]))"
   ]
  },
  {
   "cell_type": "code",
   "execution_count": 41,
   "metadata": {},
   "outputs": [
    {
     "data": {
      "text/plain": [
       "2"
      ]
     },
     "execution_count": 41,
     "metadata": {},
     "output_type": "execute_result"
    }
   ],
   "source": [
    "# Features with the highest TFIDF scores\n",
    "threshold = 40\n",
    "len(X_train_tvec_naive_df[X_train_tvec_naive_df.Total > threshold].index.to_list())"
   ]
  },
  {
   "cell_type": "code",
   "execution_count": 42,
   "metadata": {},
   "outputs": [
    {
     "data": {
      "text/plain": [
       "<BarContainer object of 2 artists>"
      ]
     },
     "execution_count": 42,
     "metadata": {},
     "output_type": "execute_result"
    },
    {
     "data": {
      "image/png": "[encoded data removed]",
      "text/plain": [
       "<Figure size 720x720 with 1 Axes>"
      ]
     },
     "metadata": {
      "needs_background": "light"
     },
     "output_type": "display_data"
    }
   ],
   "source": [
    "# plot histogram to observe the distribution\n",
    "figure = plt.figure(figsize=[10,10])\n",
    "plt.title(\"TFIDF scores\")\n",
    "plt.barh(X_train_tvec_naive_df[X_train_tvec_naive_df.Total > threshold].index.to_list(), X_train_tvec_naive_df[X_train_tvec_naive_df.Total > threshold][\"Total\"])"
   ]
  },
  {
   "cell_type": "code",
   "execution_count": 43,
   "metadata": {},
   "outputs": [],
   "source": [
    "### Additional stop words"
   ]
  },
  {
   "cell_type": "code",
   "execution_count": 44,
   "metadata": {},
   "outputs": [],
   "source": [
    "additional_stop_words = [\"nan\", \"nan nan\", \"thi\", \"wa\", \"hi\", \"ha\", \"would\", \"http\"]"
   ]
  },
  {
   "cell_type": "markdown",
   "metadata": {},
   "source": [
    "Tune tvec hyperparameters upon EDA:"
   ]
  },
  {
   "cell_type": "code",
   "execution_count": null,
   "metadata": {},
   "outputs": [],
   "source": [
    "pipe2 = Pipeline([\n",
    "    (\"tvec\", TfidfVectorizer(ngram_range=(1, 2), stop_words=additional_stop_words)),\n",
    "    (\"lr\", LogisticRegression())\n",
    "    ])\n",
    "\n",
    "pipe_params = {\n",
    "    'tvec__max_features': [30, 60, 90],\n",
    "    'tvec__min_df': [2, 3],\n",
    "    'tvec__max_df': [.2, .25, .3],\n",
    "}\n",
    "gs = GridSearchCV(pipe2, param_grid=pipe_params, cv=5, n_jobs = -1)\n",
    "gs.fit(X_train, y_train)"
   ]
  },
  {
   "cell_type": "code",
   "execution_count": null,
   "metadata": {},
   "outputs": [],
   "source": []
  },
  {
   "cell_type": "code",
   "execution_count": null,
   "metadata": {},
   "outputs": [],
   "source": []
  },
  {
   "cell_type": "code",
   "execution_count": null,
   "metadata": {},
   "outputs": [],
   "source": []
  },
  {
   "cell_type": "code",
   "execution_count": null,
   "metadata": {},
   "outputs": [],
   "source": []
  },
  {
   "cell_type": "code",
   "execution_count": null,
   "metadata": {},
   "outputs": [],
   "source": []
  },
  {
   "cell_type": "code",
   "execution_count": 27,
   "metadata": {},
   "outputs": [],
   "source": [
    "additional_stop_words = [\"nan\", \"thi\", \"wa\", \"hi\", \"would\", \"http\"]"
   ]
  },
  {
   "cell_type": "markdown",
   "metadata": {},
   "source": [
    "## Using Logistic Regression as a model"
   ]
  },
  {
   "cell_type": "markdown",
   "metadata": {},
   "source": [
    "### Using Pipeline and GridSearchCV to run the model under a set of hyperparameters"
   ]
  },
  {
   "cell_type": "code",
   "execution_count": 28,
   "metadata": {},
   "outputs": [],
   "source": [
    "pipe = Pipeline([\n",
    "    (\"cvec\", CountVectorizer(stop_words=additional_stop_words, ngram_range=(1,2))),\n",
    "    (\"lr\", LogisticRegression())\n",
    "    ])"
   ]
  },
  {
   "cell_type": "code",
   "execution_count": 29,
   "metadata": {},
   "outputs": [
    {
     "data": {
      "text/plain": [
       "GridSearchCV(cv=5,\n",
       "             estimator=Pipeline(steps=[('cvec',\n",
       "                                        CountVectorizer(ngram_range=(1, 2),\n",
       "                                                        stop_words=['nan',\n",
       "                                                                    'thi', 'wa',\n",
       "                                                                    'hi',\n",
       "                                                                    'would',\n",
       "                                                                    'http'])),\n",
       "                                       ('lr', LogisticRegression())]),\n",
       "             n_jobs=-1,\n",
       "             param_grid={'cvec__max_df': [0.05, 0.1, 0.15, 0.2],\n",
       "                         'cvec__max_features': [300, 350, 400],\n",
       "                         'cvec__min_df': [2, 3, 4]})"
      ]
     },
     "execution_count": 29,
     "metadata": {},
     "output_type": "execute_result"
    }
   ],
   "source": [
    "pipe_params = {\n",
    "    'cvec__max_features': [300, 350, 400],\n",
    "    'cvec__min_df': [2, 3, 4],\n",
    "    'cvec__max_df': [.05, .1, .15, .2],\n",
    "}\n",
    "gs = GridSearchCV(pipe, param_grid=pipe_params, cv=5, n_jobs = -1)\n",
    "gs.fit(X_train, y_train)"
   ]
  },
  {
   "cell_type": "code",
   "execution_count": 30,
   "metadata": {},
   "outputs": [
    {
     "data": {
      "text/plain": [
       "array([0.6816682 , 0.68634823, 0.68030347, 0.67427218, 0.67762789,\n",
       "       0.67293888, 0.68835043, 0.68634599, 0.68365693, 0.67560998,\n",
       "       0.67628785, 0.67628561, 0.68231016, 0.68432134, 0.6829813 ,\n",
       "       0.68031694, 0.68165473, 0.6843393 , 0.67496577, 0.6716168 ,\n",
       "       0.67496577, 0.68700141, 0.6883437 , 0.68230792, 0.69103499,\n",
       "       0.69171062, 0.69237279, 0.67160109, 0.67160109, 0.67294786,\n",
       "       0.68968598, 0.68499473, 0.68901259, 0.6937016 , 0.69638616,\n",
       "       0.68968598])"
      ]
     },
     "execution_count": 30,
     "metadata": {},
     "output_type": "execute_result"
    }
   ],
   "source": [
    "gs.cv_results_['mean_test_score']"
   ]
  },
  {
   "cell_type": "code",
   "execution_count": 31,
   "metadata": {},
   "outputs": [
    {
     "name": "stdout",
     "output_type": "stream",
     "text": [
      "Validation best score: 0.6963861641713991\n",
      "Best params: {'cvec__max_df': 0.2, 'cvec__max_features': 400, 'cvec__min_df': 3}\n",
      "Training score: 0.8525469168900804\n",
      "Test score: 0.7309236947791165\n"
     ]
    }
   ],
   "source": [
    "print(f'Validation best score: {gs.best_score_}')\n",
    "print(f'Best params: {gs.best_params_}')\n",
    "print(f'Training score: {gs.score(X_train, y_train)}')\n",
    "print(f'Test score: {gs.score(X_test, y_test)}')"
   ]
  },
  {
   "cell_type": "markdown",
   "metadata": {},
   "source": [
    "The validation scores are relatively stable, around 67-69%. There could be more room for a better model as some of the best params are at the extremes"
   ]
  },
  {
   "cell_type": "markdown",
   "metadata": {},
   "source": [
    "### Fine-tuning hyperparameters"
   ]
  },
  {
   "cell_type": "code",
   "execution_count": 32,
   "metadata": {},
   "outputs": [
    {
     "data": {
      "text/plain": [
       "GridSearchCV(cv=5,\n",
       "             estimator=Pipeline(steps=[('cvec',\n",
       "                                        CountVectorizer(ngram_range=(1, 2),\n",
       "                                                        stop_words=['nan',\n",
       "                                                                    'thi', 'wa',\n",
       "                                                                    'hi',\n",
       "                                                                    'would',\n",
       "                                                                    'http'])),\n",
       "                                       ('lr', LogisticRegression())]),\n",
       "             n_jobs=-1,\n",
       "             param_grid={'cvec__max_df': [0.15, 0.2, 0.25, 0.3],\n",
       "                         'cvec__max_features': [1000, 2000, 3000],\n",
       "                         'cvec__min_df': [4, 5, 6]})"
      ]
     },
     "execution_count": 32,
     "metadata": {},
     "output_type": "execute_result"
    }
   ],
   "source": [
    "pipe_params = {\n",
    "    'cvec__max_features': [1000, 2000, 3000],\n",
    "    'cvec__min_df': [4, 5, 6],\n",
    "    'cvec__max_df': [.15, .2, .25, .3]\n",
    "}\n",
    "gs = GridSearchCV(pipe, param_grid=pipe_params, cv=5, n_jobs = -1)\n",
    "gs.fit(X_train, y_train)"
   ]
  },
  {
   "cell_type": "code",
   "execution_count": 33,
   "metadata": {},
   "outputs": [
    {
     "data": {
      "text/plain": [
       "array([0.70509304, 0.70108415, 0.70308635, 0.72788265, 0.72788041,\n",
       "       0.72453368, 0.73658504, 0.73525173, 0.72453817, 0.70576194,\n",
       "       0.70241745, 0.70241745, 0.72922044, 0.73123162, 0.72653812,\n",
       "       0.74261408, 0.7399385 , 0.73189827, 0.70912437, 0.70377096,\n",
       "       0.70443312, 0.73189827, 0.73123162, 0.72788265, 0.74262082,\n",
       "       0.74060964, 0.7298871 , 0.70912437, 0.70377096, 0.70443312,\n",
       "       0.73189827, 0.73123162, 0.72788265, 0.74262082, 0.74060964,\n",
       "       0.7298871 ])"
      ]
     },
     "execution_count": 33,
     "metadata": {},
     "output_type": "execute_result"
    }
   ],
   "source": [
    "gs.cv_results_['mean_test_score']"
   ]
  },
  {
   "cell_type": "code",
   "execution_count": 34,
   "metadata": {},
   "outputs": [
    {
     "name": "stdout",
     "output_type": "stream",
     "text": [
      "Validation best score: 0.7426208165922201\n",
      "Best params: {'cvec__max_df': 0.25, 'cvec__max_features': 3000, 'cvec__min_df': 4}\n",
      "Training score: 0.9839142091152815\n",
      "Test score: 0.751004016064257\n"
     ]
    }
   ],
   "source": [
    "print(f'Validation best score: {gs.best_score_}')\n",
    "print(f'Best params: {gs.best_params_}')\n",
    "print(f'Training score: {gs.score(X_train, y_train)}')\n",
    "print(f'Test score: {gs.score(X_test, y_test)}')"
   ]
  },
  {
   "cell_type": "markdown",
   "metadata": {},
   "source": [
    "There seems overfitting on the entire training set as the number of features increased significantly, but accuracy in both validation and test sets also improved to 75%. However it is noted that the variation of validation mean scores went up a bit."
   ]
  },
  {
   "cell_type": "markdown",
   "metadata": {},
   "source": [
    "### Plotting ROC curve"
   ]
  },
  {
   "cell_type": "code",
   "execution_count": 35,
   "metadata": {},
   "outputs": [
    {
     "data": {
      "image/png": "[encoded data removed]",
      "text/plain": [
       "<Figure size 432x288 with 1 Axes>"
      ]
     },
     "metadata": {
      "needs_background": "light"
     },
     "output_type": "display_data"
    }
   ],
   "source": [
    "probs = gs.predict_proba(X_train)\n",
    "preds = probs[:,1]\n",
    "fpr, tpr, thresholds = roc_curve(y_train, preds)\n",
    "roc_auc = auc(fpr, tpr)\n",
    "plt.title('Receiver Operating Characteristic')\n",
    "plt.plot(fpr, tpr, 'b', label = 'AUC = %0.2f' % roc_auc)\n",
    "plt.legend(loc = 'lower right')\n",
    "plt.plot([0, 1], [0, 1],'r--')\n",
    "plt.xlim([0, 1])\n",
    "plt.ylim([0, 1])\n",
    "plt.ylabel('True Positive Rate')\n",
    "plt.xlabel('False Positive Rate')\n",
    "plt.show()"
   ]
  },
  {
   "cell_type": "markdown",
   "metadata": {},
   "source": [
    "## Using Multinomial NB"
   ]
  },
  {
   "cell_type": "code",
   "execution_count": 36,
   "metadata": {},
   "outputs": [],
   "source": [
    "pipe2 = Pipeline([\n",
    "    (\"cvec\", CountVectorizer(stop_words=additional_stop_words, ngram_range=(1,2))),\n",
    "    (\"nb\", MultinomialNB())\n",
    "    ])"
   ]
  },
  {
   "cell_type": "code",
   "execution_count": 37,
   "metadata": {},
   "outputs": [
    {
     "data": {
      "text/plain": [
       "GridSearchCV(cv=5,\n",
       "             estimator=Pipeline(steps=[('cvec',\n",
       "                                        CountVectorizer(ngram_range=(1, 2),\n",
       "                                                        stop_words=['nan',\n",
       "                                                                    'thi', 'wa',\n",
       "                                                                    'hi',\n",
       "                                                                    'would',\n",
       "                                                                    'http'])),\n",
       "                                       ('nb', MultinomialNB())]),\n",
       "             n_jobs=-1,\n",
       "             param_grid={'cvec__max_df': [0.05, 0.1, 0.15, 0.2],\n",
       "                         'cvec__max_features': [300, 350, 400],\n",
       "                         'cvec__min_df': [2, 3, 4]})"
      ]
     },
     "execution_count": 37,
     "metadata": {},
     "output_type": "execute_result"
    }
   ],
   "source": [
    "pipe_params = {\n",
    "    'cvec__max_features': [300, 350, 400],\n",
    "    'cvec__min_df': [2, 3, 4],\n",
    "    'cvec__max_df': [.05, .1, .15, .2],\n",
    "}\n",
    "gs2 = GridSearchCV(pipe2, param_grid=pipe_params, cv=5, n_jobs = -1)\n",
    "gs2.fit(X_train, y_train)"
   ]
  },
  {
   "cell_type": "code",
   "execution_count": 38,
   "metadata": {
    "scrolled": true
   },
   "outputs": [
    {
     "data": {
      "text/plain": [
       "array([0.68166147, 0.68233485, 0.67696572, 0.67763462, 0.67763238,\n",
       "       0.67561895, 0.67629458, 0.6749523 , 0.67829678, 0.68094992,\n",
       "       0.68162331, 0.68295886, 0.68363   , 0.68429889, 0.68564118,\n",
       "       0.68967027, 0.68899688, 0.6916792 , 0.6943705 , 0.69369936,\n",
       "       0.69235707, 0.68966802, 0.6910103 , 0.69167471, 0.69703935,\n",
       "       0.69637045, 0.69502817, 0.6943705 , 0.69437274, 0.69370609,\n",
       "       0.69101704, 0.68766807, 0.6910103 , 0.69235707, 0.69101479,\n",
       "       0.68967475])"
      ]
     },
     "execution_count": 38,
     "metadata": {},
     "output_type": "execute_result"
    }
   ],
   "source": [
    "gs2.cv_results_['mean_test_score']"
   ]
  },
  {
   "cell_type": "code",
   "execution_count": 39,
   "metadata": {},
   "outputs": [
    {
     "name": "stdout",
     "output_type": "stream",
     "text": [
      "Validation best score: 0.6970393481627797\n",
      "Best params: {'cvec__max_df': 0.15, 'cvec__max_features': 400, 'cvec__min_df': 2}\n",
      "Training score: 0.7439678284182306\n",
      "Test score: 0.7349397590361446\n"
     ]
    }
   ],
   "source": [
    "print(f'Validation best score: {gs.best_score_}')\n",
    "print(f'Best params: {gs.best_params_}')\n",
    "print(f'Training score: {gs.score(X_train, y_train)}')\n",
    "print(f'Test score: {gs.score(X_test, y_test)}')"
   ]
  },
  {
   "cell_type": "markdown",
   "metadata": {},
   "source": [
    "Hyperparameters are at extremes so will do further fine-tuning"
   ]
  },
  {
   "cell_type": "markdown",
   "metadata": {},
   "source": [
    "### Adjusting hyper-parameters"
   ]
  },
  {
   "cell_type": "code",
   "execution_count": 43,
   "metadata": {},
   "outputs": [
    {
     "data": {
      "text/plain": [
       "GridSearchCV(cv=5,\n",
       "             estimator=Pipeline(steps=[('cvec',\n",
       "                                        CountVectorizer(ngram_range=(1, 2),\n",
       "                                                        stop_words=['nan',\n",
       "                                                                    'thi', 'wa',\n",
       "                                                                    'hi',\n",
       "                                                                    'would',\n",
       "                                                                    'http'])),\n",
       "                                       ('nb', MultinomialNB())]),\n",
       "             n_jobs=-1,\n",
       "             param_grid={'cvec__max_df': [0.05, 0.1, 0.15, 0.2],\n",
       "                         'cvec__max_features': [600, 800, 1000],\n",
       "                         'cvec__min_df': [2, 3, 4]})"
      ]
     },
     "execution_count": 43,
     "metadata": {},
     "output_type": "execute_result"
    }
   ],
   "source": [
    "pipe_params = {\n",
    "    'cvec__max_features': [600, 800, 1000],\n",
    "    'cvec__min_df': [2, 3, 4],\n",
    "    'cvec__max_df': [.05, .1, .15, .2],\n",
    "}\n",
    "gs2 = GridSearchCV(pipe2, param_grid=pipe_params, cv=5, n_jobs = -1)\n",
    "gs2.fit(X_train, y_train)"
   ]
  },
  {
   "cell_type": "code",
   "execution_count": 44,
   "metadata": {
    "scrolled": true
   },
   "outputs": [
    {
     "data": {
      "text/plain": [
       "array([0.68836165, 0.68500595, 0.68701937, 0.69773294, 0.69772845,\n",
       "       0.69303944, 0.70912213, 0.71114004, 0.71181343, 0.69436376,\n",
       "       0.69838836, 0.69570829, 0.70442414, 0.70509079, 0.70308411,\n",
       "       0.71448228, 0.71314224, 0.70911764, 0.70643083, 0.70307737,\n",
       "       0.70374851, 0.70711095, 0.70911989, 0.70509753, 0.71851586,\n",
       "       0.7198559 , 0.7205203 , 0.70442414, 0.70174182, 0.70509753,\n",
       "       0.70845099, 0.70711544, 0.70845548, 0.71852484, 0.71516015,\n",
       "       0.71785145])"
      ]
     },
     "execution_count": 44,
     "metadata": {},
     "output_type": "execute_result"
    }
   ],
   "source": [
    "gs2.cv_results_['mean_test_score']"
   ]
  },
  {
   "cell_type": "code",
   "execution_count": 45,
   "metadata": {},
   "outputs": [
    {
     "name": "stdout",
     "output_type": "stream",
     "text": [
      "Validation best score: 0.7205203025745774\n",
      "Best params: {'cvec__max_df': 0.15, 'cvec__max_features': 1000, 'cvec__min_df': 4}\n",
      "Training score: 0.7908847184986595\n",
      "Test score: 0.7329317269076305\n"
     ]
    }
   ],
   "source": [
    "print(f'Validation best score: {gs.best_score_}')\n",
    "print(f'Best params: {gs.best_params_}')\n",
    "print(f'Training score: {gs.score(X_train, y_train)}')\n",
    "print(f'Test score: {gs.score(X_test, y_test)}')"
   ]
  },
  {
   "cell_type": "markdown",
   "metadata": {},
   "source": [
    "Accuracy is lower than that of Logistic Regression. Similarly, overfitting the training set data became more apparent as the max_features increased"
   ]
  },
  {
   "cell_type": "code",
   "execution_count": null,
   "metadata": {},
   "outputs": [],
   "source": [
    "print(gs.best_score_)\n",
    "gs.best_params_"
   ]
  },
  {
   "cell_type": "code",
   "execution_count": null,
   "metadata": {},
   "outputs": [],
   "source": [
    "print(gs.score(X_train, y_train))\n",
    "print(gs.score(X_test, y_test))"
   ]
  },
  {
   "cell_type": "markdown",
   "metadata": {},
   "source": [
    "TFIDF test set accuracy at 66% ,similar to Step 3. Not much improvement after adding more texts and expanding ngrams"
   ]
  },
  {
   "cell_type": "markdown",
   "metadata": {},
   "source": [
    "Fine-tuning the hyperparameters"
   ]
  },
  {
   "cell_type": "code",
   "execution_count": null,
   "metadata": {},
   "outputs": [],
   "source": [
    "pipe_params = {\n",
    "    'tvec__max_features': [800, 900, 1000],\n",
    "    'tvec__min_df': [2, 3, 4],\n",
    "    'tvec__max_df': [.05, .1, .2, .25],\n",
    "}"
   ]
  },
  {
   "cell_type": "code",
   "execution_count": null,
   "metadata": {},
   "outputs": [],
   "source": [
    "gs = GridSearchCV(pipe2, param_grid=pipe_params, cv=5, n_jobs = -1)\n",
    "gs.fit(X_train, y_train)"
   ]
  },
  {
   "cell_type": "code",
   "execution_count": null,
   "metadata": {},
   "outputs": [],
   "source": [
    "print(gs.best_score_)\n",
    "gs.best_params_"
   ]
  },
  {
   "cell_type": "code",
   "execution_count": null,
   "metadata": {},
   "outputs": [],
   "source": [
    "print(gs.score(X_train, y_train))\n",
    "print(gs.score(X_test, y_test))"
   ]
  },
  {
   "cell_type": "markdown",
   "metadata": {},
   "source": [
    "##### The test accuracy improves to 75% (from 66%) after fine tuning hyperparameters, however the gap with training set accuracy gets wider"
   ]
  },
  {
   "cell_type": "markdown",
   "metadata": {},
   "source": [
    "### Increase significantly max_features"
   ]
  },
  {
   "cell_type": "code",
   "execution_count": null,
   "metadata": {},
   "outputs": [],
   "source": [
    "pipe_params = {\n",
    "    'tvec__max_features': [3800, 4000, 4200],\n",
    "    'tvec__min_df': [2, 3, 4],\n",
    "    'tvec__max_df': [.15, .2, .25, .3],\n",
    "}"
   ]
  },
  {
   "cell_type": "code",
   "execution_count": null,
   "metadata": {},
   "outputs": [],
   "source": [
    "## gs = GridSearchCV(pipe2, param_grid=pipe_params, cv=5, n_jobs = -1)\n",
    "gs.fit(X_train, y_train)"
   ]
  },
  {
   "cell_type": "code",
   "execution_count": null,
   "metadata": {
    "scrolled": true
   },
   "outputs": [],
   "source": [
    "gs.cv_results_[\"mean_test_score\"]"
   ]
  },
  {
   "cell_type": "code",
   "execution_count": null,
   "metadata": {},
   "outputs": [],
   "source": [
    "print(gs.best_score_)\n",
    "gs.best_params_"
   ]
  },
  {
   "cell_type": "code",
   "execution_count": null,
   "metadata": {},
   "outputs": [],
   "source": [
    "print(gs.score(X_train, y_train))\n",
    "print(gs.score(X_test, y_test))"
   ]
  },
  {
   "cell_type": "markdown",
   "metadata": {},
   "source": [
    "TFIDF Test accuracy improved slightly to 76.9% (from 75.7%). \n",
    "With many more features (3800), the TFIDF model seems to be overfitting the training data (given the 94% training score), however the accuracy on test data still increases marginally. Also thee list of mean test score shows that the validation score is quite stable."
   ]
  },
  {
   "cell_type": "markdown",
   "metadata": {},
   "source": [
    "### Closer look at the most effective coefficients from the last model"
   ]
  },
  {
   "cell_type": "code",
   "execution_count": null,
   "metadata": {},
   "outputs": [],
   "source": [
    "# Using the params from gs.best_params_\n",
    "tvec = TfidfVectorizer(ngram_range=(1, 2), stop_words=additional_stop_words, max_df=0.25, max_features=3800, min_df=3)\n",
    "X_train_TFID_df  = pd.DataFrame(tvec.fit_transform(X_train).toarray(),\n",
    "                   columns=tvec.get_feature_names())"
   ]
  },
  {
   "cell_type": "code",
   "execution_count": null,
   "metadata": {},
   "outputs": [],
   "source": [
    "lr = LogisticRegression()"
   ]
  },
  {
   "cell_type": "code",
   "execution_count": null,
   "metadata": {},
   "outputs": [],
   "source": [
    "lr.fit(X_train_TFID_df, y_train)"
   ]
  },
  {
   "cell_type": "code",
   "execution_count": null,
   "metadata": {},
   "outputs": [],
   "source": [
    "lr.coef_"
   ]
  },
  {
   "cell_type": "code",
   "execution_count": null,
   "metadata": {},
   "outputs": [],
   "source": [
    "len(list(tvec.get_feature_names()))"
   ]
  },
  {
   "cell_type": "code",
   "execution_count": null,
   "metadata": {},
   "outputs": [],
   "source": [
    "df = pd.DataFrame(list(lr.coef_[0]), columns=[\"coef\"])\n",
    "df[\"feature\"] = list(tvec.get_feature_names())"
   ]
  },
  {
   "cell_type": "code",
   "execution_count": null,
   "metadata": {},
   "outputs": [],
   "source": [
    "df.head()"
   ]
  },
  {
   "cell_type": "code",
   "execution_count": null,
   "metadata": {
    "scrolled": true
   },
   "outputs": [],
   "source": [
    "# Coefficients with the most +ve beta -> more \"Democrats\"\n",
    "df.sort_values(by=\"coef\", ascending=False).head(50)"
   ]
  },
  {
   "cell_type": "code",
   "execution_count": null,
   "metadata": {},
   "outputs": [],
   "source": [
    "# Coefficients with the most -ve beta -> more \"Conservatives\"\n",
    "df.sort_values(by=\"coef\", ascending=True).head(50)"
   ]
  },
  {
   "cell_type": "markdown",
   "metadata": {},
   "source": [
    "### Comparing with the popular ngram in the entire dataset"
   ]
  },
  {
   "cell_type": "code",
   "execution_count": null,
   "metadata": {},
   "outputs": [],
   "source": [
    "# Entire dataset\n",
    "data[\"text\"] = data[\"title\"] + \" \" + data[\"comments\"] + \" \" + data[\"selftext\"]\n",
    "data.head()"
   ]
  },
  {
   "cell_type": "code",
   "execution_count": null,
   "metadata": {},
   "outputs": [],
   "source": [
    "# Democrats only\n",
    "text_demo = data[\"text\"][data[\"label\"]==1]\n",
    "len(text_demo)"
   ]
  },
  {
   "cell_type": "code",
   "execution_count": null,
   "metadata": {},
   "outputs": [],
   "source": [
    "# Using CountVectorizer to get the most popular words in the entire data set of Democrats\n",
    "# set ngram to (1,2)\n",
    "cvec = CountVectorizer(ngram_range=(1,2))"
   ]
  },
  {
   "cell_type": "code",
   "execution_count": null,
   "metadata": {
    "scrolled": true
   },
   "outputs": [],
   "source": [
    "cvec_demo = cvec.fit_transform(text_demo).todense()\n",
    "cvec_demo_df = pd.DataFrame(cvec_demo, columns = cvec.get_feature_names())\n",
    "cvec_demo_df.loc['Total']= cvec_demo_df.sum(axis=0)\n",
    "cvec_demo_df.loc['Total',:].sort_values(ascending=False).head(40)\n"
   ]
  },
  {
   "cell_type": "code",
   "execution_count": null,
   "metadata": {},
   "outputs": [],
   "source": [
    "# Conservatives only\n",
    "text_con = data[\"text\"][data[\"label\"]==-1]\n",
    "len(text_con)"
   ]
  },
  {
   "cell_type": "code",
   "execution_count": null,
   "metadata": {},
   "outputs": [],
   "source": [
    "text_con.head()"
   ]
  },
  {
   "cell_type": "code",
   "execution_count": null,
   "metadata": {},
   "outputs": [],
   "source": [
    "# Using CountVectorizer to get the most popular words in the entire data set of Conservatives\n",
    "# set ngram to (1,2)\n",
    "cvec = CountVectorizer(ngram_range=(1,2))"
   ]
  },
  {
   "cell_type": "code",
   "execution_count": null,
   "metadata": {},
   "outputs": [],
   "source": [
    "cvec_con = cvec.fit_transform(text_con).todense()\n",
    "cvec_con_df = pd.DataFrame(cvec_con, columns = cvec.get_feature_names())\n",
    "cvec_con_df.loc['Total']= cvec_con_df.sum(axis=0)\n",
    "cvec_con_df.loc['Total',:].sort_values(ascending=False).head(40)"
   ]
  },
  {
   "cell_type": "code",
   "execution_count": null,
   "metadata": {},
   "outputs": [],
   "source": []
  }
 ],
 "metadata": {
  "anaconda-cloud": {},
  "kernelspec": {
   "display_name": "Python 3",
   "language": "python",
   "name": "python3"
  },
  "language_info": {
   "codemirror_mode": {
    "name": "ipython",
    "version": 3
   },
   "file_extension": ".py",
   "mimetype": "text/x-python",
   "name": "python",
   "nbconvert_exporter": "python",
   "pygments_lexer": "ipython3",
   "version": "3.7.7"
  }
 },
 "nbformat": 4,
 "nbformat_minor": 2
}
