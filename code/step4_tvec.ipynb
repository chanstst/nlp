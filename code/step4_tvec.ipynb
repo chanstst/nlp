{
 "cells": [
  {
   "cell_type": "markdown",
   "metadata": {},
   "source": [
    "# Project 3: Web APIs & Classification"
   ]
  },
  {
   "cell_type": "markdown",
   "metadata": {},
   "source": [
    "## Step 4: Repeating with TF-IDF"
   ]
  },
  {
   "cell_type": "markdown",
   "metadata": {},
   "source": [
    "### Further data processing\n",
    "Similar to Step 3\n",
    "\n",
    "### TF-IDF Vectorization\n",
    "- TF-IDF Vectorization in this current step\n",
    "\n",
    "### Modelling\n",
    "- Logistic Regression\n",
    "- Multinomial Bayesian\n",
    "- Random Forest"
   ]
  },
  {
   "cell_type": "markdown",
   "metadata": {},
   "source": [
    "### Importing libaries"
   ]
  },
  {
   "cell_type": "code",
   "execution_count": 1,
   "metadata": {},
   "outputs": [],
   "source": [
    "import pandas as pd\n",
    "import numpy as np\n",
    "import re\n",
    "import matplotlib.pyplot as plt\n",
    "from nltk.corpus import stopwords\n",
    "from nltk.tokenize import RegexpTokenizer\n",
    "from nltk.stem import WordNetLemmatizer\n",
    "from nltk.stem.porter import PorterStemmer\n",
    "from sklearn.pipeline import Pipeline\n",
    "from sklearn.model_selection import train_test_split, GridSearchCV, cross_val_score\n",
    "from sklearn.linear_model import LogisticRegression\n",
    "from sklearn.naive_bayes import MultinomialNB\n",
    "from sklearn.ensemble import RandomForestClassifier\n",
    "from sklearn.feature_extraction.text import CountVectorizer, TfidfVectorizer\n",
    "from sklearn.metrics import roc_curve, auc"
   ]
  },
  {
   "cell_type": "markdown",
   "metadata": {},
   "source": [
    "### Loading data from csv files"
   ]
  },
  {
   "cell_type": "code",
   "execution_count": 2,
   "metadata": {},
   "outputs": [],
   "source": [
    "# load data from csv files saved in Steps 1 and 2\n",
    "pd_dem = pd.read_csv(\"../data/democrats_comments.csv\")\n",
    "pd_con = pd.read_csv(\"../data/conservatives_comments.csv\")"
   ]
  },
  {
   "cell_type": "code",
   "execution_count": 3,
   "metadata": {},
   "outputs": [],
   "source": [
    "# add label: democrats as 1, con as -1\n",
    "pd_dem[\"label\"] = 1\n",
    "pd_con[\"label\"] = -1"
   ]
  },
  {
   "cell_type": "code",
   "execution_count": 4,
   "metadata": {},
   "outputs": [],
   "source": [
    "data = pd.concat([pd_dem, pd_con])\n",
    "data.reset_index(inplace=True)"
   ]
  },
  {
   "cell_type": "code",
   "execution_count": 5,
   "metadata": {},
   "outputs": [
    {
     "data": {
      "text/plain": [
       "(1990, 7)"
      ]
     },
     "execution_count": 5,
     "metadata": {},
     "output_type": "execute_result"
    }
   ],
   "source": [
    "data.shape"
   ]
  },
  {
   "cell_type": "code",
   "execution_count": 6,
   "metadata": {},
   "outputs": [
    {
     "data": {
      "text/html": [
       "<div>\n",
       "<style scoped>\n",
       "    .dataframe tbody tr th:only-of-type {\n",
       "        vertical-align: middle;\n",
       "    }\n",
       "\n",
       "    .dataframe tbody tr th {\n",
       "        vertical-align: top;\n",
       "    }\n",
       "\n",
       "    .dataframe thead th {\n",
       "        text-align: right;\n",
       "    }\n",
       "</style>\n",
       "<table border=\"1\" class=\"dataframe\">\n",
       "  <thead>\n",
       "    <tr style=\"text-align: right;\">\n",
       "      <th></th>\n",
       "      <th>index</th>\n",
       "      <th>name</th>\n",
       "      <th>title</th>\n",
       "      <th>url_comments</th>\n",
       "      <th>comments</th>\n",
       "      <th>selftext</th>\n",
       "      <th>label</th>\n",
       "    </tr>\n",
       "  </thead>\n",
       "  <tbody>\n",
       "    <tr>\n",
       "      <th>0</th>\n",
       "      <td>0</td>\n",
       "      <td>t3_kv4lr7</td>\n",
       "      <td>House Democrats launch second impeachment of T...</td>\n",
       "      <td>https://www.reddit.com/r/democrats/comments/kv...</td>\n",
       "      <td>Are they waiting for a response from Pence re ...</td>\n",
       "      <td>The House Article of Impeachment will be intro...</td>\n",
       "      <td>1</td>\n",
       "    </tr>\n",
       "    <tr>\n",
       "      <th>1</th>\n",
       "      <td>1</td>\n",
       "      <td>t3_kvg3xu</td>\n",
       "      <td>Do I have to</td>\n",
       "      <td>https://www.reddit.com/r/democrats/comments/kv...</td>\n",
       "      <td>Every time I look at Pence  he reminds me of S...</td>\n",
       "      <td>NaN</td>\n",
       "      <td>1</td>\n",
       "    </tr>\n",
       "    <tr>\n",
       "      <th>2</th>\n",
       "      <td>2</td>\n",
       "      <td>t3_kv4oca</td>\n",
       "      <td>Camp Auschwitz  guy identified</td>\n",
       "      <td>https://www.reddit.com/r/democrats/comments/kv...</td>\n",
       "      <td>Trump thought the riot looked  low class  I wo...</td>\n",
       "      <td>NaN</td>\n",
       "      <td>1</td>\n",
       "    </tr>\n",
       "    <tr>\n",
       "      <th>3</th>\n",
       "      <td>3</td>\n",
       "      <td>t3_kvekkt</td>\n",
       "      <td>No Crawling Back</td>\n",
       "      <td>https://www.reddit.com/r/democrats/comments/kv...</td>\n",
       "      <td>I just love how AOC takes no prisoners. She la...</td>\n",
       "      <td>NaN</td>\n",
       "      <td>1</td>\n",
       "    </tr>\n",
       "    <tr>\n",
       "      <th>4</th>\n",
       "      <td>4</td>\n",
       "      <td>t3_kvfqwa</td>\n",
       "      <td>Use the 14th Amendment to ban Trump</td>\n",
       "      <td>https://www.reddit.com/r/democrats/comments/kv...</td>\n",
       "      <td>Yep  what s more  Democrats got ahold of the S...</td>\n",
       "      <td>NaN</td>\n",
       "      <td>1</td>\n",
       "    </tr>\n",
       "  </tbody>\n",
       "</table>\n",
       "</div>"
      ],
      "text/plain": [
       "   index       name                                              title  \\\n",
       "0      0  t3_kv4lr7  House Democrats launch second impeachment of T...   \n",
       "1      1  t3_kvg3xu                                      Do I have to    \n",
       "2      2  t3_kv4oca                    Camp Auschwitz  guy identified    \n",
       "3      3  t3_kvekkt                                No Crawling Back      \n",
       "4      4  t3_kvfqwa                Use the 14th Amendment to ban Trump   \n",
       "\n",
       "                                        url_comments  \\\n",
       "0  https://www.reddit.com/r/democrats/comments/kv...   \n",
       "1  https://www.reddit.com/r/democrats/comments/kv...   \n",
       "2  https://www.reddit.com/r/democrats/comments/kv...   \n",
       "3  https://www.reddit.com/r/democrats/comments/kv...   \n",
       "4  https://www.reddit.com/r/democrats/comments/kv...   \n",
       "\n",
       "                                            comments  \\\n",
       "0  Are they waiting for a response from Pence re ...   \n",
       "1  Every time I look at Pence  he reminds me of S...   \n",
       "2  Trump thought the riot looked  low class  I wo...   \n",
       "3  I just love how AOC takes no prisoners. She la...   \n",
       "4  Yep  what s more  Democrats got ahold of the S...   \n",
       "\n",
       "                                            selftext  label  \n",
       "0  The House Article of Impeachment will be intro...      1  \n",
       "1                                                NaN      1  \n",
       "2                                                NaN      1  \n",
       "3                                                NaN      1  \n",
       "4                                                NaN      1  "
      ]
     },
     "execution_count": 6,
     "metadata": {},
     "output_type": "execute_result"
    }
   ],
   "source": [
    "data.head()"
   ]
  },
  {
   "cell_type": "code",
   "execution_count": 7,
   "metadata": {},
   "outputs": [
    {
     "data": {
      "text/plain": [
       " 1    0.501005\n",
       "-1    0.498995\n",
       "Name: label, dtype: float64"
      ]
     },
     "execution_count": 7,
     "metadata": {},
     "output_type": "execute_result"
    }
   ],
   "source": [
    "data[\"label\"].value_counts(normalize=True)"
   ]
  },
  {
   "cell_type": "markdown",
   "metadata": {},
   "source": [
    "### Base Case accuracy"
   ]
  },
  {
   "cell_type": "markdown",
   "metadata": {},
   "source": [
    "Base Case Accuracy\n",
    "The two classes are of roughly equal size, hence the base case accuracy is 50%. The goal of modelling is to build a model to classify at an accuracy substantially higher than 50%"
   ]
  },
  {
   "cell_type": "markdown",
   "metadata": {},
   "source": [
    "### Function for cleaning up the text"
   ]
  },
  {
   "cell_type": "code",
   "execution_count": 8,
   "metadata": {},
   "outputs": [],
   "source": [
    "def process_text(text):\n",
    "    # Function to convert a raw text to a string of meaning words\n",
    "\n",
    "    words = str(text)\n",
    "    # Remove non-letters.\n",
    "    try:\n",
    "        words = re.sub(\"[^a-zA-Z]\", \" \", text)\n",
    "    except:\n",
    "        pass\n",
    "    \n",
    "\n",
    "    # Convert to lower case, split into individual words (list)\n",
    "    words = words.lower().split()\n",
    "    \n",
    "    # Lemmatizing\n",
    "    lemmatizer = WordNetLemmatizer()\n",
    "    lemmatized_words = [lemmatizer.lemmatize(i) for i in words]\n",
    "    words = lemmatized_words\n",
    "    \n",
    "    #Convert the stop words to a set.\n",
    "    stops = set(stopwords.words('english'))\n",
    "    \n",
    "    #Remove stop words.\n",
    "    meaningful_words = [w for w in words if not w in stops]\n",
    "    \n",
    "    # 6. Join the words back into one string separated by space, \n",
    "    # and return the result.\n",
    "    return(\" \".join(meaningful_words))"
   ]
  },
  {
   "cell_type": "code",
   "execution_count": 9,
   "metadata": {
    "scrolled": true
   },
   "outputs": [
    {
     "data": {
      "text/plain": [
       "'Are they waiting for a response from Pence re 25th before moving full speed ahead with impeachment  Yeah but when are they voting on it  I need to know when to turn on CSPAN  \\n\\n\\nEdit  looks like Wednesday.. for like  no reason. This is irresponsible. Do it today  Your only job is voting on stuff.. and it s still business hours. It s what we pay you for. Sorry  I m kinda pissed. I read there s gonna be more violence  amp  the National Guard are being issued weapons. Good. Even if they don t remove him  which they probably won t be able to  this is the right thing to do.'"
      ]
     },
     "execution_count": 9,
     "metadata": {},
     "output_type": "execute_result"
    }
   ],
   "source": [
    "text = data.loc[0, \"comments\"]\n",
    "text"
   ]
  },
  {
   "cell_type": "code",
   "execution_count": 10,
   "metadata": {
    "scrolled": false
   },
   "outputs": [
    {
     "data": {
      "text/plain": [
       "'waiting response penny th moving full speed ahead impeachment yeah voting need know turn cspan edit look like wednesday like reason irresponsible today job voting stuff still business hour pay sorry kinda pissed read gonna violence amp national guard issued weapon good even remove probably able right thing'"
      ]
     },
     "execution_count": 10,
     "metadata": {},
     "output_type": "execute_result"
    }
   ],
   "source": [
    "text = process_text(text)\n",
    "text"
   ]
  },
  {
   "cell_type": "markdown",
   "metadata": {},
   "source": [
    "#### Check the data types of fields"
   ]
  },
  {
   "cell_type": "code",
   "execution_count": 11,
   "metadata": {
    "scrolled": true
   },
   "outputs": [
    {
     "data": {
      "text/plain": [
       "index            int64\n",
       "name            object\n",
       "title           object\n",
       "url_comments    object\n",
       "comments        object\n",
       "selftext        object\n",
       "label            int64\n",
       "dtype: object"
      ]
     },
     "execution_count": 11,
     "metadata": {},
     "output_type": "execute_result"
    }
   ],
   "source": [
    "data.dtypes"
   ]
  },
  {
   "cell_type": "markdown",
   "metadata": {},
   "source": [
    "#### Check null values"
   ]
  },
  {
   "cell_type": "code",
   "execution_count": 12,
   "metadata": {},
   "outputs": [
    {
     "data": {
      "text/plain": [
       "index              0\n",
       "name               0\n",
       "title              0\n",
       "url_comments       0\n",
       "comments         513\n",
       "selftext        1911\n",
       "label              0\n",
       "dtype: int64"
      ]
     },
     "execution_count": 12,
     "metadata": {},
     "output_type": "execute_result"
    }
   ],
   "source": [
    "data.isnull().sum()"
   ]
  },
  {
   "cell_type": "markdown",
   "metadata": {},
   "source": [
    "Some empty values in comments and selftext."
   ]
  },
  {
   "cell_type": "markdown",
   "metadata": {},
   "source": [
    "### Further processing text"
   ]
  },
  {
   "cell_type": "code",
   "execution_count": 13,
   "metadata": {},
   "outputs": [],
   "source": [
    "# Processing text\n",
    "data[\"title\"] = data[\"title\"].map(process_text)\n",
    "data[\"comments\"] = data[\"comments\"].map(process_text)\n",
    "data[\"selftext\"] = data[\"selftext\"].map(process_text)"
   ]
  },
  {
   "cell_type": "code",
   "execution_count": 14,
   "metadata": {},
   "outputs": [
    {
     "data": {
      "text/html": [
       "<div>\n",
       "<style scoped>\n",
       "    .dataframe tbody tr th:only-of-type {\n",
       "        vertical-align: middle;\n",
       "    }\n",
       "\n",
       "    .dataframe tbody tr th {\n",
       "        vertical-align: top;\n",
       "    }\n",
       "\n",
       "    .dataframe thead th {\n",
       "        text-align: right;\n",
       "    }\n",
       "</style>\n",
       "<table border=\"1\" class=\"dataframe\">\n",
       "  <thead>\n",
       "    <tr style=\"text-align: right;\">\n",
       "      <th></th>\n",
       "      <th>title</th>\n",
       "      <th>comments</th>\n",
       "      <th>selftext</th>\n",
       "    </tr>\n",
       "  </thead>\n",
       "  <tbody>\n",
       "    <tr>\n",
       "      <th>0</th>\n",
       "      <td>house democrat launch second impeachment trump...</td>\n",
       "      <td>waiting response penny th moving full speed ah...</td>\n",
       "      <td>house article impeachment introduced et today ...</td>\n",
       "    </tr>\n",
       "    <tr>\n",
       "      <th>1</th>\n",
       "      <td></td>\n",
       "      <td>every time look penny reminds steve carell off...</td>\n",
       "      <td>nan</td>\n",
       "    </tr>\n",
       "    <tr>\n",
       "      <th>2</th>\n",
       "      <td>camp auschwitz guy identified</td>\n",
       "      <td>trump thought riot looked low class wonder shi...</td>\n",
       "      <td>nan</td>\n",
       "    </tr>\n",
       "    <tr>\n",
       "      <th>3</th>\n",
       "      <td>crawling back</td>\n",
       "      <td>love aoc take prisoner lay hold accountable wa...</td>\n",
       "      <td>nan</td>\n",
       "    </tr>\n",
       "    <tr>\n",
       "      <th>4</th>\n",
       "      <td>use th amendment ban trump</td>\n",
       "      <td>yep democrat got ahold senate house white hous...</td>\n",
       "      <td>nan</td>\n",
       "    </tr>\n",
       "  </tbody>\n",
       "</table>\n",
       "</div>"
      ],
      "text/plain": [
       "                                               title  \\\n",
       "0  house democrat launch second impeachment trump...   \n",
       "1                                                      \n",
       "2                      camp auschwitz guy identified   \n",
       "3                                      crawling back   \n",
       "4                         use th amendment ban trump   \n",
       "\n",
       "                                            comments  \\\n",
       "0  waiting response penny th moving full speed ah...   \n",
       "1  every time look penny reminds steve carell off...   \n",
       "2  trump thought riot looked low class wonder shi...   \n",
       "3  love aoc take prisoner lay hold accountable wa...   \n",
       "4  yep democrat got ahold senate house white hous...   \n",
       "\n",
       "                                            selftext  \n",
       "0  house article impeachment introduced et today ...  \n",
       "1                                                nan  \n",
       "2                                                nan  \n",
       "3                                                nan  \n",
       "4                                                nan  "
      ]
     },
     "execution_count": 14,
     "metadata": {},
     "output_type": "execute_result"
    }
   ],
   "source": [
    "data[[\"title\", \"comments\", \"selftext\"]].head()"
   ]
  },
  {
   "cell_type": "markdown",
   "metadata": {},
   "source": [
    "#### Processing Title + Comments + Selftext"
   ]
  },
  {
   "cell_type": "code",
   "execution_count": 15,
   "metadata": {},
   "outputs": [],
   "source": [
    "### Combining three fields: Title + Comments + Selftext as Inputs (X)# Create data for model inputs - title and comments and selftext\n",
    "# both X and y are to be lists\n",
    "X = data[\"title\"] + \" \" + data[\"comments\"] + \" \" + data[\"selftext\"]\n",
    "y = data[\"label\"]"
   ]
  },
  {
   "cell_type": "markdown",
   "metadata": {},
   "source": [
    "#### Splitting training and test datasets"
   ]
  },
  {
   "cell_type": "code",
   "execution_count": 16,
   "metadata": {},
   "outputs": [],
   "source": [
    "X_train, X_test, y_train, y_test = train_test_split(X, y, stratify=y, random_state=42)"
   ]
  },
  {
   "cell_type": "code",
   "execution_count": 17,
   "metadata": {},
   "outputs": [
    {
     "data": {
      "text/plain": [
       "(1492,)"
      ]
     },
     "execution_count": 17,
     "metadata": {},
     "output_type": "execute_result"
    }
   ],
   "source": [
    "X_train.shape"
   ]
  },
  {
   "cell_type": "code",
   "execution_count": 18,
   "metadata": {},
   "outputs": [
    {
     "data": {
      "text/plain": [
       "1492"
      ]
     },
     "execution_count": 18,
     "metadata": {},
     "output_type": "execute_result"
    }
   ],
   "source": [
    "len(y_train)"
   ]
  },
  {
   "cell_type": "markdown",
   "metadata": {},
   "source": [
    "## TF-IDF Vectorizer"
   ]
  },
  {
   "cell_type": "code",
   "execution_count": 19,
   "metadata": {},
   "outputs": [],
   "source": [
    "tvec = TfidfVectorizer(ngram_range=(1,2))"
   ]
  },
  {
   "cell_type": "code",
   "execution_count": 20,
   "metadata": {},
   "outputs": [
    {
     "data": {
      "text/plain": [
       "(1492, 80055)"
      ]
     },
     "execution_count": 20,
     "metadata": {},
     "output_type": "execute_result"
    }
   ],
   "source": [
    "X_train_tvec = tvec.fit_transform(X_train).todense()\n",
    "X_train_tvec_df = pd.DataFrame(X_train_tvec, columns = tvec.get_feature_names())\n",
    "X_train_tvec_df.shape"
   ]
  },
  {
   "cell_type": "code",
   "execution_count": 21,
   "metadata": {},
   "outputs": [
    {
     "data": {
      "text/html": [
       "<div>\n",
       "<style scoped>\n",
       "    .dataframe tbody tr th:only-of-type {\n",
       "        vertical-align: middle;\n",
       "    }\n",
       "\n",
       "    .dataframe tbody tr th {\n",
       "        vertical-align: top;\n",
       "    }\n",
       "\n",
       "    .dataframe thead th {\n",
       "        text-align: right;\n",
       "    }\n",
       "</style>\n",
       "<table border=\"1\" class=\"dataframe\">\n",
       "  <thead>\n",
       "    <tr style=\"text-align: right;\">\n",
       "      <th></th>\n",
       "      <th>aaaanndddd</th>\n",
       "      <th>aaaanndddd someone</th>\n",
       "      <th>aad</th>\n",
       "      <th>aad amp</th>\n",
       "      <th>aae</th>\n",
       "      <th>aae ddf</th>\n",
       "      <th>aaouww</th>\n",
       "      <th>aaouww cnfwaxy</th>\n",
       "      <th>ab</th>\n",
       "      <th>ab ab</th>\n",
       "      <th>...</th>\n",
       "      <th>zuck</th>\n",
       "      <th>zuck need</th>\n",
       "      <th>zuckerberg</th>\n",
       "      <th>zuckerberg biden</th>\n",
       "      <th>zuckerberg bloomberg</th>\n",
       "      <th>zuckerberg cancer</th>\n",
       "      <th>zuckerberg censor</th>\n",
       "      <th>zuckerberg corruption</th>\n",
       "      <th>zuckerberg eye</th>\n",
       "      <th>zuckerberg shut</th>\n",
       "    </tr>\n",
       "  </thead>\n",
       "  <tbody>\n",
       "    <tr>\n",
       "      <th>0</th>\n",
       "      <td>0.0</td>\n",
       "      <td>0.0</td>\n",
       "      <td>0.0</td>\n",
       "      <td>0.0</td>\n",
       "      <td>0.0</td>\n",
       "      <td>0.0</td>\n",
       "      <td>0.0</td>\n",
       "      <td>0.0</td>\n",
       "      <td>0.0</td>\n",
       "      <td>0.0</td>\n",
       "      <td>...</td>\n",
       "      <td>0.0</td>\n",
       "      <td>0.0</td>\n",
       "      <td>0.0</td>\n",
       "      <td>0.0</td>\n",
       "      <td>0.0</td>\n",
       "      <td>0.0</td>\n",
       "      <td>0.0</td>\n",
       "      <td>0.0</td>\n",
       "      <td>0.0</td>\n",
       "      <td>0.0</td>\n",
       "    </tr>\n",
       "    <tr>\n",
       "      <th>1</th>\n",
       "      <td>0.0</td>\n",
       "      <td>0.0</td>\n",
       "      <td>0.0</td>\n",
       "      <td>0.0</td>\n",
       "      <td>0.0</td>\n",
       "      <td>0.0</td>\n",
       "      <td>0.0</td>\n",
       "      <td>0.0</td>\n",
       "      <td>0.0</td>\n",
       "      <td>0.0</td>\n",
       "      <td>...</td>\n",
       "      <td>0.0</td>\n",
       "      <td>0.0</td>\n",
       "      <td>0.0</td>\n",
       "      <td>0.0</td>\n",
       "      <td>0.0</td>\n",
       "      <td>0.0</td>\n",
       "      <td>0.0</td>\n",
       "      <td>0.0</td>\n",
       "      <td>0.0</td>\n",
       "      <td>0.0</td>\n",
       "    </tr>\n",
       "    <tr>\n",
       "      <th>2</th>\n",
       "      <td>0.0</td>\n",
       "      <td>0.0</td>\n",
       "      <td>0.0</td>\n",
       "      <td>0.0</td>\n",
       "      <td>0.0</td>\n",
       "      <td>0.0</td>\n",
       "      <td>0.0</td>\n",
       "      <td>0.0</td>\n",
       "      <td>0.0</td>\n",
       "      <td>0.0</td>\n",
       "      <td>...</td>\n",
       "      <td>0.0</td>\n",
       "      <td>0.0</td>\n",
       "      <td>0.0</td>\n",
       "      <td>0.0</td>\n",
       "      <td>0.0</td>\n",
       "      <td>0.0</td>\n",
       "      <td>0.0</td>\n",
       "      <td>0.0</td>\n",
       "      <td>0.0</td>\n",
       "      <td>0.0</td>\n",
       "    </tr>\n",
       "    <tr>\n",
       "      <th>3</th>\n",
       "      <td>0.0</td>\n",
       "      <td>0.0</td>\n",
       "      <td>0.0</td>\n",
       "      <td>0.0</td>\n",
       "      <td>0.0</td>\n",
       "      <td>0.0</td>\n",
       "      <td>0.0</td>\n",
       "      <td>0.0</td>\n",
       "      <td>0.0</td>\n",
       "      <td>0.0</td>\n",
       "      <td>...</td>\n",
       "      <td>0.0</td>\n",
       "      <td>0.0</td>\n",
       "      <td>0.0</td>\n",
       "      <td>0.0</td>\n",
       "      <td>0.0</td>\n",
       "      <td>0.0</td>\n",
       "      <td>0.0</td>\n",
       "      <td>0.0</td>\n",
       "      <td>0.0</td>\n",
       "      <td>0.0</td>\n",
       "    </tr>\n",
       "    <tr>\n",
       "      <th>4</th>\n",
       "      <td>0.0</td>\n",
       "      <td>0.0</td>\n",
       "      <td>0.0</td>\n",
       "      <td>0.0</td>\n",
       "      <td>0.0</td>\n",
       "      <td>0.0</td>\n",
       "      <td>0.0</td>\n",
       "      <td>0.0</td>\n",
       "      <td>0.0</td>\n",
       "      <td>0.0</td>\n",
       "      <td>...</td>\n",
       "      <td>0.0</td>\n",
       "      <td>0.0</td>\n",
       "      <td>0.0</td>\n",
       "      <td>0.0</td>\n",
       "      <td>0.0</td>\n",
       "      <td>0.0</td>\n",
       "      <td>0.0</td>\n",
       "      <td>0.0</td>\n",
       "      <td>0.0</td>\n",
       "      <td>0.0</td>\n",
       "    </tr>\n",
       "  </tbody>\n",
       "</table>\n",
       "<p>5 rows × 80055 columns</p>\n",
       "</div>"
      ],
      "text/plain": [
       "   aaaanndddd  aaaanndddd someone  aad  aad amp  aae  aae ddf  aaouww  \\\n",
       "0         0.0                 0.0  0.0      0.0  0.0      0.0     0.0   \n",
       "1         0.0                 0.0  0.0      0.0  0.0      0.0     0.0   \n",
       "2         0.0                 0.0  0.0      0.0  0.0      0.0     0.0   \n",
       "3         0.0                 0.0  0.0      0.0  0.0      0.0     0.0   \n",
       "4         0.0                 0.0  0.0      0.0  0.0      0.0     0.0   \n",
       "\n",
       "   aaouww cnfwaxy   ab  ab ab  ...  zuck  zuck need  zuckerberg  \\\n",
       "0             0.0  0.0    0.0  ...   0.0        0.0         0.0   \n",
       "1             0.0  0.0    0.0  ...   0.0        0.0         0.0   \n",
       "2             0.0  0.0    0.0  ...   0.0        0.0         0.0   \n",
       "3             0.0  0.0    0.0  ...   0.0        0.0         0.0   \n",
       "4             0.0  0.0    0.0  ...   0.0        0.0         0.0   \n",
       "\n",
       "   zuckerberg biden  zuckerberg bloomberg  zuckerberg cancer  \\\n",
       "0               0.0                   0.0                0.0   \n",
       "1               0.0                   0.0                0.0   \n",
       "2               0.0                   0.0                0.0   \n",
       "3               0.0                   0.0                0.0   \n",
       "4               0.0                   0.0                0.0   \n",
       "\n",
       "   zuckerberg censor  zuckerberg corruption  zuckerberg eye  zuckerberg shut  \n",
       "0                0.0                    0.0             0.0              0.0  \n",
       "1                0.0                    0.0             0.0              0.0  \n",
       "2                0.0                    0.0             0.0              0.0  \n",
       "3                0.0                    0.0             0.0              0.0  \n",
       "4                0.0                    0.0             0.0              0.0  \n",
       "\n",
       "[5 rows x 80055 columns]"
      ]
     },
     "execution_count": 21,
     "metadata": {},
     "output_type": "execute_result"
    }
   ],
   "source": [
    "X_train_tvec_df.head()"
   ]
  },
  {
   "cell_type": "code",
   "execution_count": 22,
   "metadata": {},
   "outputs": [
    {
     "data": {
      "text/plain": [
       "nan                 57.329407\n",
       "nan nan             40.712352\n",
       "trump               31.587999\n",
       "wa                  21.054879\n",
       "people              16.861338\n",
       "                      ...    \n",
       "damien               0.017946\n",
       "damien thaddeus      0.017946\n",
       "lackey continues     0.017946\n",
       "ej http              0.017946\n",
       "voter http           0.017946\n",
       "Name: Total, Length: 80055, dtype: float64"
      ]
     },
     "execution_count": 22,
     "metadata": {},
     "output_type": "execute_result"
    }
   ],
   "source": [
    "# find out how many times each word appear in the corpus by creating a 'Total' row at the end of the dataframe:\n",
    "X_train_tvec_df.loc['Total']= X_train_tvec_df.sum(axis=0)\n",
    "X_train_tvec_df.loc['Total',:].sort_values(ascending=False)"
   ]
  },
  {
   "cell_type": "code",
   "execution_count": 23,
   "metadata": {},
   "outputs": [
    {
     "data": {
      "text/html": [
       "<div>\n",
       "<style scoped>\n",
       "    .dataframe tbody tr th:only-of-type {\n",
       "        vertical-align: middle;\n",
       "    }\n",
       "\n",
       "    .dataframe tbody tr th {\n",
       "        vertical-align: top;\n",
       "    }\n",
       "\n",
       "    .dataframe thead th {\n",
       "        text-align: right;\n",
       "    }\n",
       "</style>\n",
       "<table border=\"1\" class=\"dataframe\">\n",
       "  <thead>\n",
       "    <tr style=\"text-align: right;\">\n",
       "      <th></th>\n",
       "      <th>Total</th>\n",
       "    </tr>\n",
       "  </thead>\n",
       "  <tbody>\n",
       "    <tr>\n",
       "      <th>nan</th>\n",
       "      <td>57.329407</td>\n",
       "    </tr>\n",
       "    <tr>\n",
       "      <th>nan nan</th>\n",
       "      <td>40.712352</td>\n",
       "    </tr>\n",
       "    <tr>\n",
       "      <th>trump</th>\n",
       "      <td>31.587999</td>\n",
       "    </tr>\n",
       "    <tr>\n",
       "      <th>wa</th>\n",
       "      <td>21.054879</td>\n",
       "    </tr>\n",
       "    <tr>\n",
       "      <th>people</th>\n",
       "      <td>16.861338</td>\n",
       "    </tr>\n",
       "  </tbody>\n",
       "</table>\n",
       "</div>"
      ],
      "text/plain": [
       "             Total\n",
       "nan      57.329407\n",
       "nan nan  40.712352\n",
       "trump    31.587999\n",
       "wa       21.054879\n",
       "people   16.861338"
      ]
     },
     "execution_count": 23,
     "metadata": {},
     "output_type": "execute_result"
    }
   ],
   "source": [
    "### Create a DataFrame for the above Total Word Count, and then check, for each specified frequency (2, 10, 50, etc), what is the associated number of features (words) that appear in the corpus.\n",
    "X_train_total_df = pd.DataFrame(X_train_tvec_df.loc['Total',:].sort_values(ascending=False))\n",
    "X_train_total_df.head()"
   ]
  },
  {
   "cell_type": "markdown",
   "metadata": {},
   "source": [
    "Similar redundant words to be removed as additional stop words"
   ]
  },
  {
   "cell_type": "code",
   "execution_count": 24,
   "metadata": {},
   "outputs": [
    {
     "name": "stdout",
     "output_type": "stream",
     "text": [
      "78905\n",
      "79584\n",
      "80035\n",
      "80054\n"
     ]
    }
   ],
   "source": [
    "print(len(X_train_total_df.loc[X_train_total_df['Total'] <= 1]))\n",
    "print(len(X_train_total_df.loc[X_train_total_df['Total'] <= 2]))\n",
    "print(len(X_train_total_df.loc[X_train_total_df['Total'] <= 10]))\n",
    "print(len(X_train_total_df.loc[X_train_total_df['Total'] <= 50]))"
   ]
  },
  {
   "cell_type": "code",
   "execution_count": 25,
   "metadata": {},
   "outputs": [
    {
     "data": {
      "text/plain": [
       "20"
      ]
     },
     "execution_count": 25,
     "metadata": {},
     "output_type": "execute_result"
    }
   ],
   "source": [
    "# Features with the highest TFIDF scores\n",
    "threshold = 10\n",
    "len(X_train_total_df[X_train_total_df.Total > threshold].index.to_list())"
   ]
  },
  {
   "cell_type": "code",
   "execution_count": 26,
   "metadata": {
    "scrolled": true
   },
   "outputs": [
    {
     "data": {
      "text/plain": [
       "<BarContainer object of 20 artists>"
      ]
     },
     "execution_count": 26,
     "metadata": {},
     "output_type": "execute_result"
    },
    {
     "data": {
      "image/png": "[encoded data removed]",
      "text/plain": [
       "<Figure size 720x720 with 1 Axes>"
      ]
     },
     "metadata": {
      "needs_background": "light"
     },
     "output_type": "display_data"
    }
   ],
   "source": [
    "# plot histogram to observe the distribution\n",
    "figure = plt.figure(figsize=[10,10])\n",
    "plt.title(\"TFIDF scores\")\n",
    "plt.barh(X_train_total_df[X_train_total_df.Total > threshold].index.to_list(), X_train_total_df[X_train_total_df.Total > threshold][\"Total\"])"
   ]
  },
  {
   "cell_type": "code",
   "execution_count": 27,
   "metadata": {},
   "outputs": [],
   "source": [
    "### Additional stop words"
   ]
  },
  {
   "cell_type": "code",
   "execution_count": 28,
   "metadata": {},
   "outputs": [],
   "source": [
    "additional_stop_words = [\"nan\", \"nan nan\", \"wa\", \"ha\", \"would\"]"
   ]
  },
  {
   "cell_type": "markdown",
   "metadata": {},
   "source": [
    "### Using Logistic Regression"
   ]
  },
  {
   "cell_type": "code",
   "execution_count": 29,
   "metadata": {},
   "outputs": [],
   "source": [
    "pipe = Pipeline([\n",
    "    (\"tvec\", TfidfVectorizer(ngram_range=(1, 2), stop_words=additional_stop_words)),\n",
    "    (\"lr\", LogisticRegression())\n",
    "    ])"
   ]
  },
  {
   "cell_type": "code",
   "execution_count": 30,
   "metadata": {},
   "outputs": [
    {
     "data": {
      "text/plain": [
       "GridSearchCV(cv=5,\n",
       "             estimator=Pipeline(steps=[('tvec',\n",
       "                                        TfidfVectorizer(ngram_range=(1, 2),\n",
       "                                                        stop_words=['nan',\n",
       "                                                                    'nan nan',\n",
       "                                                                    'wa', 'ha',\n",
       "                                                                    'would'])),\n",
       "                                       ('lr', LogisticRegression())]),\n",
       "             n_jobs=-1,\n",
       "             param_grid={'tvec__max_df': [0.2, 0.25, 0.3],\n",
       "                         'tvec__max_features': [30, 60, 90],\n",
       "                         'tvec__min_df': [2, 3]})"
      ]
     },
     "execution_count": 30,
     "metadata": {},
     "output_type": "execute_result"
    }
   ],
   "source": [
    "pipe_params = {\n",
    "    'tvec__max_features': [30, 60, 90],\n",
    "    'tvec__min_df': [2, 3],\n",
    "    'tvec__max_df': [.2, .25, .3],\n",
    "}\n",
    "gs = GridSearchCV(pipe, param_grid=pipe_params, cv=5, n_jobs = -1)\n",
    "gs.fit(X_train, y_train)"
   ]
  },
  {
   "cell_type": "code",
   "execution_count": 31,
   "metadata": {},
   "outputs": [
    {
     "data": {
      "text/plain": [
       "array([0.59854998, 0.59854998, 0.626693  , 0.626693  , 0.63139772,\n",
       "       0.63005769, 0.59052547, 0.59386995, 0.62803304, 0.6273619 ,\n",
       "       0.62335975, 0.62537317, 0.59052547, 0.59386995, 0.62803304,\n",
       "       0.6273619 , 0.62335975, 0.62537317])"
      ]
     },
     "execution_count": 31,
     "metadata": {},
     "output_type": "execute_result"
    }
   ],
   "source": [
    "gs.cv_results_['mean_test_score']"
   ]
  },
  {
   "cell_type": "code",
   "execution_count": 32,
   "metadata": {},
   "outputs": [
    {
     "name": "stdout",
     "output_type": "stream",
     "text": [
      "Validation best score: 0.6313977239568136\n",
      "Best params: {'tvec__max_df': 0.2, 'tvec__max_features': 90, 'tvec__min_df': 2}\n",
      "Training score: 0.6802949061662198\n",
      "Test score: 0.6345381526104418\n"
     ]
    }
   ],
   "source": [
    "print(f'Validation best score: {gs.best_score_}')\n",
    "print(f'Best params: {gs.best_params_}')\n",
    "print(f'Training score: {gs.score(X_train, y_train)}')\n",
    "print(f'Test score: {gs.score(X_test, y_test)}')"
   ]
  },
  {
   "cell_type": "markdown",
   "metadata": {},
   "source": [
    "#### Increasing max_features"
   ]
  },
  {
   "cell_type": "code",
   "execution_count": 33,
   "metadata": {},
   "outputs": [
    {
     "data": {
      "text/plain": [
       "GridSearchCV(cv=5,\n",
       "             estimator=Pipeline(steps=[('tvec',\n",
       "                                        TfidfVectorizer(ngram_range=(1, 2),\n",
       "                                                        stop_words=['nan',\n",
       "                                                                    'nan nan',\n",
       "                                                                    'wa', 'ha',\n",
       "                                                                    'would'])),\n",
       "                                       ('lr', LogisticRegression())]),\n",
       "             n_jobs=-1,\n",
       "             param_grid={'tvec__max_df': [0.2, 0.25, 0.3],\n",
       "                         'tvec__max_features': [300, 400, 500],\n",
       "                         'tvec__min_df': [2, 3]})"
      ]
     },
     "execution_count": 33,
     "metadata": {},
     "output_type": "execute_result"
    }
   ],
   "source": [
    "pipe_params = {\n",
    "    'tvec__max_features': [300, 400, 500],\n",
    "    'tvec__min_df': [2, 3],\n",
    "    'tvec__max_df': [.2, .25, .3],\n",
    "}\n",
    "gs = GridSearchCV(pipe, param_grid=pipe_params, cv=5, n_jobs = -1)\n",
    "gs.fit(X_train, y_train)"
   ]
  },
  {
   "cell_type": "code",
   "execution_count": 34,
   "metadata": {},
   "outputs": [
    {
     "data": {
      "text/plain": [
       "array([0.69973738, 0.69973738, 0.71315346, 0.71114453, 0.71852259,\n",
       "       0.71718255, 0.69503939, 0.69771947, 0.70913335, 0.71583578,\n",
       "       0.71918475, 0.71852259, 0.69503939, 0.69771947, 0.70913335,\n",
       "       0.71583578, 0.71918475, 0.71852259])"
      ]
     },
     "execution_count": 34,
     "metadata": {},
     "output_type": "execute_result"
    }
   ],
   "source": [
    "gs.cv_results_['mean_test_score']"
   ]
  },
  {
   "cell_type": "code",
   "execution_count": 35,
   "metadata": {},
   "outputs": [
    {
     "name": "stdout",
     "output_type": "stream",
     "text": [
      "Validation best score: 0.7191847545509641\n",
      "Best params: {'tvec__max_df': 0.25, 'tvec__max_features': 500, 'tvec__min_df': 2}\n",
      "Training score: 0.8398123324396782\n",
      "Test score: 0.7389558232931727\n"
     ]
    }
   ],
   "source": [
    "print(f'Validation best score: {gs.best_score_}')\n",
    "print(f'Best params: {gs.best_params_}')\n",
    "print(f'Training score: {gs.score(X_train, y_train)}')\n",
    "print(f'Test score: {gs.score(X_test, y_test)}')"
   ]
  },
  {
   "cell_type": "markdown",
   "metadata": {},
   "source": [
    "Better performance, though there are signs of overfitting the entire training set"
   ]
  },
  {
   "cell_type": "markdown",
   "metadata": {},
   "source": [
    "### Using Multinomial NB"
   ]
  },
  {
   "cell_type": "code",
   "execution_count": 36,
   "metadata": {},
   "outputs": [],
   "source": [
    "pipe2 = Pipeline([\n",
    "    (\"tvec\", TfidfVectorizer(stop_words=additional_stop_words, ngram_range=(1,2))),\n",
    "    (\"nb\", MultinomialNB())\n",
    "    ])"
   ]
  },
  {
   "cell_type": "code",
   "execution_count": null,
   "metadata": {},
   "outputs": [],
   "source": [
    "pipe_params = {\n",
    "    'tvec__max_features': [600, 800, 1000],\n",
    "    'tvec__min_df': [2, 3, 4],\n",
    "    'tvec__max_df': [.05, .1, .15, .2],\n",
    "}\n",
    "gs2 = GridSearchCV(pipe2, param_grid=pipe_params, cv=5, n_jobs = -1)\n",
    "gs2.fit(X_train, y_train)"
   ]
  },
  {
   "cell_type": "code",
   "execution_count": null,
   "metadata": {},
   "outputs": [],
   "source": [
    "gs2.cv_results_['mean_test_score']"
   ]
  },
  {
   "cell_type": "code",
   "execution_count": null,
   "metadata": {},
   "outputs": [],
   "source": [
    "print(f'Validation best score: {gs2.best_score_}')\n",
    "print(f'Best params: {gs2.best_params_}')\n",
    "print(f'Training score: {gs2.score(X_train, y_train)}')\n",
    "print(f'Test score: {gs2.score(X_test, y_test)}')"
   ]
  },
  {
   "cell_type": "markdown",
   "metadata": {},
   "source": [
    "Better performance using TFIDF and Multinomial, compared to CountVectorizator and Multinomial"
   ]
  },
  {
   "cell_type": "markdown",
   "metadata": {},
   "source": [
    "### Using Random Forest"
   ]
  },
  {
   "cell_type": "code",
   "execution_count": null,
   "metadata": {},
   "outputs": [],
   "source": [
    "pipe3 = Pipeline([\n",
    "    (\"tvec\", TfidfVectorizer(stop_words=additional_stop_words, ngram_range=(1,2))),\n",
    "    (\"clf\", RandomForestClassifier(max_depth=2, random_state=42))\n",
    "    ])"
   ]
  },
  {
   "cell_type": "code",
   "execution_count": null,
   "metadata": {},
   "outputs": [],
   "source": [
    "pipe_params = {\n",
    "    'tvec__max_features': [600, 800, 1000],\n",
    "    'tvec__min_df': [2, 3, 4],\n",
    "    'tvec__max_df': [.05, .1, .15, .2],\n",
    "}\n",
    "gs3 = GridSearchCV(pipe3, param_grid=pipe_params, cv=5, n_jobs = -1)\n",
    "gs3.fit(X_train, y_train)"
   ]
  },
  {
   "cell_type": "code",
   "execution_count": null,
   "metadata": {},
   "outputs": [],
   "source": [
    "print(f'Validation best score: {gs3.best_score_}')\n",
    "print(f'Best params: {gs3.best_params_}')\n",
    "print(f'Training score: {gs3.score(X_train, y_train)}')\n",
    "print(f'Test score: {gs3.score(X_test, y_test)}')"
   ]
  },
  {
   "cell_type": "markdown",
   "metadata": {},
   "source": [
    "Not very good performance compared to Multinomial and Logistic Regresssion"
   ]
  },
  {
   "cell_type": "code",
   "execution_count": null,
   "metadata": {},
   "outputs": [],
   "source": []
  }
 ],
 "metadata": {
  "anaconda-cloud": {},
  "kernelspec": {
   "display_name": "Python 3",
   "language": "python",
   "name": "python3"
  },
  "language_info": {
   "codemirror_mode": {
    "name": "ipython",
    "version": 3
   },
   "file_extension": ".py",
   "mimetype": "text/x-python",
   "name": "python",
   "nbconvert_exporter": "python",
   "pygments_lexer": "ipython3",
   "version": "3.7.7"
  }
 },
 "nbformat": 4,
 "nbformat_minor": 2
}
